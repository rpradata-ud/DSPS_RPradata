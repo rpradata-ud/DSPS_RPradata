{
  "nbformat": 4,
  "nbformat_minor": 0,
  "metadata": {
    "colab": {
      "provenance": [],
      "authorship_tag": "ABX9TyPcvEEkF+aYPB8w1HSp2TJE",
      "include_colab_link": true
    },
    "kernelspec": {
      "name": "python3",
      "display_name": "Python 3"
    },
    "language_info": {
      "name": "python"
    }
  },
  "cells": [
    {
      "cell_type": "markdown",
      "metadata": {
        "id": "view-in-github",
        "colab_type": "text"
      },
      "source": [
        "<a href=\"https://colab.research.google.com/github/rpradata-ud/DSPS_RPradata/blob/main/HW/HW4.5/class_10_16_FitLinetoGRB.ipynb\" target=\"_parent\"><img src=\"https://colab.research.google.com/assets/colab-badge.svg\" alt=\"Open In Colab\"/></a>"
      ]
    },
    {
      "cell_type": "code",
      "source": [
        "import pandas as pd\n",
        "from matplotlib import pylab as pl\n",
        "\n",
        "\n",
        "import numpy as np"
      ],
      "metadata": {
        "id": "O_2Cu1DT6NPl"
      },
      "execution_count": 4,
      "outputs": []
    },
    {
      "cell_type": "code",
      "source": [
        "\n",
        "grbAG = pd.read_csv('https://raw.githubusercontent.com/fedhere/DSPS_FBianco/main/data/grb050525A.csv')\n",
        "\n",
        "grbAG.head()"
      ],
      "metadata": {
        "colab": {
          "base_uri": "https://localhost:8080/",
          "height": 206
        },
        "id": "Lwhwt4Bn6TdE",
        "outputId": "39b17764-9333-4c46-8f5f-d0cae0b08f32"
      },
      "execution_count": 5,
      "outputs": [
        {
          "output_type": "execute_result",
          "data": {
            "text/plain": [
              "  filter  time    mag  magerr  upperlimit\n",
              "0      V    66  13.21    0.24           0\n",
              "1      V    67  12.90    0.23           0\n",
              "2      V    68  12.86    0.23           0\n",
              "3      V    69  13.01    0.23           0\n",
              "4      V    70  12.97    0.23           0"
            ],
            "text/html": [
              "\n",
              "  <div id=\"df-870c59e4-248d-4bd8-92a2-c18a69030406\" class=\"colab-df-container\">\n",
              "    <div>\n",
              "<style scoped>\n",
              "    .dataframe tbody tr th:only-of-type {\n",
              "        vertical-align: middle;\n",
              "    }\n",
              "\n",
              "    .dataframe tbody tr th {\n",
              "        vertical-align: top;\n",
              "    }\n",
              "\n",
              "    .dataframe thead th {\n",
              "        text-align: right;\n",
              "    }\n",
              "</style>\n",
              "<table border=\"1\" class=\"dataframe\">\n",
              "  <thead>\n",
              "    <tr style=\"text-align: right;\">\n",
              "      <th></th>\n",
              "      <th>filter</th>\n",
              "      <th>time</th>\n",
              "      <th>mag</th>\n",
              "      <th>magerr</th>\n",
              "      <th>upperlimit</th>\n",
              "    </tr>\n",
              "  </thead>\n",
              "  <tbody>\n",
              "    <tr>\n",
              "      <th>0</th>\n",
              "      <td>V</td>\n",
              "      <td>66</td>\n",
              "      <td>13.21</td>\n",
              "      <td>0.24</td>\n",
              "      <td>0</td>\n",
              "    </tr>\n",
              "    <tr>\n",
              "      <th>1</th>\n",
              "      <td>V</td>\n",
              "      <td>67</td>\n",
              "      <td>12.90</td>\n",
              "      <td>0.23</td>\n",
              "      <td>0</td>\n",
              "    </tr>\n",
              "    <tr>\n",
              "      <th>2</th>\n",
              "      <td>V</td>\n",
              "      <td>68</td>\n",
              "      <td>12.86</td>\n",
              "      <td>0.23</td>\n",
              "      <td>0</td>\n",
              "    </tr>\n",
              "    <tr>\n",
              "      <th>3</th>\n",
              "      <td>V</td>\n",
              "      <td>69</td>\n",
              "      <td>13.01</td>\n",
              "      <td>0.23</td>\n",
              "      <td>0</td>\n",
              "    </tr>\n",
              "    <tr>\n",
              "      <th>4</th>\n",
              "      <td>V</td>\n",
              "      <td>70</td>\n",
              "      <td>12.97</td>\n",
              "      <td>0.23</td>\n",
              "      <td>0</td>\n",
              "    </tr>\n",
              "  </tbody>\n",
              "</table>\n",
              "</div>\n",
              "    <div class=\"colab-df-buttons\">\n",
              "\n",
              "  <div class=\"colab-df-container\">\n",
              "    <button class=\"colab-df-convert\" onclick=\"convertToInteractive('df-870c59e4-248d-4bd8-92a2-c18a69030406')\"\n",
              "            title=\"Convert this dataframe to an interactive table.\"\n",
              "            style=\"display:none;\">\n",
              "\n",
              "  <svg xmlns=\"http://www.w3.org/2000/svg\" height=\"24px\" viewBox=\"0 -960 960 960\">\n",
              "    <path d=\"M120-120v-720h720v720H120Zm60-500h600v-160H180v160Zm220 220h160v-160H400v160Zm0 220h160v-160H400v160ZM180-400h160v-160H180v160Zm440 0h160v-160H620v160ZM180-180h160v-160H180v160Zm440 0h160v-160H620v160Z\"/>\n",
              "  </svg>\n",
              "    </button>\n",
              "\n",
              "  <style>\n",
              "    .colab-df-container {\n",
              "      display:flex;\n",
              "      gap: 12px;\n",
              "    }\n",
              "\n",
              "    .colab-df-convert {\n",
              "      background-color: #E8F0FE;\n",
              "      border: none;\n",
              "      border-radius: 50%;\n",
              "      cursor: pointer;\n",
              "      display: none;\n",
              "      fill: #1967D2;\n",
              "      height: 32px;\n",
              "      padding: 0 0 0 0;\n",
              "      width: 32px;\n",
              "    }\n",
              "\n",
              "    .colab-df-convert:hover {\n",
              "      background-color: #E2EBFA;\n",
              "      box-shadow: 0px 1px 2px rgba(60, 64, 67, 0.3), 0px 1px 3px 1px rgba(60, 64, 67, 0.15);\n",
              "      fill: #174EA6;\n",
              "    }\n",
              "\n",
              "    .colab-df-buttons div {\n",
              "      margin-bottom: 4px;\n",
              "    }\n",
              "\n",
              "    [theme=dark] .colab-df-convert {\n",
              "      background-color: #3B4455;\n",
              "      fill: #D2E3FC;\n",
              "    }\n",
              "\n",
              "    [theme=dark] .colab-df-convert:hover {\n",
              "      background-color: #434B5C;\n",
              "      box-shadow: 0px 1px 3px 1px rgba(0, 0, 0, 0.15);\n",
              "      filter: drop-shadow(0px 1px 2px rgba(0, 0, 0, 0.3));\n",
              "      fill: #FFFFFF;\n",
              "    }\n",
              "  </style>\n",
              "\n",
              "    <script>\n",
              "      const buttonEl =\n",
              "        document.querySelector('#df-870c59e4-248d-4bd8-92a2-c18a69030406 button.colab-df-convert');\n",
              "      buttonEl.style.display =\n",
              "        google.colab.kernel.accessAllowed ? 'block' : 'none';\n",
              "\n",
              "      async function convertToInteractive(key) {\n",
              "        const element = document.querySelector('#df-870c59e4-248d-4bd8-92a2-c18a69030406');\n",
              "        const dataTable =\n",
              "          await google.colab.kernel.invokeFunction('convertToInteractive',\n",
              "                                                    [key], {});\n",
              "        if (!dataTable) return;\n",
              "\n",
              "        const docLinkHtml = 'Like what you see? Visit the ' +\n",
              "          '<a target=\"_blank\" href=https://colab.research.google.com/notebooks/data_table.ipynb>data table notebook</a>'\n",
              "          + ' to learn more about interactive tables.';\n",
              "        element.innerHTML = '';\n",
              "        dataTable['output_type'] = 'display_data';\n",
              "        await google.colab.output.renderOutput(dataTable, element);\n",
              "        const docLink = document.createElement('div');\n",
              "        docLink.innerHTML = docLinkHtml;\n",
              "        element.appendChild(docLink);\n",
              "      }\n",
              "    </script>\n",
              "  </div>\n",
              "\n",
              "\n",
              "<div id=\"df-093bfc43-8c6f-4e87-bacb-fc2cf0b71692\">\n",
              "  <button class=\"colab-df-quickchart\" onclick=\"quickchart('df-093bfc43-8c6f-4e87-bacb-fc2cf0b71692')\"\n",
              "            title=\"Suggest charts.\"\n",
              "            style=\"display:none;\">\n",
              "\n",
              "<svg xmlns=\"http://www.w3.org/2000/svg\" height=\"24px\"viewBox=\"0 0 24 24\"\n",
              "     width=\"24px\">\n",
              "    <g>\n",
              "        <path d=\"M19 3H5c-1.1 0-2 .9-2 2v14c0 1.1.9 2 2 2h14c1.1 0 2-.9 2-2V5c0-1.1-.9-2-2-2zM9 17H7v-7h2v7zm4 0h-2V7h2v10zm4 0h-2v-4h2v4z\"/>\n",
              "    </g>\n",
              "</svg>\n",
              "  </button>\n",
              "\n",
              "<style>\n",
              "  .colab-df-quickchart {\n",
              "      --bg-color: #E8F0FE;\n",
              "      --fill-color: #1967D2;\n",
              "      --hover-bg-color: #E2EBFA;\n",
              "      --hover-fill-color: #174EA6;\n",
              "      --disabled-fill-color: #AAA;\n",
              "      --disabled-bg-color: #DDD;\n",
              "  }\n",
              "\n",
              "  [theme=dark] .colab-df-quickchart {\n",
              "      --bg-color: #3B4455;\n",
              "      --fill-color: #D2E3FC;\n",
              "      --hover-bg-color: #434B5C;\n",
              "      --hover-fill-color: #FFFFFF;\n",
              "      --disabled-bg-color: #3B4455;\n",
              "      --disabled-fill-color: #666;\n",
              "  }\n",
              "\n",
              "  .colab-df-quickchart {\n",
              "    background-color: var(--bg-color);\n",
              "    border: none;\n",
              "    border-radius: 50%;\n",
              "    cursor: pointer;\n",
              "    display: none;\n",
              "    fill: var(--fill-color);\n",
              "    height: 32px;\n",
              "    padding: 0;\n",
              "    width: 32px;\n",
              "  }\n",
              "\n",
              "  .colab-df-quickchart:hover {\n",
              "    background-color: var(--hover-bg-color);\n",
              "    box-shadow: 0 1px 2px rgba(60, 64, 67, 0.3), 0 1px 3px 1px rgba(60, 64, 67, 0.15);\n",
              "    fill: var(--button-hover-fill-color);\n",
              "  }\n",
              "\n",
              "  .colab-df-quickchart-complete:disabled,\n",
              "  .colab-df-quickchart-complete:disabled:hover {\n",
              "    background-color: var(--disabled-bg-color);\n",
              "    fill: var(--disabled-fill-color);\n",
              "    box-shadow: none;\n",
              "  }\n",
              "\n",
              "  .colab-df-spinner {\n",
              "    border: 2px solid var(--fill-color);\n",
              "    border-color: transparent;\n",
              "    border-bottom-color: var(--fill-color);\n",
              "    animation:\n",
              "      spin 1s steps(1) infinite;\n",
              "  }\n",
              "\n",
              "  @keyframes spin {\n",
              "    0% {\n",
              "      border-color: transparent;\n",
              "      border-bottom-color: var(--fill-color);\n",
              "      border-left-color: var(--fill-color);\n",
              "    }\n",
              "    20% {\n",
              "      border-color: transparent;\n",
              "      border-left-color: var(--fill-color);\n",
              "      border-top-color: var(--fill-color);\n",
              "    }\n",
              "    30% {\n",
              "      border-color: transparent;\n",
              "      border-left-color: var(--fill-color);\n",
              "      border-top-color: var(--fill-color);\n",
              "      border-right-color: var(--fill-color);\n",
              "    }\n",
              "    40% {\n",
              "      border-color: transparent;\n",
              "      border-right-color: var(--fill-color);\n",
              "      border-top-color: var(--fill-color);\n",
              "    }\n",
              "    60% {\n",
              "      border-color: transparent;\n",
              "      border-right-color: var(--fill-color);\n",
              "    }\n",
              "    80% {\n",
              "      border-color: transparent;\n",
              "      border-right-color: var(--fill-color);\n",
              "      border-bottom-color: var(--fill-color);\n",
              "    }\n",
              "    90% {\n",
              "      border-color: transparent;\n",
              "      border-bottom-color: var(--fill-color);\n",
              "    }\n",
              "  }\n",
              "</style>\n",
              "\n",
              "  <script>\n",
              "    async function quickchart(key) {\n",
              "      const quickchartButtonEl =\n",
              "        document.querySelector('#' + key + ' button');\n",
              "      quickchartButtonEl.disabled = true;  // To prevent multiple clicks.\n",
              "      quickchartButtonEl.classList.add('colab-df-spinner');\n",
              "      try {\n",
              "        const charts = await google.colab.kernel.invokeFunction(\n",
              "            'suggestCharts', [key], {});\n",
              "      } catch (error) {\n",
              "        console.error('Error during call to suggestCharts:', error);\n",
              "      }\n",
              "      quickchartButtonEl.classList.remove('colab-df-spinner');\n",
              "      quickchartButtonEl.classList.add('colab-df-quickchart-complete');\n",
              "    }\n",
              "    (() => {\n",
              "      let quickchartButtonEl =\n",
              "        document.querySelector('#df-093bfc43-8c6f-4e87-bacb-fc2cf0b71692 button');\n",
              "      quickchartButtonEl.style.display =\n",
              "        google.colab.kernel.accessAllowed ? 'block' : 'none';\n",
              "    })();\n",
              "  </script>\n",
              "</div>\n",
              "    </div>\n",
              "  </div>\n"
            ]
          },
          "metadata": {},
          "execution_count": 5
        }
      ]
    },
    {
      "cell_type": "code",
      "source": [
        "grbAG.tail()"
      ],
      "metadata": {
        "colab": {
          "base_uri": "https://localhost:8080/",
          "height": 206
        },
        "id": "Xur22yap6kaM",
        "outputId": "7bf5bf93-c383-46da-fd14-2942511a530e"
      },
      "execution_count": 6,
      "outputs": [
        {
          "output_type": "execute_result",
          "data": {
            "text/plain": [
              "    filter     time    mag  magerr  upperlimit\n",
              "114     W1    63738  21.20     NaN           1\n",
              "115     M2    74798  21.59     NaN           1\n",
              "116      U   128928  20.05     NaN           1\n",
              "117      V   971360  22.09     NaN           1\n",
              "118      V  1171176  21.16     NaN           1"
            ],
            "text/html": [
              "\n",
              "  <div id=\"df-b95461ad-07dd-42bb-ad80-6e67f9377fd6\" class=\"colab-df-container\">\n",
              "    <div>\n",
              "<style scoped>\n",
              "    .dataframe tbody tr th:only-of-type {\n",
              "        vertical-align: middle;\n",
              "    }\n",
              "\n",
              "    .dataframe tbody tr th {\n",
              "        vertical-align: top;\n",
              "    }\n",
              "\n",
              "    .dataframe thead th {\n",
              "        text-align: right;\n",
              "    }\n",
              "</style>\n",
              "<table border=\"1\" class=\"dataframe\">\n",
              "  <thead>\n",
              "    <tr style=\"text-align: right;\">\n",
              "      <th></th>\n",
              "      <th>filter</th>\n",
              "      <th>time</th>\n",
              "      <th>mag</th>\n",
              "      <th>magerr</th>\n",
              "      <th>upperlimit</th>\n",
              "    </tr>\n",
              "  </thead>\n",
              "  <tbody>\n",
              "    <tr>\n",
              "      <th>114</th>\n",
              "      <td>W1</td>\n",
              "      <td>63738</td>\n",
              "      <td>21.20</td>\n",
              "      <td>NaN</td>\n",
              "      <td>1</td>\n",
              "    </tr>\n",
              "    <tr>\n",
              "      <th>115</th>\n",
              "      <td>M2</td>\n",
              "      <td>74798</td>\n",
              "      <td>21.59</td>\n",
              "      <td>NaN</td>\n",
              "      <td>1</td>\n",
              "    </tr>\n",
              "    <tr>\n",
              "      <th>116</th>\n",
              "      <td>U</td>\n",
              "      <td>128928</td>\n",
              "      <td>20.05</td>\n",
              "      <td>NaN</td>\n",
              "      <td>1</td>\n",
              "    </tr>\n",
              "    <tr>\n",
              "      <th>117</th>\n",
              "      <td>V</td>\n",
              "      <td>971360</td>\n",
              "      <td>22.09</td>\n",
              "      <td>NaN</td>\n",
              "      <td>1</td>\n",
              "    </tr>\n",
              "    <tr>\n",
              "      <th>118</th>\n",
              "      <td>V</td>\n",
              "      <td>1171176</td>\n",
              "      <td>21.16</td>\n",
              "      <td>NaN</td>\n",
              "      <td>1</td>\n",
              "    </tr>\n",
              "  </tbody>\n",
              "</table>\n",
              "</div>\n",
              "    <div class=\"colab-df-buttons\">\n",
              "\n",
              "  <div class=\"colab-df-container\">\n",
              "    <button class=\"colab-df-convert\" onclick=\"convertToInteractive('df-b95461ad-07dd-42bb-ad80-6e67f9377fd6')\"\n",
              "            title=\"Convert this dataframe to an interactive table.\"\n",
              "            style=\"display:none;\">\n",
              "\n",
              "  <svg xmlns=\"http://www.w3.org/2000/svg\" height=\"24px\" viewBox=\"0 -960 960 960\">\n",
              "    <path d=\"M120-120v-720h720v720H120Zm60-500h600v-160H180v160Zm220 220h160v-160H400v160Zm0 220h160v-160H400v160ZM180-400h160v-160H180v160Zm440 0h160v-160H620v160ZM180-180h160v-160H180v160Zm440 0h160v-160H620v160Z\"/>\n",
              "  </svg>\n",
              "    </button>\n",
              "\n",
              "  <style>\n",
              "    .colab-df-container {\n",
              "      display:flex;\n",
              "      gap: 12px;\n",
              "    }\n",
              "\n",
              "    .colab-df-convert {\n",
              "      background-color: #E8F0FE;\n",
              "      border: none;\n",
              "      border-radius: 50%;\n",
              "      cursor: pointer;\n",
              "      display: none;\n",
              "      fill: #1967D2;\n",
              "      height: 32px;\n",
              "      padding: 0 0 0 0;\n",
              "      width: 32px;\n",
              "    }\n",
              "\n",
              "    .colab-df-convert:hover {\n",
              "      background-color: #E2EBFA;\n",
              "      box-shadow: 0px 1px 2px rgba(60, 64, 67, 0.3), 0px 1px 3px 1px rgba(60, 64, 67, 0.15);\n",
              "      fill: #174EA6;\n",
              "    }\n",
              "\n",
              "    .colab-df-buttons div {\n",
              "      margin-bottom: 4px;\n",
              "    }\n",
              "\n",
              "    [theme=dark] .colab-df-convert {\n",
              "      background-color: #3B4455;\n",
              "      fill: #D2E3FC;\n",
              "    }\n",
              "\n",
              "    [theme=dark] .colab-df-convert:hover {\n",
              "      background-color: #434B5C;\n",
              "      box-shadow: 0px 1px 3px 1px rgba(0, 0, 0, 0.15);\n",
              "      filter: drop-shadow(0px 1px 2px rgba(0, 0, 0, 0.3));\n",
              "      fill: #FFFFFF;\n",
              "    }\n",
              "  </style>\n",
              "\n",
              "    <script>\n",
              "      const buttonEl =\n",
              "        document.querySelector('#df-b95461ad-07dd-42bb-ad80-6e67f9377fd6 button.colab-df-convert');\n",
              "      buttonEl.style.display =\n",
              "        google.colab.kernel.accessAllowed ? 'block' : 'none';\n",
              "\n",
              "      async function convertToInteractive(key) {\n",
              "        const element = document.querySelector('#df-b95461ad-07dd-42bb-ad80-6e67f9377fd6');\n",
              "        const dataTable =\n",
              "          await google.colab.kernel.invokeFunction('convertToInteractive',\n",
              "                                                    [key], {});\n",
              "        if (!dataTable) return;\n",
              "\n",
              "        const docLinkHtml = 'Like what you see? Visit the ' +\n",
              "          '<a target=\"_blank\" href=https://colab.research.google.com/notebooks/data_table.ipynb>data table notebook</a>'\n",
              "          + ' to learn more about interactive tables.';\n",
              "        element.innerHTML = '';\n",
              "        dataTable['output_type'] = 'display_data';\n",
              "        await google.colab.output.renderOutput(dataTable, element);\n",
              "        const docLink = document.createElement('div');\n",
              "        docLink.innerHTML = docLinkHtml;\n",
              "        element.appendChild(docLink);\n",
              "      }\n",
              "    </script>\n",
              "  </div>\n",
              "\n",
              "\n",
              "<div id=\"df-deaa1427-5845-4f67-9d0c-80290681ffbf\">\n",
              "  <button class=\"colab-df-quickchart\" onclick=\"quickchart('df-deaa1427-5845-4f67-9d0c-80290681ffbf')\"\n",
              "            title=\"Suggest charts.\"\n",
              "            style=\"display:none;\">\n",
              "\n",
              "<svg xmlns=\"http://www.w3.org/2000/svg\" height=\"24px\"viewBox=\"0 0 24 24\"\n",
              "     width=\"24px\">\n",
              "    <g>\n",
              "        <path d=\"M19 3H5c-1.1 0-2 .9-2 2v14c0 1.1.9 2 2 2h14c1.1 0 2-.9 2-2V5c0-1.1-.9-2-2-2zM9 17H7v-7h2v7zm4 0h-2V7h2v10zm4 0h-2v-4h2v4z\"/>\n",
              "    </g>\n",
              "</svg>\n",
              "  </button>\n",
              "\n",
              "<style>\n",
              "  .colab-df-quickchart {\n",
              "      --bg-color: #E8F0FE;\n",
              "      --fill-color: #1967D2;\n",
              "      --hover-bg-color: #E2EBFA;\n",
              "      --hover-fill-color: #174EA6;\n",
              "      --disabled-fill-color: #AAA;\n",
              "      --disabled-bg-color: #DDD;\n",
              "  }\n",
              "\n",
              "  [theme=dark] .colab-df-quickchart {\n",
              "      --bg-color: #3B4455;\n",
              "      --fill-color: #D2E3FC;\n",
              "      --hover-bg-color: #434B5C;\n",
              "      --hover-fill-color: #FFFFFF;\n",
              "      --disabled-bg-color: #3B4455;\n",
              "      --disabled-fill-color: #666;\n",
              "  }\n",
              "\n",
              "  .colab-df-quickchart {\n",
              "    background-color: var(--bg-color);\n",
              "    border: none;\n",
              "    border-radius: 50%;\n",
              "    cursor: pointer;\n",
              "    display: none;\n",
              "    fill: var(--fill-color);\n",
              "    height: 32px;\n",
              "    padding: 0;\n",
              "    width: 32px;\n",
              "  }\n",
              "\n",
              "  .colab-df-quickchart:hover {\n",
              "    background-color: var(--hover-bg-color);\n",
              "    box-shadow: 0 1px 2px rgba(60, 64, 67, 0.3), 0 1px 3px 1px rgba(60, 64, 67, 0.15);\n",
              "    fill: var(--button-hover-fill-color);\n",
              "  }\n",
              "\n",
              "  .colab-df-quickchart-complete:disabled,\n",
              "  .colab-df-quickchart-complete:disabled:hover {\n",
              "    background-color: var(--disabled-bg-color);\n",
              "    fill: var(--disabled-fill-color);\n",
              "    box-shadow: none;\n",
              "  }\n",
              "\n",
              "  .colab-df-spinner {\n",
              "    border: 2px solid var(--fill-color);\n",
              "    border-color: transparent;\n",
              "    border-bottom-color: var(--fill-color);\n",
              "    animation:\n",
              "      spin 1s steps(1) infinite;\n",
              "  }\n",
              "\n",
              "  @keyframes spin {\n",
              "    0% {\n",
              "      border-color: transparent;\n",
              "      border-bottom-color: var(--fill-color);\n",
              "      border-left-color: var(--fill-color);\n",
              "    }\n",
              "    20% {\n",
              "      border-color: transparent;\n",
              "      border-left-color: var(--fill-color);\n",
              "      border-top-color: var(--fill-color);\n",
              "    }\n",
              "    30% {\n",
              "      border-color: transparent;\n",
              "      border-left-color: var(--fill-color);\n",
              "      border-top-color: var(--fill-color);\n",
              "      border-right-color: var(--fill-color);\n",
              "    }\n",
              "    40% {\n",
              "      border-color: transparent;\n",
              "      border-right-color: var(--fill-color);\n",
              "      border-top-color: var(--fill-color);\n",
              "    }\n",
              "    60% {\n",
              "      border-color: transparent;\n",
              "      border-right-color: var(--fill-color);\n",
              "    }\n",
              "    80% {\n",
              "      border-color: transparent;\n",
              "      border-right-color: var(--fill-color);\n",
              "      border-bottom-color: var(--fill-color);\n",
              "    }\n",
              "    90% {\n",
              "      border-color: transparent;\n",
              "      border-bottom-color: var(--fill-color);\n",
              "    }\n",
              "  }\n",
              "</style>\n",
              "\n",
              "  <script>\n",
              "    async function quickchart(key) {\n",
              "      const quickchartButtonEl =\n",
              "        document.querySelector('#' + key + ' button');\n",
              "      quickchartButtonEl.disabled = true;  // To prevent multiple clicks.\n",
              "      quickchartButtonEl.classList.add('colab-df-spinner');\n",
              "      try {\n",
              "        const charts = await google.colab.kernel.invokeFunction(\n",
              "            'suggestCharts', [key], {});\n",
              "      } catch (error) {\n",
              "        console.error('Error during call to suggestCharts:', error);\n",
              "      }\n",
              "      quickchartButtonEl.classList.remove('colab-df-spinner');\n",
              "      quickchartButtonEl.classList.add('colab-df-quickchart-complete');\n",
              "    }\n",
              "    (() => {\n",
              "      let quickchartButtonEl =\n",
              "        document.querySelector('#df-deaa1427-5845-4f67-9d0c-80290681ffbf button');\n",
              "      quickchartButtonEl.style.display =\n",
              "        google.colab.kernel.accessAllowed ? 'block' : 'none';\n",
              "    })();\n",
              "  </script>\n",
              "</div>\n",
              "    </div>\n",
              "  </div>\n"
            ]
          },
          "metadata": {},
          "execution_count": 6
        }
      ]
    },
    {
      "cell_type": "code",
      "source": [
        "# #^we have NaN values\n",
        "# #mag and log 10 of photons. but inverse means it is fainter\n",
        "\n",
        "# #no uncertainty? bc of upperlimit\n",
        "\n",
        "# #create a figure container and an axis object inside of it\n",
        "# ax = pl.figure(figsize=(10,10)).add_subplot(111)\n",
        "\n",
        "# #loop on every filter to plot - this will give differnt colors naturally.\n",
        "# #Use pl.errorbar to plot the uncertainties\n",
        "\n",
        "# for f in grbAG[\"filter\"].unique():\n",
        "#     pl.errorbar(np.log10(grbAG.loc[grbAG[\"filter\"] == f, \"time\"]),\n",
        "#                 grbAG.loc[grbAG[\"filter\"] == f, \"mag\"],\n",
        "#                 yerr=grbAG.loc[grbAG[\"filter\"] == f, \"magerr\"],\n",
        "#                 fmt='.', ms=0,\n",
        "#                 fcolor=None, label=None)\n",
        "\n",
        "# # replot to add a better marker (optional)\n",
        "# for f in grbAG[\"filter\"].unique():\n",
        "#     pl.scatter(np.log10(grbAG.loc[grbAG[\"filter\"] == f, \"time\"]),\n",
        "#                grbAG.loc[grbAG[\"filter\"] == f, \"mag\"],\n",
        "#                alpha=1, s=100, linewidth=2,\n",
        "#                label=f,\n",
        "#                edgecolor='#cccccc')\n",
        "\n",
        "\n",
        "# # plot the upperlimits as arrows\n",
        "# nuplim = grbAG.mag.isna().sum()\n",
        "# for i in grbAG[grbAG.upperlimit == 1].index:\n",
        "#     pl.arrow(np.log10(grbAG.loc[i].time),\n",
        "#              grbAG.loc[i].magerr, 0, 2,\n",
        "#             head_width=0.05, head_length=0.1, ec='k')\n",
        "\n",
        "# # I am going to invert the y axis because the \"magnitude\" measurement is an inverse scale: brighter is smaller\n",
        "# pl.ylim(24,11.7)\n",
        "# pl.legend()\n",
        "\n",
        "# #Always rememebr you axis labels!!\n",
        "# pl.ylabel(\"magnitude\", fontsize=20)\n",
        "# pl.xlabel(\"log time\", fontsize=20);"
      ],
      "metadata": {
        "id": "hEfre6bG6msd"
      },
      "execution_count": 7,
      "outputs": []
    },
    {
      "cell_type": "code",
      "source": [
        "#plot x-axis in log\n",
        "\n",
        "#magnitude is already logged\n",
        "#bring into log scale"
      ],
      "metadata": {
        "id": "Ic4zyoWl8N-C"
      },
      "execution_count": 8,
      "outputs": []
    },
    {
      "cell_type": "code",
      "source": [
        "# grbAG_new = (grbAG['upperlimit']==1)\n",
        "grbAG = grbAG[grbAG['upperlimit']==0]\n",
        "\n",
        "#^also can try with drop\n",
        "\n",
        "#now plot again without upperlimits\n",
        "\n",
        "\n",
        "ax = pl.figure(figsize=(10,10)).add_subplot(111)\n",
        "\n",
        "#loop on every filter to plot - this will give differnt colors naturally.\n",
        "#Use pl.errorbar to plot the uncertainties\n",
        "\n",
        "for f in grbAG[\"filter\"].unique():\n",
        "    pl.errorbar(np.log10(grbAG.loc[grbAG[\"filter\"] == f, \"time\"]),\n",
        "                grbAG.loc[grbAG[\"filter\"] == f, \"mag\"],\n",
        "                yerr=grbAG.loc[grbAG[\"filter\"] == f, \"magerr\"],\n",
        "                fmt='.', ms=0,\n",
        "                fcolor=None, label=None)\n",
        "\n",
        "# replot to add a better marker (optional)\n",
        "for f in grbAG[\"filter\"].unique():\n",
        "    pl.scatter(np.log10(grbAG.loc[grbAG[\"filter\"] == f, \"time\"]),\n",
        "               grbAG.loc[grbAG[\"filter\"] == f, \"mag\"],\n",
        "               alpha=1, s=100, linewidth=2,\n",
        "               label=f,\n",
        "               edgecolor='#cccccc')\n",
        "\n",
        "\n",
        "# plot the upperlimits as arrows\n",
        "nuplim = grbAG.mag.isna().sum()\n",
        "for i in grbAG[grbAG.upperlimit == 1].index:\n",
        "    pl.arrow(np.log10(grbAG.loc[i].time),\n",
        "             grbAG.loc[i].magerr, 0, 2,\n",
        "            head_width=0.05, head_length=0.1, ec='k')\n",
        "\n",
        "# I am going to invert the y axis because the \"magnitude\" measurement is an inverse scale: brighter is smaller\n",
        "#therefore it is inverted here so that the larger, is brighter instead. for the linear regression\n",
        "pl.ylim(24,11.7)\n",
        "pl.legend()\n",
        "\n",
        "#Always rememebr you axis labels!!\n",
        "pl.ylabel(\"magnitude\", fontsize=20)\n",
        "pl.xlabel(\"log time\", fontsize=20);"
      ],
      "metadata": {
        "colab": {
          "base_uri": "https://localhost:8080/",
          "height": 864
        },
        "id": "yFZ5caNN9sj9",
        "outputId": "e56e2741-f90d-439e-c890-10c3c33c4725"
      },
      "execution_count": 9,
      "outputs": [
        {
          "output_type": "display_data",
          "data": {
            "text/plain": [
              "<Figure size 1000x1000 with 1 Axes>"
            ],
            "image/png": "[encoded data removed]"
          },
          "metadata": {}
        }
      ]
    },
    {
      "cell_type": "markdown",
      "source": [
        "Figure 1: A scatterplot of the measured magnitude as a function of logtime. The filter colors are indicated in the plot. The y-axis was made to a log scale so that we can get a linear approximation."
      ],
      "metadata": {
        "id": "5IvsC5OaPmks"
      }
    },
    {
      "cell_type": "code",
      "source": [
        "#btw it's a bad idea to (prev) work with values at 10^6 that big, bc can lead to:\n",
        "#NUMERICAL INSTABILITIES\n",
        "\n",
        "#now apply analytic solution\n",
        "\n",
        "x = np.log10(grbAG['time'].values)\n",
        "#^in lecture it's already made as grbAG['logtime'].values\n",
        "\n",
        "\n",
        "X = np.c_[np.ones(len(x)), x]\n",
        "y = grbAG['mag'].values\n",
        "\n",
        "theta_best = np.linalg.inv(X.T.dot(X)).dot(X.T).dot(y)\n",
        "\n",
        "theta_best\n"
      ],
      "metadata": {
        "colab": {
          "base_uri": "https://localhost:8080/"
        },
        "id": "Q_mvD97H-1aP",
        "outputId": "15687f10-0bc9-449b-b264-eccaae9e8a67"
      },
      "execution_count": 10,
      "outputs": [
        {
          "output_type": "execute_result",
          "data": {
            "text/plain": [
              "array([8.58266823, 2.51199984])"
            ]
          },
          "metadata": {},
          "execution_count": 10
        }
      ]
    },
    {
      "cell_type": "code",
      "source": [
        "np.c_?\n"
      ],
      "metadata": {
        "id": "w_LsPjsD_Z9B"
      },
      "execution_count": 11,
      "outputs": []
    },
    {
      "cell_type": "code",
      "source": [
        "print(\"the best fit parameters from the Normal Equation are intercept: {0:.2f} slope: {01:.2f}\".format(*theta_best))\n",
        "\n",
        "#* makes a pointer of some data. reverses address. takes the objects. Noice."
      ],
      "metadata": {
        "colab": {
          "base_uri": "https://localhost:8080/"
        },
        "id": "3taKTj3Z_ATv",
        "outputId": "1879ae98-6432-4ba8-dd95-e0062505a388"
      },
      "execution_count": 12,
      "outputs": [
        {
          "output_type": "stream",
          "name": "stdout",
          "text": [
            "the best fit parameters from the Normal Equation are intercept: 8.58 slope: 2.51\n"
          ]
        }
      ]
    },
    {
      "cell_type": "code",
      "source": [
        "#using Linear Regression - Scikit\n",
        "\n",
        "from sklearn.linear_model import LinearRegression\n",
        "lr = LinearRegression()\n",
        "\n",
        "X = np.c_[np.ones(len(x)), x]\n",
        "lr.fit(X, y)\n",
        "lr.coef_, lr.intercept_\n",
        "\n",
        "\n",
        "#we're solving the linear algebra normal equation\n",
        "\n",
        "print(\"the best fit parameters from SKlearn are intercept:{0:.2f} slope: {1:.2f}\".format(lr.intercept_, lr.coef_[1]))"
      ],
      "metadata": {
        "colab": {
          "base_uri": "https://localhost:8080/"
        },
        "id": "h2uDPtyuBTKc",
        "outputId": "77883ac2-d1ba-4c1c-8221-425819498519"
      },
      "execution_count": 13,
      "outputs": [
        {
          "output_type": "stream",
          "name": "stdout",
          "text": [
            "the best fit parameters from SKlearn are intercept:8.58 slope: 2.51\n"
          ]
        }
      ]
    },
    {
      "cell_type": "code",
      "source": [
        "lr.coef_, lr.intercept_\n",
        "\n",
        "m = lr.coef_[1]\n",
        "b = lr.intercept_\n",
        "#remember what does this do\n",
        "\n",
        "#set s?\n",
        "s = 0.5"
      ],
      "metadata": {
        "id": "86-GMgTjDUOt"
      },
      "execution_count": 14,
      "outputs": []
    },
    {
      "cell_type": "code",
      "source": [
        "lr?\n",
        "\n",
        "#X os 2-D version of x"
      ],
      "metadata": {
        "id": "I_U6IcqbCnbv"
      },
      "execution_count": 15,
      "outputs": []
    },
    {
      "cell_type": "code",
      "source": [
        "from scipy.optimize import minimize\n",
        "\n",
        "def line(x, m, b):\n",
        "  f = []\n",
        "  for i in range(len(x)):\n",
        "\n",
        "    f = np.append(f, m*x[i] + b)\n",
        "\n",
        "  return f #prediction in correspondence with X-values. same size vector as input you gave it.\n",
        "  #y values corresponding to x values\n",
        "\n",
        "\n",
        "def of_l1(args, x, y): #Objective Function\n",
        "  a, b = args\n",
        "  L_1 = 0\n",
        "  #the minimize fn is not going to take it unless it's a scalar array. therefore, use numpy.\n",
        "  #^TypeError: only integer scalar arrays can be converted to a scalar index with 1D numpy indices array\n",
        "\n",
        "  #see optimization slides. on Objective Function\n",
        "  # for i in range(x):\n",
        "    # L_1 += abs(f-y)\n",
        "  L_1 = np.sum(np.absolute(y - line(x, a, b)))\n",
        "    #can also use sum() function\n",
        "  return L_1\n",
        "\n",
        "def of_l2(args, x, y):\n",
        "  a, b = args\n",
        "  # L_2 = 0\n",
        "  # for i in range(x):\n",
        "  L_2 = np.sum((y - line(x, a, b))**2)\n",
        "  return L_2\n",
        "\n",
        "def of_chi2(args, x, y, s):\n",
        "  a, b = args\n",
        "  # chi2 = 0\n",
        "  # for i in range(x):\n",
        "  chi2 = np.sum(((y - line(x, a, b))**2)/s**2)\n",
        "  return chi2\n",
        "\n",
        "\n",
        "\n",
        "#to change to L_2, sqaure it\n",
        "#to change to Chi-squared, divide by the variance\n",
        "\n",
        "#then call minimize fn"
      ],
      "metadata": {
        "id": "xkc-hHzlDXSa"
      },
      "execution_count": 16,
      "outputs": []
    },
    {
      "cell_type": "code",
      "source": [
        "minimize?"
      ],
      "metadata": {
        "id": "5tUs_lp0IJfP"
      },
      "execution_count": 17,
      "outputs": []
    },
    {
      "cell_type": "code",
      "source": [
        "# #line\n",
        "f = line(x, m=m, b=b)\n",
        "\n",
        "pl.plot(x, y, '.')\n",
        "pl.plot(x,f )\n",
        "\n",
        "pl.xlabel(\"log time\")\n",
        "pl.ylabel(\"magnitude\")\n"
      ],
      "metadata": {
        "colab": {
          "base_uri": "https://localhost:8080/",
          "height": 467
        },
        "id": "Wjj98MRFGPAi",
        "outputId": "07cfec26-f5e7-47b3-b428-1184d59b1515"
      },
      "execution_count": 18,
      "outputs": [
        {
          "output_type": "execute_result",
          "data": {
            "text/plain": [
              "Text(0, 0.5, 'magnitude')"
            ]
          },
          "metadata": {},
          "execution_count": 18
        },
        {
          "output_type": "display_data",
          "data": {
            "text/plain": [
              "<Figure size 640x480 with 1 Axes>"
            ],
            "image/png": "[encoded data removed]"
          },
          "metadata": {}
        }
      ]
    },
    {
      "cell_type": "markdown",
      "source": [
        "Figure 2. A scatterplot of the logtime and magnitude values of measurement, as well as the calculated \"best fit\" line. Note that the magnitude in this measure is already \"inverted\" so that brighter is larger. Qualitatively, we can see here that the scatterplot roughly follows the fit line. However, we are going to see whether it applies quantitatively."
      ],
      "metadata": {
        "id": "TYhkMos1OfWV"
      }
    },
    {
      "cell_type": "code",
      "source": [
        "initialGuess = (10, 1)\n",
        "#l1Solution = minimize(of, initialGuess, args=(x,y))\n",
        "#revise of function.\n",
        "\n",
        "#SGD\n",
        "\n",
        "#and then plot again\n",
        "\n",
        "#next:\n",
        "#so we looked at training and testing\n",
        "#LR with skit learn\n",
        "\n",
        "#so,\n",
        "#do the same but seperate data for training and testing\n",
        "\n",
        "from sklearn.model_selection import train_test_split\n",
        "\n",
        "train_test_split?"
      ],
      "metadata": {
        "id": "L5b3j11oIhg4"
      },
      "execution_count": 19,
      "outputs": []
    },
    {
      "cell_type": "code",
      "source": [
        "\n",
        "# x_train, x_test, y_train, y_test, s_train, s_test = train_test_split(\n",
        "#      x, y, s, test_size=0.25, random_state=42)\n",
        "\n",
        "#for L1: x_train, x_test, y_train, y_test= train_test_split(\n",
        "x_trainl1, x_testl1, y_trainl1, y_testl1= train_test_split(\n",
        "     x, y, test_size=0.25, random_state=42)\n",
        "\n",
        "initialGuess = (10, 1)\n",
        "\n",
        "l1Solution_goodsplit = minimize(of_l1, initialGuess,\n",
        "\targs=(x_trainl1, y_trainl1))\n",
        "\n",
        "print(\"best fit parameters from the minimization of the L1: \" +\n",
        "       \"slope {:.2f}, intercept {:.2f}\".format(*l1Solution_goodsplit.x))\n",
        "\n",
        "l1Solution_badsplit = minimize(of_l1, initialGuess,\n",
        "\targs=(x_testl1, y_testl1))\n",
        "\n",
        "\n",
        "#for L2:\n",
        "\n",
        "x_trainl2, x_testl2, y_trainl2, y_testl2= train_test_split(\n",
        "     x, y, test_size=0.25, random_state=42)\n",
        "\n",
        "initialGuess = (10, 1)\n",
        "\n",
        "l2Solution_goodsplit = minimize(of_l2, initialGuess,\n",
        "\targs=(x_trainl2, y_trainl2))\n",
        "\n",
        "print(\"best fit parameters from the minimization of the L2: \" +\n",
        "       \"slope {:.2f}, intercept {:.2f}\".format(*l2Solution_goodsplit.x))\n",
        "\n",
        "l2Solution_badsplit = minimize(of_l2, initialGuess,\n",
        "\targs=(x_testl2, y_testl2))\n",
        "\n",
        "\n",
        "#for chi2:\n",
        "\n",
        "# x_trainchi2, x_testchi2, y_trainchi2, y_testchi2, s_trainchi2, s_testchi2= train_test_split(\n",
        "#      x, y, s, test_size=0.25, random_state=42)\n",
        "\n",
        "# initialGuess = (10, 1)\n",
        "\n",
        "# l1Solution_goodsplit = minimize(of_chi2, initialGuess,\n",
        "# \targs=(x_trainchi2, y_trainchi2, s_trainchi2))\n",
        "\n",
        "# print(\"best fit parameters from the minimization of the L1: \" +\n",
        "#        \"slope {:.2f}, intercept {:.2f}\".format(*l1Solution_goodsplit.x))\n",
        "\n",
        "# l1Solution_badsplit = minimize(of_chi2, initialGuess,\n",
        "# \targs=(x_testchi2, y_testchi2, s_test_chi2))\n",
        "\n",
        "\n",
        "# x_trainchi2, x_testchi2, y_trainchi2, y_testchi2, s_trainchi2, s_testchi2 = train_test_split(\n",
        "#      x, y, s, test_size=0.25, random_state=42)\n",
        "\n",
        "# initialGuess = (10, 1)\n",
        "\n",
        "# chi2Solution_goodsplit = minimize(chi2, initialGuess,\n",
        "# \targs=(x_train, y_train, s_train))\n",
        "\n",
        "# print(\"best fit parameters from the minimization of the chi squared: \" +\n",
        "#        \"slope {:.2f}, intercept {:.2f}\".format(*chi2Solution_goodsplit.x))"
      ],
      "metadata": {
        "id": "FV2j4cVrJLHe",
        "colab": {
          "base_uri": "https://localhost:8080/"
        },
        "outputId": "b9beac38-f830-4071-cadc-2bd3d88eb3ca"
      },
      "execution_count": 20,
      "outputs": [
        {
          "output_type": "stream",
          "name": "stdout",
          "text": [
            "best fit parameters from the minimization of the L1: slope 2.57, intercept 8.40\n",
            "best fit parameters from the minimization of the L2: slope 2.48, intercept 8.66\n"
          ]
        }
      ]
    },
    {
      "cell_type": "code",
      "source": [
        "#now do Rsquared values\n",
        "#from https://medium.com/@rachel.hwung/r-squared-explained-intuitively-734421d1a0d7#:~:text=Training%20R%2Dsquared%20vs%20Test,for%20the%20chosen%20test%20set.\n",
        "#so Rsquared = 1 - (SSRES/SSTOT)\n",
        "\n",
        "#https://www.investopedia.com/terms/r/r-squared.asp#:~:text=R%2Dsquared%20(R2),variable%20in%20a%20regression%20model.\n",
        "\n",
        "#To calculate the total variance, you would subtract the average actual value from each of the actual values,\n",
        "#square the results, and sum them. From there, divide the first sum of errors (unexplained variance) by the second sum (total variance),\n",
        "#subtract the result from one, and you have the R-squared.\n",
        "\n",
        "def Rsquare(args, x, y):\n",
        "  a, b = args\n",
        "  y_fit = line(x, a ,b)\n",
        "  ssres = np.sum((y-y_fit)**2)\n",
        "  sstot = np.sum((y-np.mean(y))**2)\n",
        "  Rsq = 1 - (ssres/sstot)\n",
        "  return Rsq"
      ],
      "metadata": {
        "id": "48BjW6dsWiis"
      },
      "execution_count": 21,
      "outputs": []
    },
    {
      "cell_type": "code",
      "source": [
        "#another way for calculating R2 directily\n",
        "X_trainl1, X_testl1, y_trainl1, y_testl1= train_test_split(\n",
        "     X, y, test_size=0.25, random_state=42)\n",
        "\n",
        "reg = LinearRegression()\n",
        "fit = reg.fit(X_trainl1, y_trainl1)\n",
        "score_trainl1 = fit.score(X_trainl1, y_trainl1)\n",
        "\n",
        "fit = reg.fit(X_testl1, y_testl1)\n",
        "score_testl1 = fit.score(X_testl1, y_testl1)\n",
        "\n",
        "# print(\"Applying reg.score()\")\n",
        "# print(\"R square on training set (L1): \", score_trainl1)\n",
        "# print(\"R square on test set (L1): \", score_testl1)\n",
        "###\n",
        "\n",
        "X_trainl2, X_testl2, y_trainl2, y_testl2= train_test_split(\n",
        "     X, y, test_size=0.25, random_state=42)\n",
        "\n",
        "fit = reg.fit(X_trainl2, y_trainl2)\n",
        "score_trainl2 = fit.score(X_trainl2, y_trainl2)\n",
        "\n",
        "fit = reg.fit(X_testl2, y_testl2)\n",
        "score_testl2 = fit.score(X_testl2, y_testl2)\n",
        "\n",
        "# print(\"Applying reg.score()\")\n",
        "# print(\"R square on training set (L2): \", score_trainl2)\n",
        "# print(\"R square on test set (L2): \", score_testl2)\n",
        "\n",
        "\n",
        "\n"
      ],
      "metadata": {
        "colab": {
          "base_uri": "https://localhost:8080/"
        },
        "id": "jVI7oBtePm-B",
        "outputId": "177ab99e-22db-4642-a0ec-e0ff5b2c0763"
      },
      "execution_count": 34,
      "outputs": [
        {
          "output_type": "stream",
          "name": "stdout",
          "text": [
            "Applying reg.score()\n",
            "R square on training set (L1):  0.9716992501494651\n",
            "R square on test set (L1):  0.9742710333378128\n",
            "Applying reg.score()\n",
            "R square on training set (L2):  0.9716992501494651\n",
            "R square on test set (L2):  0.9742710333378128\n"
          ]
        }
      ]
    },
    {
      "cell_type": "code",
      "source": [
        "#for L1\n",
        "print(\"Applying reg.score()\")\n",
        "print(\"R square on training set (L1): \", score_trainl1)\n",
        "print(\"R square on test set (L1): \", score_testl1)\n",
        "print(\" \")\n",
        "print(\"Calculated manually:\")\n",
        "print(\"R square on training set (L1): \", Rsquare(l1Solution_goodsplit.x, x_trainl1, y_trainl1))\n",
        "print(\"R square on test set (L1): \", Rsquare(l1Solution_goodsplit.x, x_testl1, y_testl1))\n",
        "\n",
        "pl.title(\"L1 Objective Function Minimazation\")\n",
        "\n",
        "pl.plot(x_trainl1, line(x=x_trainl1, m=l1Solution_goodsplit.x[0], b=l1Solution_goodsplit.x[1]), label='train line of fit')\n",
        "pl.plot(x_testl1, line(x=x_testl1, m=l1Solution_badsplit.x[0], b=l1Solution_badsplit.x[1]), label='test line of fit')\n",
        "pl.plot(x_trainl1, y_trainl1, '.', label = \"train\")\n",
        "pl.plot(x_testl1, y_testl1, '.', label='test')\n",
        "\n",
        "pl.xlabel(\"log time\")\n",
        "pl.ylabel(\"magnitude\")\n",
        "\n",
        "pl.legend()\n",
        "\n",
        "pl.show()\n",
        "\n",
        "# print(y_trainl1, y_trainl2)\n",
        "\n",
        "#both have same parameters for the train and test"
      ],
      "metadata": {
        "colab": {
          "base_uri": "https://localhost:8080/",
          "height": 597
        },
        "id": "3RdKzca7fqa4",
        "outputId": "94d0afff-f146-483c-ba73-baa5e982702d"
      },
      "execution_count": 35,
      "outputs": [
        {
          "output_type": "stream",
          "name": "stdout",
          "text": [
            "Applying reg.score()\n",
            "R square on training set (L1):  0.9716992501494651\n",
            "R square on test set (L1):  0.9742710333378128\n",
            " \n",
            "Calculated manually:\n",
            "R square on training set (L1):  0.9705836725696545\n",
            "R square on test set (L1):  0.9718499061534975\n"
          ]
        },
        {
          "output_type": "display_data",
          "data": {
            "text/plain": [
              "<Figure size 640x480 with 1 Axes>"
            ],
            "image/png": "[encoded data removed]"
          },
          "metadata": {}
        }
      ]
    },
    {
      "cell_type": "markdown",
      "source": [
        "Figure 3: A scatterplot of the training and testing datapoints, as well as the corresponding \"lines of fit\" (as indicated in the legend) with the L1 objective function.\n",
        "\n",
        "The R-square values seem to be high (above 0.97 for both training and test, and for both calculated manually and using reg.score()). The way I currently interpret this is that the closer the R-square value is to 1, the closer the scatterplots match to the \"fit\" line. Also seen qualitatively, the scatterplots also do seem to follow the \"trend\" of its corresponding line."
      ],
      "metadata": {
        "id": "qg2UMBKeWs0u"
      }
    },
    {
      "cell_type": "code",
      "source": [
        "#plotting for test vs training in l2\n",
        "# pl.plot(x, y, '.')\n",
        "# pl.plot(x,f )\n",
        "\n",
        "#for L2\n",
        "print(\"Applying reg.score()\")\n",
        "print(\"R square on training set (L2): \", score_trainl2)\n",
        "print(\"R square on test set (L2): \", score_testl2)\n",
        "print(' ')\n",
        "print(\"Calculated manually\")\n",
        "print(\"R square on training set (L2): \", Rsquare(l2Solution_goodsplit.x, x_trainl2, y_trainl2))\n",
        "print(\"R square on test set (L2): \", Rsquare(l2Solution_goodsplit.x, x_testl2, y_testl2))\n",
        "\n",
        "\n",
        "pl.title(\"L2 Objective Function Minimazation\")\n",
        "\n",
        "pl.plot(x_trainl2, line(x=x_trainl2, m=l2Solution_goodsplit.x[0], b=l2Solution_goodsplit.x[1]), label='train line of fit')\n",
        "pl.plot(x_testl2, line(x=x_testl2, m=l2Solution_badsplit.x[0], b=l2Solution_badsplit.x[1]), label='test line of fit')\n",
        "pl.plot(x_trainl2, y_trainl2, '.', label = \"train\")\n",
        "pl.plot(x_testl2, y_testl2, '.', label='test')\n",
        "\n",
        "pl.xlabel(\"log time\")\n",
        "pl.ylabel(\"magnitude\")\n",
        "\n",
        "pl.legend()\n",
        "\n",
        "pl.show()\n"
      ],
      "metadata": {
        "colab": {
          "base_uri": "https://localhost:8080/",
          "height": 597
        },
        "id": "rBbd1DmBUPcs",
        "outputId": "01509d4b-9e74-41c7-e97e-32bae8488c16"
      },
      "execution_count": 36,
      "outputs": [
        {
          "output_type": "stream",
          "name": "stdout",
          "text": [
            "Applying reg.score()\n",
            "R square on training set (L2):  0.9716992501494651\n",
            "R square on test set (L2):  0.9742710333378128\n",
            " \n",
            "Calculated manually\n",
            "R square on training set (L2):  0.9716992501494645\n",
            "R square on test set (L2):  0.9695582520390377\n"
          ]
        },
        {
          "output_type": "display_data",
          "data": {
            "text/plain": [
              "<Figure size 640x480 with 1 Axes>"
            ],
            "image/png": "[encoded data removed]"
          },
          "metadata": {}
        }
      ]
    },
    {
      "cell_type": "markdown",
      "source": [
        "Figure 4: A similar figure as in Figure 3, but for the L2 objective function.\n",
        "\n",
        "Compared to Figure 3, the fit lines do not seem to differ that much. There are, though, quite subtle differences between them. It is seen when we compute the R-square; the values calculated with reg.score() for L2 were the same as that in L2 (?). However, the manually calculated R-square shows slight difference from the previous function, though they still are quite high in value (around 0.97)"
      ],
      "metadata": {
        "id": "RWh_h6zDX8Gj"
      }
    }
  ]
}
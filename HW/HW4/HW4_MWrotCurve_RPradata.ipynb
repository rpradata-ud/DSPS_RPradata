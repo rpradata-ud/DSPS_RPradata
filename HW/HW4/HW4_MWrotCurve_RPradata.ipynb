{
  "nbformat": 4,
  "nbformat_minor": 0,
  "metadata": {
    "kernelspec": {
      "display_name": "Python 3",
      "language": "python",
      "name": "python3"
    },
    "language_info": {
      "codemirror_mode": {
        "name": "ipython",
        "version": 3
      },
      "file_extension": ".py",
      "mimetype": "text/x-python",
      "name": "python",
      "nbconvert_exporter": "python",
      "pygments_lexer": "ipython3",
      "version": "3.6.7"
    },
    "nbTranslate": {
      "displayLangs": [
        "*"
      ],
      "hotkey": "alt-t",
      "langInMainMenu": true,
      "sourceLang": "en",
      "targetLang": "fr",
      "useGoogleTranslate": true
    },
    "toc": {
      "base_numbering": 1,
      "colors": {
        "hover_highlight": "#DAA520",
        "running_highlight": "#FF0000",
        "selected_highlight": "#FFD700"
      },
      "moveMenuLeft": true,
      "nav_menu": {},
      "navigate_menu": true,
      "number_sections": true,
      "sideBar": true,
      "skip_h1_title": false,
      "threshold": 4,
      "title_cell": "Table of Contents",
      "title_sidebar": "Contents",
      "toc_cell": false,
      "toc_position": {
        "height": "calc(100% - 180px)",
        "left": "10px",
        "top": "150px",
        "width": "165px"
      },
      "toc_section_display": true,
      "toc_window_display": true
    },
    "colab": {
      "provenance": [],
      "include_colab_link": true
    }
  },
  "cells": [
    {
      "cell_type": "markdown",
      "metadata": {
        "id": "view-in-github",
        "colab_type": "text"
      },
      "source": [
        "<a href=\"https://colab.research.google.com/github/rpradata-ud/DSPS_RPradata/blob/main/HW/HW4/HW4_MWrotCurve_RPradata.ipynb\" target=\"_parent\"><img src=\"https://colab.research.google.com/assets/colab-badge.svg\" alt=\"Open In Colab\"/></a>"
      ]
    },
    {
      "cell_type": "markdown",
      "metadata": {
        "run_control": {
          "frozen": false,
          "read_only": false
        },
        "id": "rxa6Xa3jOdCI"
      },
      "source": [
        "prepared by federica b bianco @fedhere\n",
        "for UDel DSPS PHYS 461/661\n",
        "\n",
        "# testing the \"significance\" of Dark Matter"
      ]
    },
    {
      "cell_type": "code",
      "metadata": {
        "ExecuteTime": {
          "end_time": "2019-09-16T17:54:57.244596Z",
          "start_time": "2019-09-16T17:54:57.231090Z"
        },
        "run_control": {
          "frozen": false,
          "read_only": false
        },
        "id": "Ya2RaOGbOdCJ"
      },
      "source": [
        "...\n",
        "\n",
        "#package I will use for constants and units conversion\n",
        "import astropy\n",
        "from astropy.constants import G\n",
        "\n",
        "#package used to display latex formuale\n",
        "from IPython.display import Latex\n",
        "\n",
        "import pandas as pd\n",
        "\n",
        "from matplotlib import pyplot as plt\n"
      ],
      "execution_count": 1,
      "outputs": []
    },
    {
      "cell_type": "markdown",
      "metadata": {
        "id": "4qp8A2TG1Gwb"
      },
      "source": [
        "In 1970 Vera Rubin published a seminal paper: she measured the rotational speed of HII regions in several galaxies and how it changed as a function of distance to the center of the galaxy. If we believe Newtonian gravity (or GR) we expect that _once all of the mass is included_, i.e. at a radius distance from the center of the galaxy larger than the radius of the galaxy itself, the rotational speed will be proportional to $v\\propto\\frac{1}/{r}$"
      ]
    },
    {
      "cell_type": "markdown",
      "metadata": {
        "run_control": {
          "frozen": false,
          "read_only": false
        },
        "id": "j-BDrNseOdCR"
      },
      "source": [
        "## Propagation of  uncertainties rules\n",
        "\n",
        "below are the basic rules for propagation of uncertainties - use [this as reference](https://github.com/fedhere/DSPS/blob/master/resources/Managing%20Errors%20and%20Uncertainty.pdf)"
      ]
    },
    {
      "cell_type": "markdown",
      "metadata": {
        "id": "4LnLCwYpPYSv"
      },
      "source": []
    },
    {
      "cell_type": "markdown",
      "metadata": {
        "id": "iCrFipBzOzqp"
      },
      "source": [
        "\n",
        "\n",
        "\n",
        "$$\n",
        "\\begin{eqnarray}\n",
        "z = x  \\pm y  ~| & ~  &dz = \\sqrt{dx^2 + dy^2}\n",
        "\\\\\n",
        "z = x * y  ~| & ~& dz = |xy|  \\sqrt{\\left(\\frac{dx}{x}\\right)^2 +\n",
        "                                \\left(\\frac{dy}{y}\\right)^2} \\\\\n",
        "z = x / y  ~| & ~& dz = \\left|\\frac{x}{y}\\right| \\sqrt{\\left(\\frac{dx}{x}\\right)^2 +\n",
        "                                                   \\left(\\frac{dy}{y}\\right)^2} \\\\\n",
        "z = x^n ~| & ~& dz = |n| ~ x^{n-1}  dx \\\\\n",
        "z = \\mathrm{c}x ~| & ~& dz = |\\mathrm{c}| ~dx \\\\\n",
        "z = f(x, y) ~| & ~& dz = \\sqrt{\\left(\\frac{\\partial f}{\\partial x}\\right)^2 dx^2 +\\left(\\frac{\\partial f}{\\partial y}\\right)^2 dy^2} \\\\\n",
        "\\end{eqnarray}\n",
        "$$\n"
      ]
    },
    {
      "cell_type": "markdown",
      "metadata": {
        "run_control": {
          "frozen": false,
          "read_only": false
        },
        "id": "WcF0zlWCOdCX"
      },
      "source": [
        "# let's assume a Newtonian framework:\n",
        "the velocity of a body in orbit depends only on the gravitational field of the mass that attracts it, and we can assume that mass is concentrated in the center of mass of (the center for simplicity) the system\n",
        "\n",
        "with G the gravitational constant, $r$ the radius, and $m(r)$ the mass contained within that radius we have the orbital velocity $v$:\n"
      ]
    },
    {
      "cell_type": "markdown",
      "metadata": {
        "id": "ZON0DKl5Qm2S"
      },
      "source": [
        "\n",
        "$v^2 = \\frac{G \\cdot m(r)}{r}$\n"
      ]
    },
    {
      "cell_type": "markdown",
      "metadata": {
        "id": "lVfy9lJ21xMT"
      },
      "source": [
        "Derive this $v\\propto\\frac{1}{r}$ from Newron's law $F~=~\\frac{GMm}{r^2}$. Write each formula and describe each step. You can use latex (you really just need to know ```\\frac{}``` and ```^```) and this reference\n",
        "https://www.physicsclassroom.com/calcpad/circgrav"
      ]
    },
    {
      "cell_type": "markdown",
      "source": [
        "From $F~=~\\frac{GMm}{r^2}$\n",
        "we have that the centripetal force of a mass m is $F=\\frac{mv^2}{r}$.\n",
        "Then, equating these two force equations:\n",
        "$\\frac{mv^2}{r}=\\frac{GMm}{r^2}$,\n",
        "and cancel out terms i.e. $r$ and $m$ from both sides.\n",
        "Then, we have $v^2=\\frac{GM}{r}$, hence $v^2\\propto\\frac{1}{r}$.\n"
      ],
      "metadata": {
        "id": "FcVj24uOU-6R"
      }
    },
    {
      "cell_type": "markdown",
      "metadata": {
        "run_control": {
          "frozen": false,
          "read_only": false
        },
        "id": "KQAEJtWuOdCb"
      },
      "source": [
        "## M31 rotational curve"
      ]
    },
    {
      "cell_type": "markdown",
      "metadata": {
        "ExecuteTime": {
          "end_time": "2019-08-02T01:34:15.029084Z",
          "start_time": "2019-08-02T01:34:15.026604Z"
        },
        "run_control": {
          "frozen": false,
          "read_only": false
        },
        "id": "BTaXzFYeOdCc"
      },
      "source": [
        "### data ingestion\n",
        "( I store the original paper as a link on another computer now I have to find it again :-( - sorry I will updat the reference )\n",
        "\n",
        "Get the data from the github repository https://github.com/fedhere/DSPS/tree/master/HW4 : there are 2 files: mw.csv and m31.csv. Start with M31, the Andromeda galaxy, Vera Rubin's original target."
      ]
    },
    {
      "cell_type": "markdown",
      "metadata": {
        "id": "_iFrkUYEV1SS"
      },
      "source": [
        "Note that the data contains 2 types of uncertainties: one significantly smaller than the other. The ```dv``` uncertainty is the propagation of the uncertainty in the location of the HII line. The uncertainty called ```err``` if the full error budget:  including _all_ sources of uncertainty and not just the uncertainty in measuring the location of the line. Retain both, you will test your hypothesis with each one to see if it matters which uncertainty you choose"
      ]
    },
    {
      "cell_type": "code",
      "metadata": {
        "ExecuteTime": {
          "end_time": "2019-08-02T01:34:33.446619Z",
          "start_time": "2019-08-02T01:34:33.435793Z"
        },
        "run_control": {
          "frozen": false,
          "read_only": false
        },
        "id": "eZ7nr5DROdCd",
        "colab": {
          "base_uri": "https://localhost:8080/"
        },
        "outputId": "a232f5e0-edef-43ab-d668-5a4f60a461c4"
      },
      "source": [
        "m31 = pd.read_csv('https://raw.githubusercontent.com/fedhere/DSPS_FBianco/main/HW4/m31.csv', delimiter=',', header=1, skipfooter=1)\n"
      ],
      "execution_count": 2,
      "outputs": [
        {
          "output_type": "stream",
          "name": "stderr",
          "text": [
            "<ipython-input-2-08cfac99e75a>:1: ParserWarning: Falling back to the 'python' engine because the 'c' engine does not support skipfooter; you can avoid this warning by specifying engine='python'.\n",
            "  m31 = pd.read_csv('https://raw.githubusercontent.com/fedhere/DSPS_FBianco/main/HW4/m31.csv', delimiter=',', header=1, skipfooter=1)\n"
          ]
        }
      ]
    },
    {
      "cell_type": "code",
      "metadata": {
        "id": "luL5UrsNQ1M1",
        "colab": {
          "base_uri": "https://localhost:8080/",
          "height": 206
        },
        "outputId": "203b48c9-2698-4bd8-d1b5-867d3187eabf"
      },
      "source": [
        "m31.head()\n"
      ],
      "execution_count": 3,
      "outputs": [
        {
          "output_type": "execute_result",
          "data": {
            "text/plain": [
              "   #R(kpc  V(km/s)  St.dev.  St.error\n",
              "0   0.100  183.939    0.000     0.000\n",
              "1   0.120  190.710   10.265    12.191\n",
              "2   0.144  204.141   22.634    21.808\n",
              "3   0.173  207.601    4.573     4.200\n",
              "4   0.207  210.188    3.943     3.258"
            ],
            "text/html": [
              "\n",
              "  <div id=\"df-37fead9b-58d5-4aae-8833-0f6d4b8edd0a\" class=\"colab-df-container\">\n",
              "    <div>\n",
              "<style scoped>\n",
              "    .dataframe tbody tr th:only-of-type {\n",
              "        vertical-align: middle;\n",
              "    }\n",
              "\n",
              "    .dataframe tbody tr th {\n",
              "        vertical-align: top;\n",
              "    }\n",
              "\n",
              "    .dataframe thead th {\n",
              "        text-align: right;\n",
              "    }\n",
              "</style>\n",
              "<table border=\"1\" class=\"dataframe\">\n",
              "  <thead>\n",
              "    <tr style=\"text-align: right;\">\n",
              "      <th></th>\n",
              "      <th>#R(kpc</th>\n",
              "      <th>V(km/s)</th>\n",
              "      <th>St.dev.</th>\n",
              "      <th>St.error</th>\n",
              "    </tr>\n",
              "  </thead>\n",
              "  <tbody>\n",
              "    <tr>\n",
              "      <th>0</th>\n",
              "      <td>0.100</td>\n",
              "      <td>183.939</td>\n",
              "      <td>0.000</td>\n",
              "      <td>0.000</td>\n",
              "    </tr>\n",
              "    <tr>\n",
              "      <th>1</th>\n",
              "      <td>0.120</td>\n",
              "      <td>190.710</td>\n",
              "      <td>10.265</td>\n",
              "      <td>12.191</td>\n",
              "    </tr>\n",
              "    <tr>\n",
              "      <th>2</th>\n",
              "      <td>0.144</td>\n",
              "      <td>204.141</td>\n",
              "      <td>22.634</td>\n",
              "      <td>21.808</td>\n",
              "    </tr>\n",
              "    <tr>\n",
              "      <th>3</th>\n",
              "      <td>0.173</td>\n",
              "      <td>207.601</td>\n",
              "      <td>4.573</td>\n",
              "      <td>4.200</td>\n",
              "    </tr>\n",
              "    <tr>\n",
              "      <th>4</th>\n",
              "      <td>0.207</td>\n",
              "      <td>210.188</td>\n",
              "      <td>3.943</td>\n",
              "      <td>3.258</td>\n",
              "    </tr>\n",
              "  </tbody>\n",
              "</table>\n",
              "</div>\n",
              "    <div class=\"colab-df-buttons\">\n",
              "\n",
              "  <div class=\"colab-df-container\">\n",
              "    <button class=\"colab-df-convert\" onclick=\"convertToInteractive('df-37fead9b-58d5-4aae-8833-0f6d4b8edd0a')\"\n",
              "            title=\"Convert this dataframe to an interactive table.\"\n",
              "            style=\"display:none;\">\n",
              "\n",
              "  <svg xmlns=\"http://www.w3.org/2000/svg\" height=\"24px\" viewBox=\"0 -960 960 960\">\n",
              "    <path d=\"M120-120v-720h720v720H120Zm60-500h600v-160H180v160Zm220 220h160v-160H400v160Zm0 220h160v-160H400v160ZM180-400h160v-160H180v160Zm440 0h160v-160H620v160ZM180-180h160v-160H180v160Zm440 0h160v-160H620v160Z\"/>\n",
              "  </svg>\n",
              "    </button>\n",
              "\n",
              "  <style>\n",
              "    .colab-df-container {\n",
              "      display:flex;\n",
              "      gap: 12px;\n",
              "    }\n",
              "\n",
              "    .colab-df-convert {\n",
              "      background-color: #E8F0FE;\n",
              "      border: none;\n",
              "      border-radius: 50%;\n",
              "      cursor: pointer;\n",
              "      display: none;\n",
              "      fill: #1967D2;\n",
              "      height: 32px;\n",
              "      padding: 0 0 0 0;\n",
              "      width: 32px;\n",
              "    }\n",
              "\n",
              "    .colab-df-convert:hover {\n",
              "      background-color: #E2EBFA;\n",
              "      box-shadow: 0px 1px 2px rgba(60, 64, 67, 0.3), 0px 1px 3px 1px rgba(60, 64, 67, 0.15);\n",
              "      fill: #174EA6;\n",
              "    }\n",
              "\n",
              "    .colab-df-buttons div {\n",
              "      margin-bottom: 4px;\n",
              "    }\n",
              "\n",
              "    [theme=dark] .colab-df-convert {\n",
              "      background-color: #3B4455;\n",
              "      fill: #D2E3FC;\n",
              "    }\n",
              "\n",
              "    [theme=dark] .colab-df-convert:hover {\n",
              "      background-color: #434B5C;\n",
              "      box-shadow: 0px 1px 3px 1px rgba(0, 0, 0, 0.15);\n",
              "      filter: drop-shadow(0px 1px 2px rgba(0, 0, 0, 0.3));\n",
              "      fill: #FFFFFF;\n",
              "    }\n",
              "  </style>\n",
              "\n",
              "    <script>\n",
              "      const buttonEl =\n",
              "        document.querySelector('#df-37fead9b-58d5-4aae-8833-0f6d4b8edd0a button.colab-df-convert');\n",
              "      buttonEl.style.display =\n",
              "        google.colab.kernel.accessAllowed ? 'block' : 'none';\n",
              "\n",
              "      async function convertToInteractive(key) {\n",
              "        const element = document.querySelector('#df-37fead9b-58d5-4aae-8833-0f6d4b8edd0a');\n",
              "        const dataTable =\n",
              "          await google.colab.kernel.invokeFunction('convertToInteractive',\n",
              "                                                    [key], {});\n",
              "        if (!dataTable) return;\n",
              "\n",
              "        const docLinkHtml = 'Like what you see? Visit the ' +\n",
              "          '<a target=\"_blank\" href=https://colab.research.google.com/notebooks/data_table.ipynb>data table notebook</a>'\n",
              "          + ' to learn more about interactive tables.';\n",
              "        element.innerHTML = '';\n",
              "        dataTable['output_type'] = 'display_data';\n",
              "        await google.colab.output.renderOutput(dataTable, element);\n",
              "        const docLink = document.createElement('div');\n",
              "        docLink.innerHTML = docLinkHtml;\n",
              "        element.appendChild(docLink);\n",
              "      }\n",
              "    </script>\n",
              "  </div>\n",
              "\n",
              "\n",
              "<div id=\"df-a921fa9f-b3bc-40e4-8f64-d4d0884cfbc7\">\n",
              "  <button class=\"colab-df-quickchart\" onclick=\"quickchart('df-a921fa9f-b3bc-40e4-8f64-d4d0884cfbc7')\"\n",
              "            title=\"Suggest charts.\"\n",
              "            style=\"display:none;\">\n",
              "\n",
              "<svg xmlns=\"http://www.w3.org/2000/svg\" height=\"24px\"viewBox=\"0 0 24 24\"\n",
              "     width=\"24px\">\n",
              "    <g>\n",
              "        <path d=\"M19 3H5c-1.1 0-2 .9-2 2v14c0 1.1.9 2 2 2h14c1.1 0 2-.9 2-2V5c0-1.1-.9-2-2-2zM9 17H7v-7h2v7zm4 0h-2V7h2v10zm4 0h-2v-4h2v4z\"/>\n",
              "    </g>\n",
              "</svg>\n",
              "  </button>\n",
              "\n",
              "<style>\n",
              "  .colab-df-quickchart {\n",
              "      --bg-color: #E8F0FE;\n",
              "      --fill-color: #1967D2;\n",
              "      --hover-bg-color: #E2EBFA;\n",
              "      --hover-fill-color: #174EA6;\n",
              "      --disabled-fill-color: #AAA;\n",
              "      --disabled-bg-color: #DDD;\n",
              "  }\n",
              "\n",
              "  [theme=dark] .colab-df-quickchart {\n",
              "      --bg-color: #3B4455;\n",
              "      --fill-color: #D2E3FC;\n",
              "      --hover-bg-color: #434B5C;\n",
              "      --hover-fill-color: #FFFFFF;\n",
              "      --disabled-bg-color: #3B4455;\n",
              "      --disabled-fill-color: #666;\n",
              "  }\n",
              "\n",
              "  .colab-df-quickchart {\n",
              "    background-color: var(--bg-color);\n",
              "    border: none;\n",
              "    border-radius: 50%;\n",
              "    cursor: pointer;\n",
              "    display: none;\n",
              "    fill: var(--fill-color);\n",
              "    height: 32px;\n",
              "    padding: 0;\n",
              "    width: 32px;\n",
              "  }\n",
              "\n",
              "  .colab-df-quickchart:hover {\n",
              "    background-color: var(--hover-bg-color);\n",
              "    box-shadow: 0 1px 2px rgba(60, 64, 67, 0.3), 0 1px 3px 1px rgba(60, 64, 67, 0.15);\n",
              "    fill: var(--button-hover-fill-color);\n",
              "  }\n",
              "\n",
              "  .colab-df-quickchart-complete:disabled,\n",
              "  .colab-df-quickchart-complete:disabled:hover {\n",
              "    background-color: var(--disabled-bg-color);\n",
              "    fill: var(--disabled-fill-color);\n",
              "    box-shadow: none;\n",
              "  }\n",
              "\n",
              "  .colab-df-spinner {\n",
              "    border: 2px solid var(--fill-color);\n",
              "    border-color: transparent;\n",
              "    border-bottom-color: var(--fill-color);\n",
              "    animation:\n",
              "      spin 1s steps(1) infinite;\n",
              "  }\n",
              "\n",
              "  @keyframes spin {\n",
              "    0% {\n",
              "      border-color: transparent;\n",
              "      border-bottom-color: var(--fill-color);\n",
              "      border-left-color: var(--fill-color);\n",
              "    }\n",
              "    20% {\n",
              "      border-color: transparent;\n",
              "      border-left-color: var(--fill-color);\n",
              "      border-top-color: var(--fill-color);\n",
              "    }\n",
              "    30% {\n",
              "      border-color: transparent;\n",
              "      border-left-color: var(--fill-color);\n",
              "      border-top-color: var(--fill-color);\n",
              "      border-right-color: var(--fill-color);\n",
              "    }\n",
              "    40% {\n",
              "      border-color: transparent;\n",
              "      border-right-color: var(--fill-color);\n",
              "      border-top-color: var(--fill-color);\n",
              "    }\n",
              "    60% {\n",
              "      border-color: transparent;\n",
              "      border-right-color: var(--fill-color);\n",
              "    }\n",
              "    80% {\n",
              "      border-color: transparent;\n",
              "      border-right-color: var(--fill-color);\n",
              "      border-bottom-color: var(--fill-color);\n",
              "    }\n",
              "    90% {\n",
              "      border-color: transparent;\n",
              "      border-bottom-color: var(--fill-color);\n",
              "    }\n",
              "  }\n",
              "</style>\n",
              "\n",
              "  <script>\n",
              "    async function quickchart(key) {\n",
              "      const quickchartButtonEl =\n",
              "        document.querySelector('#' + key + ' button');\n",
              "      quickchartButtonEl.disabled = true;  // To prevent multiple clicks.\n",
              "      quickchartButtonEl.classList.add('colab-df-spinner');\n",
              "      try {\n",
              "        const charts = await google.colab.kernel.invokeFunction(\n",
              "            'suggestCharts', [key], {});\n",
              "      } catch (error) {\n",
              "        console.error('Error during call to suggestCharts:', error);\n",
              "      }\n",
              "      quickchartButtonEl.classList.remove('colab-df-spinner');\n",
              "      quickchartButtonEl.classList.add('colab-df-quickchart-complete');\n",
              "    }\n",
              "    (() => {\n",
              "      let quickchartButtonEl =\n",
              "        document.querySelector('#df-a921fa9f-b3bc-40e4-8f64-d4d0884cfbc7 button');\n",
              "      quickchartButtonEl.style.display =\n",
              "        google.colab.kernel.accessAllowed ? 'block' : 'none';\n",
              "    })();\n",
              "  </script>\n",
              "</div>\n",
              "    </div>\n",
              "  </div>\n"
            ]
          },
          "metadata": {},
          "execution_count": 3
        }
      ]
    },
    {
      "cell_type": "code",
      "source": [
        "m31.shape"
      ],
      "metadata": {
        "colab": {
          "base_uri": "https://localhost:8080/"
        },
        "id": "doiIKeqkYI8k",
        "outputId": "106a1686-300c-439e-ac4c-a4e4b5f60c6c"
      },
      "execution_count": 4,
      "outputs": [
        {
          "output_type": "execute_result",
          "data": {
            "text/plain": [
              "(54, 4)"
            ]
          },
          "metadata": {},
          "execution_count": 4
        }
      ]
    },
    {
      "cell_type": "code",
      "source": [
        "m31.rename({'#R(kpc': \"r\", \"V(km/s)\":\"v\", \"St.dev.\": \"dv\", \"St.error\":\"err\"}, axis=1, inplace = True)\n",
        "\n",
        "m31\n"
      ],
      "metadata": {
        "colab": {
          "base_uri": "https://localhost:8080/",
          "height": 1000
        },
        "id": "H9kdWd0FDIsL",
        "outputId": "85e82ffc-fa1a-4f37-da27-29cd94dceab4"
      },
      "execution_count": 5,
      "outputs": [
        {
          "output_type": "execute_result",
          "data": {
            "text/plain": [
              "           r        v       dv     err\n",
              "0      0.100  183.939    0.000   0.000\n",
              "1      0.120  190.710   10.265  12.191\n",
              "2      0.144  204.141   22.634  21.808\n",
              "3      0.173  207.601    4.573   4.200\n",
              "4      0.207  210.188    3.943   3.258\n",
              "5      0.249  213.512    4.218   3.190\n",
              "6      0.299  217.208    3.813   2.623\n",
              "7      0.358  219.673    2.181   1.371\n",
              "8      0.430  219.357    2.193   1.259\n",
              "9      0.516  216.163    3.740   1.961\n",
              "10     0.619  213.670   10.942   5.126\n",
              "11     0.743  219.492   22.599   8.621\n",
              "12     0.892  221.290   30.697  11.225\n",
              "13     1.070  235.332   55.712  22.146\n",
              "14     1.284  242.833   57.034  23.299\n",
              "15     1.541  248.298   52.402  20.013\n",
              "16     1.849  252.880   50.568  18.476\n",
              "17     2.219  245.013   35.176  12.065\n",
              "18     2.662  238.997   16.512   5.510\n",
              "19     3.195  236.551    9.233   3.016\n",
              "20     3.834  228.432   21.131   5.991\n",
              "21     4.601  222.712   30.371   7.494\n",
              "22     5.521  229.124   29.037   6.397\n",
              "23     6.625  243.192   23.592   5.252\n",
              "24     7.950  255.379   18.499   3.929\n",
              "25     9.540  261.368   14.674   2.828\n",
              "26    11.448  263.490   11.448   2.129\n",
              "27    13.737  262.795   10.040   1.772\n",
              "28    16.484  257.345   12.162   1.975\n",
              "29    19.781  246.140   13.446   1.989\n",
              "30    23.738  236.511   11.729   1.580\n",
              "31    28.485  232.335   16.577   2.106\n",
              "32    34.182  233.530   27.353   3.826\n",
              "33    41.019  230.444   52.432   9.815\n",
              "34    49.222  237.069  109.381  23.924\n",
              "35    59.067  249.443  134.552  26.447\n",
              "36    70.880  218.489  132.355  24.657\n",
              "37    85.056  206.603  135.003  27.258\n",
              "38   102.068  213.002  132.456  29.321\n",
              "39   122.481  197.383  105.727  23.358\n",
              "40   146.977  177.521   81.762  16.662\n",
              "41   176.373  165.325   74.652  15.706\n",
              "42   211.647  165.134   76.929  18.733\n",
              "43   253.977  160.787   77.400  22.720\n",
              "44   304.772  151.102   74.793  27.879\n",
              "45   365.727  121.974   96.480  43.431\n",
              "46   438.872  168.303  125.736  51.482\n",
              "47   526.647  200.545  123.350  52.949\n",
              "48   631.976  238.973  147.835  36.195\n",
              "49   758.371  248.069  145.005  19.716\n",
              "50   910.046  250.377  141.353  22.663\n",
              "51  1092.055  241.900  138.657  39.031\n",
              "52  1310.466  235.039  103.480  46.508\n",
              "53  1572.559  332.734  109.504  54.110"
            ],
            "text/html": [
              "\n",
              "  <div id=\"df-3bfaf509-5537-4387-be00-2210fa14638b\" class=\"colab-df-container\">\n",
              "    <div>\n",
              "<style scoped>\n",
              "    .dataframe tbody tr th:only-of-type {\n",
              "        vertical-align: middle;\n",
              "    }\n",
              "\n",
              "    .dataframe tbody tr th {\n",
              "        vertical-align: top;\n",
              "    }\n",
              "\n",
              "    .dataframe thead th {\n",
              "        text-align: right;\n",
              "    }\n",
              "</style>\n",
              "<table border=\"1\" class=\"dataframe\">\n",
              "  <thead>\n",
              "    <tr style=\"text-align: right;\">\n",
              "      <th></th>\n",
              "      <th>r</th>\n",
              "      <th>v</th>\n",
              "      <th>dv</th>\n",
              "      <th>err</th>\n",
              "    </tr>\n",
              "  </thead>\n",
              "  <tbody>\n",
              "    <tr>\n",
              "      <th>0</th>\n",
              "      <td>0.100</td>\n",
              "      <td>183.939</td>\n",
              "      <td>0.000</td>\n",
              "      <td>0.000</td>\n",
              "    </tr>\n",
              "    <tr>\n",
              "      <th>1</th>\n",
              "      <td>0.120</td>\n",
              "      <td>190.710</td>\n",
              "      <td>10.265</td>\n",
              "      <td>12.191</td>\n",
              "    </tr>\n",
              "    <tr>\n",
              "      <th>2</th>\n",
              "      <td>0.144</td>\n",
              "      <td>204.141</td>\n",
              "      <td>22.634</td>\n",
              "      <td>21.808</td>\n",
              "    </tr>\n",
              "    <tr>\n",
              "      <th>3</th>\n",
              "      <td>0.173</td>\n",
              "      <td>207.601</td>\n",
              "      <td>4.573</td>\n",
              "      <td>4.200</td>\n",
              "    </tr>\n",
              "    <tr>\n",
              "      <th>4</th>\n",
              "      <td>0.207</td>\n",
              "      <td>210.188</td>\n",
              "      <td>3.943</td>\n",
              "      <td>3.258</td>\n",
              "    </tr>\n",
              "    <tr>\n",
              "      <th>5</th>\n",
              "      <td>0.249</td>\n",
              "      <td>213.512</td>\n",
              "      <td>4.218</td>\n",
              "      <td>3.190</td>\n",
              "    </tr>\n",
              "    <tr>\n",
              "      <th>6</th>\n",
              "      <td>0.299</td>\n",
              "      <td>217.208</td>\n",
              "      <td>3.813</td>\n",
              "      <td>2.623</td>\n",
              "    </tr>\n",
              "    <tr>\n",
              "      <th>7</th>\n",
              "      <td>0.358</td>\n",
              "      <td>219.673</td>\n",
              "      <td>2.181</td>\n",
              "      <td>1.371</td>\n",
              "    </tr>\n",
              "    <tr>\n",
              "      <th>8</th>\n",
              "      <td>0.430</td>\n",
              "      <td>219.357</td>\n",
              "      <td>2.193</td>\n",
              "      <td>1.259</td>\n",
              "    </tr>\n",
              "    <tr>\n",
              "      <th>9</th>\n",
              "      <td>0.516</td>\n",
              "      <td>216.163</td>\n",
              "      <td>3.740</td>\n",
              "      <td>1.961</td>\n",
              "    </tr>\n",
              "    <tr>\n",
              "      <th>10</th>\n",
              "      <td>0.619</td>\n",
              "      <td>213.670</td>\n",
              "      <td>10.942</td>\n",
              "      <td>5.126</td>\n",
              "    </tr>\n",
              "    <tr>\n",
              "      <th>11</th>\n",
              "      <td>0.743</td>\n",
              "      <td>219.492</td>\n",
              "      <td>22.599</td>\n",
              "      <td>8.621</td>\n",
              "    </tr>\n",
              "    <tr>\n",
              "      <th>12</th>\n",
              "      <td>0.892</td>\n",
              "      <td>221.290</td>\n",
              "      <td>30.697</td>\n",
              "      <td>11.225</td>\n",
              "    </tr>\n",
              "    <tr>\n",
              "      <th>13</th>\n",
              "      <td>1.070</td>\n",
              "      <td>235.332</td>\n",
              "      <td>55.712</td>\n",
              "      <td>22.146</td>\n",
              "    </tr>\n",
              "    <tr>\n",
              "      <th>14</th>\n",
              "      <td>1.284</td>\n",
              "      <td>242.833</td>\n",
              "      <td>57.034</td>\n",
              "      <td>23.299</td>\n",
              "    </tr>\n",
              "    <tr>\n",
              "      <th>15</th>\n",
              "      <td>1.541</td>\n",
              "      <td>248.298</td>\n",
              "      <td>52.402</td>\n",
              "      <td>20.013</td>\n",
              "    </tr>\n",
              "    <tr>\n",
              "      <th>16</th>\n",
              "      <td>1.849</td>\n",
              "      <td>252.880</td>\n",
              "      <td>50.568</td>\n",
              "      <td>18.476</td>\n",
              "    </tr>\n",
              "    <tr>\n",
              "      <th>17</th>\n",
              "      <td>2.219</td>\n",
              "      <td>245.013</td>\n",
              "      <td>35.176</td>\n",
              "      <td>12.065</td>\n",
              "    </tr>\n",
              "    <tr>\n",
              "      <th>18</th>\n",
              "      <td>2.662</td>\n",
              "      <td>238.997</td>\n",
              "      <td>16.512</td>\n",
              "      <td>5.510</td>\n",
              "    </tr>\n",
              "    <tr>\n",
              "      <th>19</th>\n",
              "      <td>3.195</td>\n",
              "      <td>236.551</td>\n",
              "      <td>9.233</td>\n",
              "      <td>3.016</td>\n",
              "    </tr>\n",
              "    <tr>\n",
              "      <th>20</th>\n",
              "      <td>3.834</td>\n",
              "      <td>228.432</td>\n",
              "      <td>21.131</td>\n",
              "      <td>5.991</td>\n",
              "    </tr>\n",
              "    <tr>\n",
              "      <th>21</th>\n",
              "      <td>4.601</td>\n",
              "      <td>222.712</td>\n",
              "      <td>30.371</td>\n",
              "      <td>7.494</td>\n",
              "    </tr>\n",
              "    <tr>\n",
              "      <th>22</th>\n",
              "      <td>5.521</td>\n",
              "      <td>229.124</td>\n",
              "      <td>29.037</td>\n",
              "      <td>6.397</td>\n",
              "    </tr>\n",
              "    <tr>\n",
              "      <th>23</th>\n",
              "      <td>6.625</td>\n",
              "      <td>243.192</td>\n",
              "      <td>23.592</td>\n",
              "      <td>5.252</td>\n",
              "    </tr>\n",
              "    <tr>\n",
              "      <th>24</th>\n",
              "      <td>7.950</td>\n",
              "      <td>255.379</td>\n",
              "      <td>18.499</td>\n",
              "      <td>3.929</td>\n",
              "    </tr>\n",
              "    <tr>\n",
              "      <th>25</th>\n",
              "      <td>9.540</td>\n",
              "      <td>261.368</td>\n",
              "      <td>14.674</td>\n",
              "      <td>2.828</td>\n",
              "    </tr>\n",
              "    <tr>\n",
              "      <th>26</th>\n",
              "      <td>11.448</td>\n",
              "      <td>263.490</td>\n",
              "      <td>11.448</td>\n",
              "      <td>2.129</td>\n",
              "    </tr>\n",
              "    <tr>\n",
              "      <th>27</th>\n",
              "      <td>13.737</td>\n",
              "      <td>262.795</td>\n",
              "      <td>10.040</td>\n",
              "      <td>1.772</td>\n",
              "    </tr>\n",
              "    <tr>\n",
              "      <th>28</th>\n",
              "      <td>16.484</td>\n",
              "      <td>257.345</td>\n",
              "      <td>12.162</td>\n",
              "      <td>1.975</td>\n",
              "    </tr>\n",
              "    <tr>\n",
              "      <th>29</th>\n",
              "      <td>19.781</td>\n",
              "      <td>246.140</td>\n",
              "      <td>13.446</td>\n",
              "      <td>1.989</td>\n",
              "    </tr>\n",
              "    <tr>\n",
              "      <th>30</th>\n",
              "      <td>23.738</td>\n",
              "      <td>236.511</td>\n",
              "      <td>11.729</td>\n",
              "      <td>1.580</td>\n",
              "    </tr>\n",
              "    <tr>\n",
              "      <th>31</th>\n",
              "      <td>28.485</td>\n",
              "      <td>232.335</td>\n",
              "      <td>16.577</td>\n",
              "      <td>2.106</td>\n",
              "    </tr>\n",
              "    <tr>\n",
              "      <th>32</th>\n",
              "      <td>34.182</td>\n",
              "      <td>233.530</td>\n",
              "      <td>27.353</td>\n",
              "      <td>3.826</td>\n",
              "    </tr>\n",
              "    <tr>\n",
              "      <th>33</th>\n",
              "      <td>41.019</td>\n",
              "      <td>230.444</td>\n",
              "      <td>52.432</td>\n",
              "      <td>9.815</td>\n",
              "    </tr>\n",
              "    <tr>\n",
              "      <th>34</th>\n",
              "      <td>49.222</td>\n",
              "      <td>237.069</td>\n",
              "      <td>109.381</td>\n",
              "      <td>23.924</td>\n",
              "    </tr>\n",
              "    <tr>\n",
              "      <th>35</th>\n",
              "      <td>59.067</td>\n",
              "      <td>249.443</td>\n",
              "      <td>134.552</td>\n",
              "      <td>26.447</td>\n",
              "    </tr>\n",
              "    <tr>\n",
              "      <th>36</th>\n",
              "      <td>70.880</td>\n",
              "      <td>218.489</td>\n",
              "      <td>132.355</td>\n",
              "      <td>24.657</td>\n",
              "    </tr>\n",
              "    <tr>\n",
              "      <th>37</th>\n",
              "      <td>85.056</td>\n",
              "      <td>206.603</td>\n",
              "      <td>135.003</td>\n",
              "      <td>27.258</td>\n",
              "    </tr>\n",
              "    <tr>\n",
              "      <th>38</th>\n",
              "      <td>102.068</td>\n",
              "      <td>213.002</td>\n",
              "      <td>132.456</td>\n",
              "      <td>29.321</td>\n",
              "    </tr>\n",
              "    <tr>\n",
              "      <th>39</th>\n",
              "      <td>122.481</td>\n",
              "      <td>197.383</td>\n",
              "      <td>105.727</td>\n",
              "      <td>23.358</td>\n",
              "    </tr>\n",
              "    <tr>\n",
              "      <th>40</th>\n",
              "      <td>146.977</td>\n",
              "      <td>177.521</td>\n",
              "      <td>81.762</td>\n",
              "      <td>16.662</td>\n",
              "    </tr>\n",
              "    <tr>\n",
              "      <th>41</th>\n",
              "      <td>176.373</td>\n",
              "      <td>165.325</td>\n",
              "      <td>74.652</td>\n",
              "      <td>15.706</td>\n",
              "    </tr>\n",
              "    <tr>\n",
              "      <th>42</th>\n",
              "      <td>211.647</td>\n",
              "      <td>165.134</td>\n",
              "      <td>76.929</td>\n",
              "      <td>18.733</td>\n",
              "    </tr>\n",
              "    <tr>\n",
              "      <th>43</th>\n",
              "      <td>253.977</td>\n",
              "      <td>160.787</td>\n",
              "      <td>77.400</td>\n",
              "      <td>22.720</td>\n",
              "    </tr>\n",
              "    <tr>\n",
              "      <th>44</th>\n",
              "      <td>304.772</td>\n",
              "      <td>151.102</td>\n",
              "      <td>74.793</td>\n",
              "      <td>27.879</td>\n",
              "    </tr>\n",
              "    <tr>\n",
              "      <th>45</th>\n",
              "      <td>365.727</td>\n",
              "      <td>121.974</td>\n",
              "      <td>96.480</td>\n",
              "      <td>43.431</td>\n",
              "    </tr>\n",
              "    <tr>\n",
              "      <th>46</th>\n",
              "      <td>438.872</td>\n",
              "      <td>168.303</td>\n",
              "      <td>125.736</td>\n",
              "      <td>51.482</td>\n",
              "    </tr>\n",
              "    <tr>\n",
              "      <th>47</th>\n",
              "      <td>526.647</td>\n",
              "      <td>200.545</td>\n",
              "      <td>123.350</td>\n",
              "      <td>52.949</td>\n",
              "    </tr>\n",
              "    <tr>\n",
              "      <th>48</th>\n",
              "      <td>631.976</td>\n",
              "      <td>238.973</td>\n",
              "      <td>147.835</td>\n",
              "      <td>36.195</td>\n",
              "    </tr>\n",
              "    <tr>\n",
              "      <th>49</th>\n",
              "      <td>758.371</td>\n",
              "      <td>248.069</td>\n",
              "      <td>145.005</td>\n",
              "      <td>19.716</td>\n",
              "    </tr>\n",
              "    <tr>\n",
              "      <th>50</th>\n",
              "      <td>910.046</td>\n",
              "      <td>250.377</td>\n",
              "      <td>141.353</td>\n",
              "      <td>22.663</td>\n",
              "    </tr>\n",
              "    <tr>\n",
              "      <th>51</th>\n",
              "      <td>1092.055</td>\n",
              "      <td>241.900</td>\n",
              "      <td>138.657</td>\n",
              "      <td>39.031</td>\n",
              "    </tr>\n",
              "    <tr>\n",
              "      <th>52</th>\n",
              "      <td>1310.466</td>\n",
              "      <td>235.039</td>\n",
              "      <td>103.480</td>\n",
              "      <td>46.508</td>\n",
              "    </tr>\n",
              "    <tr>\n",
              "      <th>53</th>\n",
              "      <td>1572.559</td>\n",
              "      <td>332.734</td>\n",
              "      <td>109.504</td>\n",
              "      <td>54.110</td>\n",
              "    </tr>\n",
              "  </tbody>\n",
              "</table>\n",
              "</div>\n",
              "    <div class=\"colab-df-buttons\">\n",
              "\n",
              "  <div class=\"colab-df-container\">\n",
              "    <button class=\"colab-df-convert\" onclick=\"convertToInteractive('df-3bfaf509-5537-4387-be00-2210fa14638b')\"\n",
              "            title=\"Convert this dataframe to an interactive table.\"\n",
              "            style=\"display:none;\">\n",
              "\n",
              "  <svg xmlns=\"http://www.w3.org/2000/svg\" height=\"24px\" viewBox=\"0 -960 960 960\">\n",
              "    <path d=\"M120-120v-720h720v720H120Zm60-500h600v-160H180v160Zm220 220h160v-160H400v160Zm0 220h160v-160H400v160ZM180-400h160v-160H180v160Zm440 0h160v-160H620v160ZM180-180h160v-160H180v160Zm440 0h160v-160H620v160Z\"/>\n",
              "  </svg>\n",
              "    </button>\n",
              "\n",
              "  <style>\n",
              "    .colab-df-container {\n",
              "      display:flex;\n",
              "      gap: 12px;\n",
              "    }\n",
              "\n",
              "    .colab-df-convert {\n",
              "      background-color: #E8F0FE;\n",
              "      border: none;\n",
              "      border-radius: 50%;\n",
              "      cursor: pointer;\n",
              "      display: none;\n",
              "      fill: #1967D2;\n",
              "      height: 32px;\n",
              "      padding: 0 0 0 0;\n",
              "      width: 32px;\n",
              "    }\n",
              "\n",
              "    .colab-df-convert:hover {\n",
              "      background-color: #E2EBFA;\n",
              "      box-shadow: 0px 1px 2px rgba(60, 64, 67, 0.3), 0px 1px 3px 1px rgba(60, 64, 67, 0.15);\n",
              "      fill: #174EA6;\n",
              "    }\n",
              "\n",
              "    .colab-df-buttons div {\n",
              "      margin-bottom: 4px;\n",
              "    }\n",
              "\n",
              "    [theme=dark] .colab-df-convert {\n",
              "      background-color: #3B4455;\n",
              "      fill: #D2E3FC;\n",
              "    }\n",
              "\n",
              "    [theme=dark] .colab-df-convert:hover {\n",
              "      background-color: #434B5C;\n",
              "      box-shadow: 0px 1px 3px 1px rgba(0, 0, 0, 0.15);\n",
              "      filter: drop-shadow(0px 1px 2px rgba(0, 0, 0, 0.3));\n",
              "      fill: #FFFFFF;\n",
              "    }\n",
              "  </style>\n",
              "\n",
              "    <script>\n",
              "      const buttonEl =\n",
              "        document.querySelector('#df-3bfaf509-5537-4387-be00-2210fa14638b button.colab-df-convert');\n",
              "      buttonEl.style.display =\n",
              "        google.colab.kernel.accessAllowed ? 'block' : 'none';\n",
              "\n",
              "      async function convertToInteractive(key) {\n",
              "        const element = document.querySelector('#df-3bfaf509-5537-4387-be00-2210fa14638b');\n",
              "        const dataTable =\n",
              "          await google.colab.kernel.invokeFunction('convertToInteractive',\n",
              "                                                    [key], {});\n",
              "        if (!dataTable) return;\n",
              "\n",
              "        const docLinkHtml = 'Like what you see? Visit the ' +\n",
              "          '<a target=\"_blank\" href=https://colab.research.google.com/notebooks/data_table.ipynb>data table notebook</a>'\n",
              "          + ' to learn more about interactive tables.';\n",
              "        element.innerHTML = '';\n",
              "        dataTable['output_type'] = 'display_data';\n",
              "        await google.colab.output.renderOutput(dataTable, element);\n",
              "        const docLink = document.createElement('div');\n",
              "        docLink.innerHTML = docLinkHtml;\n",
              "        element.appendChild(docLink);\n",
              "      }\n",
              "    </script>\n",
              "  </div>\n",
              "\n",
              "\n",
              "<div id=\"df-290b3c3b-a221-41fa-85c8-af1bf15f00f0\">\n",
              "  <button class=\"colab-df-quickchart\" onclick=\"quickchart('df-290b3c3b-a221-41fa-85c8-af1bf15f00f0')\"\n",
              "            title=\"Suggest charts.\"\n",
              "            style=\"display:none;\">\n",
              "\n",
              "<svg xmlns=\"http://www.w3.org/2000/svg\" height=\"24px\"viewBox=\"0 0 24 24\"\n",
              "     width=\"24px\">\n",
              "    <g>\n",
              "        <path d=\"M19 3H5c-1.1 0-2 .9-2 2v14c0 1.1.9 2 2 2h14c1.1 0 2-.9 2-2V5c0-1.1-.9-2-2-2zM9 17H7v-7h2v7zm4 0h-2V7h2v10zm4 0h-2v-4h2v4z\"/>\n",
              "    </g>\n",
              "</svg>\n",
              "  </button>\n",
              "\n",
              "<style>\n",
              "  .colab-df-quickchart {\n",
              "      --bg-color: #E8F0FE;\n",
              "      --fill-color: #1967D2;\n",
              "      --hover-bg-color: #E2EBFA;\n",
              "      --hover-fill-color: #174EA6;\n",
              "      --disabled-fill-color: #AAA;\n",
              "      --disabled-bg-color: #DDD;\n",
              "  }\n",
              "\n",
              "  [theme=dark] .colab-df-quickchart {\n",
              "      --bg-color: #3B4455;\n",
              "      --fill-color: #D2E3FC;\n",
              "      --hover-bg-color: #434B5C;\n",
              "      --hover-fill-color: #FFFFFF;\n",
              "      --disabled-bg-color: #3B4455;\n",
              "      --disabled-fill-color: #666;\n",
              "  }\n",
              "\n",
              "  .colab-df-quickchart {\n",
              "    background-color: var(--bg-color);\n",
              "    border: none;\n",
              "    border-radius: 50%;\n",
              "    cursor: pointer;\n",
              "    display: none;\n",
              "    fill: var(--fill-color);\n",
              "    height: 32px;\n",
              "    padding: 0;\n",
              "    width: 32px;\n",
              "  }\n",
              "\n",
              "  .colab-df-quickchart:hover {\n",
              "    background-color: var(--hover-bg-color);\n",
              "    box-shadow: 0 1px 2px rgba(60, 64, 67, 0.3), 0 1px 3px 1px rgba(60, 64, 67, 0.15);\n",
              "    fill: var(--button-hover-fill-color);\n",
              "  }\n",
              "\n",
              "  .colab-df-quickchart-complete:disabled,\n",
              "  .colab-df-quickchart-complete:disabled:hover {\n",
              "    background-color: var(--disabled-bg-color);\n",
              "    fill: var(--disabled-fill-color);\n",
              "    box-shadow: none;\n",
              "  }\n",
              "\n",
              "  .colab-df-spinner {\n",
              "    border: 2px solid var(--fill-color);\n",
              "    border-color: transparent;\n",
              "    border-bottom-color: var(--fill-color);\n",
              "    animation:\n",
              "      spin 1s steps(1) infinite;\n",
              "  }\n",
              "\n",
              "  @keyframes spin {\n",
              "    0% {\n",
              "      border-color: transparent;\n",
              "      border-bottom-color: var(--fill-color);\n",
              "      border-left-color: var(--fill-color);\n",
              "    }\n",
              "    20% {\n",
              "      border-color: transparent;\n",
              "      border-left-color: var(--fill-color);\n",
              "      border-top-color: var(--fill-color);\n",
              "    }\n",
              "    30% {\n",
              "      border-color: transparent;\n",
              "      border-left-color: var(--fill-color);\n",
              "      border-top-color: var(--fill-color);\n",
              "      border-right-color: var(--fill-color);\n",
              "    }\n",
              "    40% {\n",
              "      border-color: transparent;\n",
              "      border-right-color: var(--fill-color);\n",
              "      border-top-color: var(--fill-color);\n",
              "    }\n",
              "    60% {\n",
              "      border-color: transparent;\n",
              "      border-right-color: var(--fill-color);\n",
              "    }\n",
              "    80% {\n",
              "      border-color: transparent;\n",
              "      border-right-color: var(--fill-color);\n",
              "      border-bottom-color: var(--fill-color);\n",
              "    }\n",
              "    90% {\n",
              "      border-color: transparent;\n",
              "      border-bottom-color: var(--fill-color);\n",
              "    }\n",
              "  }\n",
              "</style>\n",
              "\n",
              "  <script>\n",
              "    async function quickchart(key) {\n",
              "      const quickchartButtonEl =\n",
              "        document.querySelector('#' + key + ' button');\n",
              "      quickchartButtonEl.disabled = true;  // To prevent multiple clicks.\n",
              "      quickchartButtonEl.classList.add('colab-df-spinner');\n",
              "      try {\n",
              "        const charts = await google.colab.kernel.invokeFunction(\n",
              "            'suggestCharts', [key], {});\n",
              "      } catch (error) {\n",
              "        console.error('Error during call to suggestCharts:', error);\n",
              "      }\n",
              "      quickchartButtonEl.classList.remove('colab-df-spinner');\n",
              "      quickchartButtonEl.classList.add('colab-df-quickchart-complete');\n",
              "    }\n",
              "    (() => {\n",
              "      let quickchartButtonEl =\n",
              "        document.querySelector('#df-290b3c3b-a221-41fa-85c8-af1bf15f00f0 button');\n",
              "      quickchartButtonEl.style.display =\n",
              "        google.colab.kernel.accessAllowed ? 'block' : 'none';\n",
              "    })();\n",
              "  </script>\n",
              "</div>\n",
              "    </div>\n",
              "  </div>\n"
            ]
          },
          "metadata": {},
          "execution_count": 5
        }
      ]
    },
    {
      "cell_type": "markdown",
      "source": [
        "# exploratory data analysis\n",
        "proceed with at least a few basic exploratory tasks"
      ],
      "metadata": {
        "id": "8nZhqbhvP2UC"
      }
    },
    {
      "cell_type": "code",
      "metadata": {
        "ExecuteTime": {
          "end_time": "2019-08-02T01:35:26.395158Z",
          "start_time": "2019-08-02T01:35:26.373338Z"
        },
        "run_control": {
          "frozen": false,
          "read_only": false
        },
        "id": "QsNRokb1OdCh",
        "colab": {
          "base_uri": "https://localhost:8080/",
          "height": 497
        },
        "outputId": "fa73d97c-a902-4053-b726-82a8606bbb4f"
      },
      "source": [
        "...\n",
        "\n",
        "fig, ax = plt.subplots(2,2)\n",
        "fig.suptitle(\"histograms of measured M31 values\")\n",
        "ax[0,0].hist(m31['r'], bins=30)\n",
        "ax[0,0].set_xlabel(\"radius (kpc)\")\n",
        "ax[0,0].set_ylabel(\"Frequency\")\n",
        "\n",
        "ax[0,1].hist(m31['v'], bins=30)\n",
        "ax[0,1].set_xlabel(\"velocity(km/s)\")\n",
        "\n",
        "ax[1,0].hist(m31['dv'], bins=30)\n",
        "ax[1,0].set_xlabel(\"dv\")\n",
        "ax[1,0].set_ylabel(\"Frequency\")\n",
        "\n",
        "ax[1,1].hist(m31['err'], bins=30)\n",
        "ax[1,1].set_xlabel(\"err\")\n",
        "\n",
        "\n",
        "\n",
        "fig.subplots_adjust(hspace=0.8)\n",
        "\n",
        "plt.show()"
      ],
      "execution_count": 6,
      "outputs": [
        {
          "output_type": "display_data",
          "data": {
            "text/plain": [
              "<Figure size 640x480 with 4 Axes>"
            ],
            "image/png": "[encoded data removed]"
          },
          "metadata": {}
        }
      ]
    },
    {
      "cell_type": "markdown",
      "source": [
        "Figure 1: Histograms visualizing the Andromeda galaxy radius and velocity measurements, as well as the uncertainties \"dv\" and \"err\". In the top left plot, we can observe that most of the radii measured is around 0-50 kpc, yet they range to slightly above 1500 kpc. Looking at the velocity graph, we can observe a hint of somewhat inverse relationship between this quantity and the radius. Unlike the latter, the frequency of measured velocity increases and peaks around the middle values of the observations. However, it decreases afterwards, which would lead towards what we aim to study. In addition, the uncertainties are shown in the bottom panels, where, as seen in the data frame values of dv become significantly larger than err as we progress in radius."
      ],
      "metadata": {
        "id": "gxyh8Dlziu9k"
      }
    },
    {
      "cell_type": "markdown",
      "metadata": {
        "run_control": {
          "frozen": false,
          "read_only": false
        },
        "id": "Vv0Ut6vOOdCk"
      },
      "source": [
        "from https://en.wikipedia.org/wiki/Andromeda_Galaxy get the extent of the luminous component of M31 (Andromeda). The distance of the Galaxy multiplied by the angular size will give you this information from basic trigonometry (make sure you convert the units properly, using astropy). Make sure you include the uncertainties! uncertainties in the distance will give you the uncertainty in the size\n",
        "   \n"
      ]
    },
    {
      "cell_type": "code",
      "metadata": {
        "id": "kvIFr6D778ri"
      },
      "source": [
        "...\n",
        "\n",
        "apparentSizeM31 = 3.167\n"
      ],
      "execution_count": 7,
      "outputs": []
    },
    {
      "cell_type": "code",
      "metadata": {
        "ExecuteTime": {
          "end_time": "2019-08-02T01:35:41.413407Z",
          "start_time": "2019-08-02T01:35:41.408764Z"
        },
        "run_control": {
          "frozen": false,
          "read_only": false
        },
        "id": "tzGNh98hOdCl",
        "colab": {
          "base_uri": "https://localhost:8080/"
        },
        "outputId": "8b4f4700-610d-4972-f857-1b1773aa4c1f"
      },
      "source": [
        "# note : by PEP8 standards the import should be at the top, I leave it here for hyou to see that I am using astropy.units now\n",
        "from astropy import units as u\n",
        "\n",
        "m31angS = apparentSizeM31 * u.degree\n",
        "\n",
        "#using a = s/d\n",
        "\n",
        "print(\"Angular Size of the visible component of Andromeda: {:.2f}\".format(m31angS.to(u.rad)  ))"
      ],
      "execution_count": 8,
      "outputs": [
        {
          "output_type": "stream",
          "name": "stdout",
          "text": [
            "Angular Size of the visible component of Andromeda: 0.06 rad\n"
          ]
        }
      ]
    },
    {
      "cell_type": "markdown",
      "metadata": {
        "id": "cOw0Y4KNWTOZ"
      },
      "source": [
        "Please make sure you print a sensible number of decimal digits! you have a  number of significant digits set by the number of digit in the info you get from wikipedia"
      ]
    },
    {
      "cell_type": "markdown",
      "metadata": {
        "id": "hF2wXZ988QgS"
      },
      "source": [
        "The distance, from Wikipedia, will have an uncertainty. Convert both to kiloparsecs Kpc"
      ]
    },
    {
      "cell_type": "code",
      "metadata": {
        "ExecuteTime": {
          "end_time": "2019-08-02T01:35:42.257553Z",
          "start_time": "2019-08-02T01:35:42.254539Z"
        },
        "run_control": {
          "frozen": false,
          "read_only": false
        },
        "id": "7-nEP6KrOdCo",
        "colab": {
          "base_uri": "https://localhost:8080/"
        },
        "outputId": "259dcd94-5c66-4c12-9f14-b92433c33e28"
      },
      "source": [
        "...\n",
        "\n",
        "#distance from wikipedia\n",
        "\n",
        "m31Dist = 2.57*(10**6) * u.lightyear\n",
        "m31DistError = 0.06*(10**6) * u.lightyear\n",
        "\n",
        "print(\"Distance of Andromeda: \", r\"{:.2f} +/ {:.2f}\".format(m31Dist.to(u.kpc), m31DistError.to(u.kpc)  ))\n"
      ],
      "execution_count": 9,
      "outputs": [
        {
          "output_type": "stream",
          "name": "stdout",
          "text": [
            "Distance of Andromeda:  787.97 kpc +/ 18.40 kpc\n"
          ]
        }
      ]
    },
    {
      "cell_type": "code",
      "source": [
        "#now calculating physical size. use small angle approx\n",
        "#use radius = dist * sin(alpha) ~ dist * alpha (in rad)\n",
        "\n",
        "m31angS = m31angS.to(u.rad).value\n",
        "\n",
        "m31Dist = m31Dist.to(u.kpc)\n",
        "m31DistError = m31DistError.to(u.kpc)\n",
        "\n",
        "m31Size = m31Dist * m31angS\n",
        "m31SizeError =m31DistError * m31angS\n",
        "\n",
        "m31Size, m31SizeError\n"
      ],
      "metadata": {
        "colab": {
          "base_uri": "https://localhost:8080/"
        },
        "id": "SPl-OH-DM3d-",
        "outputId": "21573eb3-a5b3-4c49-c69d-30ea02b9d3e4"
      },
      "execution_count": 10,
      "outputs": [
        {
          "output_type": "execute_result",
          "data": {
            "text/plain": [
              "(<Quantity 43.55446456 kpc>, <Quantity 1.01683575 kpc>)"
            ]
          },
          "metadata": {},
          "execution_count": 10
        }
      ]
    },
    {
      "cell_type": "code",
      "metadata": {
        "ExecuteTime": {
          "end_time": "2019-08-02T01:35:42.815232Z",
          "start_time": "2019-08-02T01:35:42.810316Z"
        },
        "run_control": {
          "frozen": false,
          "read_only": false
        },
        "id": "0y_V9AuFOdCv",
        "colab": {
          "base_uri": "https://localhost:8080/"
        },
        "outputId": "3a15cf56-62ff-43e7-98bf-17813e35ca4b"
      },
      "source": [
        "...\n",
        "print(\"Size of the visible component of Andromeda: \" +\n",
        "      r\"{:.2f} +/- {:2.2f}\".format(m31Size, m31SizeError))#, m31SizeError\n",
        "\n",
        "\n",
        "\n",
        "#angular size * radius? radius only gives half y. so that we can evaluate radius for next step\n"
      ],
      "execution_count": 11,
      "outputs": [
        {
          "output_type": "stream",
          "name": "stdout",
          "text": [
            "Size of the visible component of Andromeda: 43.55 kpc +/- 1.02 kpc\n"
          ]
        }
      ]
    },
    {
      "cell_type": "markdown",
      "metadata": {
        "id": "_pTXgdTL8jv6"
      },
      "source": [
        "Print the distance like I printed the angular size.\n",
        "\n",
        "To get the physical size of the visible component of andtomeda you can use simple trigonometry: $y = r * sin(\\alpha) ~ \\sim ~ r \\alpha $ for small angles\n",
        "\n",
        "\n",
        "Print the physical size of the Andromeda galaxy (remember decimal digits, proper formatting etc etc).\n"
      ]
    },
    {
      "cell_type": "markdown",
      "metadata": {
        "run_control": {
          "frozen": false,
          "read_only": false
        },
        "id": "97o52hRhOdCy"
      },
      "source": [
        "### find the first measurement  in your data table that includes all the luminous mass.\n",
        "\n",
        "What is the smallest radius in your data where the luminous mass is completely included and what is the veolcity at that radius?\n",
        "You can do it by broadcasting (see homework 3)"
      ]
    },
    {
      "cell_type": "code",
      "source": [
        "# r31_lum = ((m31['r'] >= m31Size))\n",
        "# r31_lums = m31['r'][r31_lum]\n",
        "\n",
        "# r31_lum_min = r31_lums.min()\n",
        "# r31_lum_cond = (m31['r'] == r31_lum_min).iloc()\n",
        "# #now do for all 4 extracted\n",
        "\n",
        "# r31_ext = m31['r'][r31_lum_cond]\n",
        "# v31_ext = m31['v'][r31_lum_cond]\n",
        "# dv31_ext = m31['dv'][r31_lum_cond]\n",
        "# err31_ext = m31['err'][r31_lum_cond]\n",
        "\n",
        "# r31_lum_cond\n",
        "\n",
        "#these broadcastings keep on giving me Series format. so I asked Paula for help\n",
        "\n",
        "r31_ext = m31[m31['r'] >= m31Size].sort_values(by = 'r').iloc[0][0]\n",
        "v31_ext = m31[m31['r'] >= m31Size].sort_values(by = 'r').iloc[0][1]\n",
        "\n",
        "#sort_values will sort that the new concatenated values will move to upper 1st row.\n",
        "#and then iloc will give the row and column. it's already organized in a way that the smallest comes first."
      ],
      "metadata": {
        "id": "iYxKOnxj7IiE"
      },
      "execution_count": 12,
      "outputs": []
    },
    {
      "cell_type": "code",
      "source": [
        "print(\"Smallest radius where luminous mass  is completely included for Andromeda: \" +\n",
        "      r\"{:.2f}\".format(r31_ext * u.kpc) +\"\\n its velocity: \"+r\"{:.2f}\".format(v31_ext * (u.kilometer/ u.second )))"
      ],
      "metadata": {
        "colab": {
          "base_uri": "https://localhost:8080/"
        },
        "id": "uLI_7wpC3OcA",
        "outputId": "775aed37-f8cd-4f70-8701-ba7a5c37619a"
      },
      "execution_count": 13,
      "outputs": [
        {
          "output_type": "stream",
          "name": "stdout",
          "text": [
            "Smallest radius where luminous mass  is completely included for Andromeda: 49.22 kpc\n",
            " its velocity: 237.07 km / s\n"
          ]
        }
      ]
    },
    {
      "cell_type": "markdown",
      "metadata": {
        "run_control": {
          "frozen": false,
          "read_only": false
        },
        "id": "TVWiU84XOdDA"
      },
      "source": [
        "We expect the velocity to decrease as 1/r if all mass is included: the velocity at a radius twice as far as the radius that includes all the mass should be a factor 2 slower, three times as far a factor 3 slower."
      ]
    },
    {
      "cell_type": "markdown",
      "metadata": {
        "id": "b096Ax33SiXl"
      },
      "source": [
        "write a function that\n",
        "\n",
        "1. finds the smallest radius in the dataset that is at least N times the radius of the visible galaxy,\n",
        "\n",
        "2. takes as arguments:\n",
        "    - the data and\n",
        "    - N\n",
        "    - the size of the luminous component of the galaxy\n",
        "\n",
        "2. Returns the value of the radius and its uncertainty and the velocity and its uncertainty"
      ]
    },
    {
      "cell_type": "code",
      "metadata": {
        "ExecuteTime": {
          "end_time": "2019-08-02T02:07:26.053511Z",
          "start_time": "2019-08-02T02:07:26.046677Z"
        },
        "run_control": {
          "frozen": false,
          "read_only": false
        },
        "id": "-_O34Bb7OdC2",
        "colab": {
          "base_uri": "https://localhost:8080/"
        },
        "outputId": "6e30ce6f-b264-4488-c33f-eb2242193e8e"
      },
      "source": [
        "# first measurement including all mass\n",
        "#not take account the errors in finding the values\n",
        "\n",
        "def getradii(data, N, lum_size):\n",
        "  datar_ext = data[data['r'] >= N * lum_size].iloc[0][0]\n",
        "  datav_ext = data[data['r'] >= N * lum_size].iloc[0][1]\n",
        "  datadv_ext = data[data['r'] >= N * lum_size].iloc[0][2]\n",
        "  dataerr_ext = data[data['r'] >= N * lum_size].iloc[0][3]\n",
        "\n",
        "  return datar_ext, datav_ext, datadv_ext, dataerr_ext\n",
        "\n",
        "\n",
        "\n",
        "\n",
        "..."
      ],
      "execution_count": 14,
      "outputs": [
        {
          "output_type": "execute_result",
          "data": {
            "text/plain": [
              "Ellipsis"
            ]
          },
          "metadata": {},
          "execution_count": 14
        }
      ]
    },
    {
      "cell_type": "markdown",
      "metadata": {
        "ExecuteTime": {
          "end_time": "2019-08-01T18:13:58.231637Z",
          "start_time": "2019-08-01T18:13:58.229447Z"
        },
        "run_control": {
          "frozen": false,
          "read_only": false
        },
        "id": "ogu_iquzOdC5"
      },
      "source": [
        "### data visualization"
      ]
    },
    {
      "cell_type": "markdown",
      "metadata": {
        "id": "kJ6MujVJUyel"
      },
      "source": [
        "make a plot that shows\n",
        "\n",
        "1. the rotational curve of the galaxy (as a line)\n",
        "\n",
        "2. each velocity as an errorbar with error equal to err in the same color as the line in 1\n",
        "\n",
        "3. each velocity as an errorbar with error equal to dv in  the same color but a different line thickness\n",
        "\n",
        "\n",
        "4. the datapoint corresponding to N=1, 2, 3 each in a different color.\n",
        "\n",
        "5. add a legend that indicates the meaning of each color (```pl.legend()```)\n",
        "\n",
        "6. add a text that indicates the velocity and its uncertainty (dv and err) just below the largest errorbar (```pl.text()```)\n",
        "\n",
        "7. limit the x axis to the \"relevant\" portion of the data"
      ]
    },
    {
      "cell_type": "code",
      "source": [
        "from matplotlib import pyplot as plt\n",
        "\n",
        "#want to shrink the size to r <= 90\n",
        "\n",
        "# rad = m31['r'][m31['r']<=90]\n",
        "# vel = m31['v'][m31['r']<=90]\n",
        "# dv = m31['dv'][m31['r']<=90]\n",
        "# err = m31['err'][m31['r']<=90]\n",
        "\n",
        "def plotGal(gal, rds):\n",
        "\n",
        "  # plt.errorbar(gal['r'][m31['r']<=90][0], gal['r'][m31['r']<=90][1], yerr=gal['r'][m31['r']<=90][3], linewidth=3, zorder=2, color='steelblue' )\n",
        "  # plt.errorbar(gal['r'][m31['r']<=90][0], gal['r'][m31['r']<=90][1], yerr=gal['r'][m31['r']<=90][2], linewidth=1, zorder=1, color='steelblue' )\n",
        "#that's not how you limit the x-axis^\n",
        "\n",
        "  # plt.show()\n",
        "  plt.plot(gal['r'], gal['v'], linewidth=1.5, zorder=-1, color='steelblue', label='v')\n",
        "  plt.errorbar(gal['r'], gal['v'], yerr=gal['err'], linewidth=3, zorder=2, color='steelblue')\n",
        "  plt.errorbar(gal['r'], gal['v'], yerr=gal['dv'], linewidth=1, zorder=1, color='steelblue' )\n",
        "\n",
        "\n",
        "\n",
        "\n",
        "\n",
        "  ###############################################################################\n",
        "  #4. the datapoint corresponding to N=1, 2, 3 each in a different color.\n",
        "\n",
        "#btw, the radius for m31 is m31Size / 2 (DIVIDE IT BY 2) because we computed it in diameters.\n",
        "#^ https://en.wikipedia.org/wiki/Angular_diameter\n",
        "  plt.errorbar(getradii(gal, 1, rds)[0], getradii(gal, 1, rds)[1], yerr=getradii(gal, 1, rds)[3], linewidth=3, zorder=4, color='black')\n",
        "  #plt.annotate('%.3f \\n (%.1f, %.1f)' % (getradii(gal, 1, rds)[1], getradii(gal, 1, rds)[2], getradii(gal, 1, rds)[3]), xy = (getradii(gal, 1, rds)[0], getradii(gal, 1, rds)[1]))\n",
        "  plt.text(getradii(gal, 1, rds)[0]-5, getradii(gal, 1, rds)[1] - getradii(gal, 1, rds)[2] - 50, '%.3f \\n (%.1f, %.1f)' % (getradii(gal, 1, rds)[1], getradii(gal, 1, rds)[2], getradii(gal, 1, rds)[3]))\n",
        "  plt.errorbar(getradii(gal, 1, rds)[0], getradii(gal, 1, rds)[1], yerr=getradii(gal, 1, rds)[2], linewidth=1.5, zorder=3, color='orange',label='1*radius')\n",
        "  plt.errorbar(getradii(gal, 2, rds)[0], getradii(gal, 2, rds)[1], yerr=getradii(gal, 2, rds)[3], linewidth=3, zorder=4, color='black')\n",
        "  #plt.annotate('%.3f \\n (%.1f, %.1f)' % (getradii(gal, 1, rds)[1], getradii(gal, 1, rds)[2], getradii(gal, 1, rds)[3]), xy = (getradii(gal, 2, rds)[0], getradii(gal, 2, rds)[1]))\n",
        "  plt.text(getradii(gal, 2, rds)[0]-5, getradii(gal, 2, rds)[1] - getradii(gal, 2, rds)[2] - 50, '%.3f \\n (%.1f, %.1f)' % (getradii(gal, 2, rds)[1], getradii(gal, 2, rds)[2], getradii(gal, 2, rds)[3]))\n",
        "  plt.errorbar(getradii(gal, 2, rds)[0], getradii(gal, 2, rds)[1], yerr=getradii(gal, 2, rds)[2], linewidth=1.5, zorder=3, color='green', label='2*radius')\n",
        "  plt.errorbar(getradii(gal, 3, rds)[0], getradii(gal, 3, rds)[1], yerr=getradii(gal, 3, rds)[3], linewidth=3, zorder=4, color='black')\n",
        "  plt.text(getradii(gal, 3, rds)[0]-5, getradii(gal, 3, rds)[1] - getradii(gal, 3, rds)[2] - 50, '%.3f \\n (%.1f, %.1f)' % (getradii(gal, 3, rds)[1], getradii(gal, 3, rds)[2], getradii(gal, 3, rds)[3]))\n",
        "  #plt.annotate('%.3f \\n (%.1f, %.1f)' % (getradii(gal, 1, rds)[1], getradii(gal, 1, rds)[2], getradii(gal, 1, rds)[3]), xy = (getradii(gal, 3, rds)[0], getradii(gal, 3, rds)[1]))\n",
        "  plt.errorbar(getradii(gal, 3, rds)[0], getradii(gal, 3, rds)[1], yerr=getradii(gal, 3, rds)[2], linewidth=1.5, zorder=3, color='red', label='3*radius')\n",
        "\n",
        "  plt.xlim(gal['r'][0], 90)\n",
        "\n",
        "  # plt.autoscale(enable=True, axis='x', tight=True)\n",
        "  plt.legend()\n",
        "\n",
        "  plt.xlabel(\"radius (kpc)\")\n",
        "  plt.ylabel(\"Velocity (km/s)\")\n",
        "\n",
        "\n",
        "  plt.show()\n",
        "\n",
        "plotGal(m31, (m31Size/2))\n",
        "\n",
        "#it's m31Size/2 because m31angS is in diameters.\n",
        "\n",
        "\n"
      ],
      "metadata": {
        "colab": {
          "base_uri": "https://localhost:8080/",
          "height": 449
        },
        "id": "LO_UEChEH-X4",
        "outputId": "72dd919b-e854-44fb-d0f6-6bd8cd7bba65"
      },
      "execution_count": 15,
      "outputs": [
        {
          "output_type": "display_data",
          "data": {
            "text/plain": [
              "<Figure size 640x480 with 1 Axes>"
            ],
            "image/png": "[encoded data removed]"
          },
          "metadata": {}
        }
      ]
    },
    {
      "cell_type": "markdown",
      "source": [
        "Figure 2: Rotational curve of the Andromeda (M31) galaxy, showing radius vs. velocity. The horizontal lines on each datapoint show the errorbars, where the thicker lines indicate \"err\", and thinner lines indicate \"dv\". The smallest radii in the dataset that are at least N=1,2,3 times the radius of the visible galaxy are also marked in the graph, described in the legend.\n",
        "\n",
        "The velocity seems to fluctuate as r increases, which might not be exactly as we expect, comparing to the velocity and r inverse law.\n",
        "\n"
      ],
      "metadata": {
        "id": "ETXA24v-ofJp"
      }
    },
    {
      "cell_type": "markdown",
      "metadata": {
        "id": "bIbv3YrhTo0X"
      },
      "source": [
        "Write a function that for a given dataset and a given luminous radius and a given N\n",
        "  \n",
        "  1) uses the function above to find the radius at least as large as needed and the velocity at that radius,\n",
        "  \n",
        "  2) states the expected drop in rotational velocities according to Newton's law $v\\propto 1/r$\n",
        "  \n",
        "  3) calculates the ratio of radii and the ratio of velocities at N radii from the center N=1 and N=N (input, e.g. 2, 3 etc) with uncertainties,\n",
        "  \n",
        "  4) and stated whether that ratio is consistent within the uncertainties with Newton's law $v \\propto 1/r$\n",
        "  \n",
        "Your function should print\n",
        "\n",
        "     - the expected ratio based on the radii,\n",
        "     - the calculated ratio using ```dv```, and its uncertainty, -\n",
        "     - the 2-$\\sigma$ upper and lower limits of the calculated ratio\n",
        "     - whether the expected ratio is within the $2-\\sigma$ of the calculated ratio,\n",
        "  5) and the same using ```err```  instead of ```dv```"
      ]
    },
    {
      "cell_type": "code",
      "source": [
        "#print function first\n",
        "\n",
        "#given dataset, given luminous radius, given N\n",
        "\n",
        "def vratios(gal, rds, N, err):\n",
        "\n",
        "  if err == \"dv\":\n",
        "    n = 2\n",
        "  if err == 'err':\n",
        "    n = 3\n",
        "\n",
        "  r1 = gal[gal['r'] >= 1 * m31Size/2].iloc[0][0]\n",
        "  v1 = gal[gal['r'] >= 1 * m31Size/2].iloc[0][1]\n",
        "  # dv1 = gal[gal['r'] >= 1 * m31Size/2].iloc[0][2]\n",
        "  error1 = gal[gal['r'] >= 1 * m31Size/2].iloc[0][n]\n",
        "\n",
        "  r2 = gal[gal['r'] >= N * m31Size/2].iloc[0][0]\n",
        "  v2 = gal[gal['r'] >= N * m31Size/2].iloc[0][1]\n",
        "  # dv2 = gal[gal['r'] >= N * m31Size/2].iloc[0][2]\n",
        "  error2 = gal[gal['r'] >= N * m31Size/2].iloc[0][n]\n",
        "\n",
        "  #using sqrt(r1/r2) = v2/v1.\n",
        "\n",
        "  r_drop = (r1/r2)**(1/2)\n",
        "\n",
        "  v_drop = (v2 / v1)\n",
        "\n",
        "  error_drop = (v2/v1) * (((error2/v2)**2+(error1/v1)**2)**(1/2))\n",
        "\n",
        "  twosig_u, twosig_l = v_drop + 2*(error_drop), v_drop - 2*(error_drop)\n",
        "\n",
        "#uncertainties of v are, using formula: v2/v1*(sqrt((dv2/v2)^2)+(dv1/v1)^2) (for dv)\n",
        "\n",
        "\n",
        "  #so we had v^2=GM/r\n",
        "\n",
        "  print(\"At N=%s and error = %s:\" % (N, err))\n",
        "  print(\"Our expected velocity ratio drop from N=1, computed by the radii, is: {:.5f}\".format(r_drop))\n",
        "  print(\"The calculated ratio value from velocity data: {:.5f} +/- {:.5f}\".format(v_drop, error_drop))\n",
        "  print(\"The 2-sigma upper and lower limits of this ratio is then {:.5f} and {:.5f}\".format(twosig_u, twosig_l))\n",
        "  if (r_drop >= twosig_l) and (r_drop <= twosig_u):\n",
        "    print(\"The expected ratio is within 2-sigma of the calculated ratio\")\n",
        "  else:\n",
        "    print(\"The expected ratio is NOT within 2-sigma of the calculated ratio\")\n",
        "\n",
        "  # return r_drop_ratio, v_drop_ratio\n",
        "\n",
        "\n",
        "\n",
        "# vratios(m31, m31Size/2, 2, err='dv')\n",
        "\n",
        "\n"
      ],
      "metadata": {
        "id": "s4oTnPE0K3lI"
      },
      "execution_count": 16,
      "outputs": []
    },
    {
      "cell_type": "code",
      "metadata": {
        "ExecuteTime": {
          "end_time": "2019-08-02T02:22:20.233692Z",
          "start_time": "2019-08-02T02:22:20.225631Z"
        },
        "run_control": {
          "frozen": false,
          "read_only": false
        },
        "id": "8TPkTIthOdDI",
        "colab": {
          "base_uri": "https://localhost:8080/"
        },
        "outputId": "01e22c3e-ff2b-47e8-d9e1-547c2bed4ddb"
      },
      "source": [
        "vratios(m31, m31Size/2, 1, err='dv')\n",
        "\n",
        "print(\" \")\n",
        "\n",
        "vratios(m31, m31Size/2, 1, err='err')\n",
        "\n",
        "#though as stated in question, input should be N>1"
      ],
      "execution_count": 17,
      "outputs": [
        {
          "output_type": "stream",
          "name": "stdout",
          "text": [
            "At N=1 and error = dv:\n",
            "Our expected velocity ratio drop from N=1, computed by the radii, is: 1.00000\n",
            "The calculated ratio value from velocity data: 1.00000 +/- 0.07013\n",
            "The 2-sigma upper and lower limits of this ratio is then 1.14027 and 0.85973\n",
            "The expected ratio is within 2-sigma of the calculated ratio\n",
            " \n",
            "At N=1 and error = err:\n",
            "Our expected velocity ratio drop from N=1, computed by the radii, is: 1.00000\n",
            "The calculated ratio value from velocity data: 1.00000 +/- 0.00945\n",
            "The 2-sigma upper and lower limits of this ratio is then 1.01890 and 0.98110\n",
            "The expected ratio is within 2-sigma of the calculated ratio\n"
          ]
        }
      ]
    },
    {
      "cell_type": "code",
      "metadata": {
        "ExecuteTime": {
          "end_time": "2019-08-02T02:22:26.272266Z",
          "start_time": "2019-08-02T02:22:26.263760Z"
        },
        "run_control": {
          "frozen": false,
          "read_only": false
        },
        "id": "XeQoBcM7OdDP",
        "colab": {
          "base_uri": "https://localhost:8080/"
        },
        "outputId": "0fe6c901-35ae-4282-b4a2-f7030f18a3d5"
      },
      "source": [
        "vratios(m31, m31Size/2, 2, err='dv')"
      ],
      "execution_count": 18,
      "outputs": [
        {
          "output_type": "stream",
          "name": "stdout",
          "text": [
            "At N=2 and error = dv:\n",
            "Our expected velocity ratio drop from N=1, computed by the radii, is: 0.69445\n",
            "The calculated ratio value from velocity data: 1.00236 +/- 0.46514\n",
            "The 2-sigma upper and lower limits of this ratio is then 1.93264 and 0.07208\n",
            "The expected ratio is within 2-sigma of the calculated ratio\n"
          ]
        }
      ]
    },
    {
      "cell_type": "code",
      "metadata": {
        "ExecuteTime": {
          "end_time": "2019-08-02T02:24:18.604569Z",
          "start_time": "2019-08-02T02:24:18.596278Z"
        },
        "run_control": {
          "frozen": false,
          "read_only": false
        },
        "id": "Stigi9P_OdDW",
        "colab": {
          "base_uri": "https://localhost:8080/"
        },
        "outputId": "f5758089-78f3-4ab2-9458-8319b2eaca27"
      },
      "source": [
        "vratios(m31, m31Size/2, 2, err='err')"
      ],
      "execution_count": 19,
      "outputs": [
        {
          "output_type": "stream",
          "name": "stdout",
          "text": [
            "At N=2 and error = err:\n",
            "Our expected velocity ratio drop from N=1, computed by the radii, is: 0.69445\n",
            "The calculated ratio value from velocity data: 1.00236 +/- 0.10138\n",
            "The 2-sigma upper and lower limits of this ratio is then 1.20511 and 0.79961\n",
            "The expected ratio is NOT within 2-sigma of the calculated ratio\n"
          ]
        }
      ]
    },
    {
      "cell_type": "code",
      "source": [
        "vratios(m31, m31Size/2, 3, err='dv')"
      ],
      "metadata": {
        "colab": {
          "base_uri": "https://localhost:8080/"
        },
        "id": "616m2r8bpMCi",
        "outputId": "a695e96c-4c33-4fa0-e3e5-84de5754ae8b"
      },
      "execution_count": 20,
      "outputs": [
        {
          "output_type": "stream",
          "name": "stdout",
          "text": [
            "At N=3 and error = dv:\n",
            "Our expected velocity ratio drop from N=1, computed by the radii, is: 0.57871\n",
            "The calculated ratio value from velocity data: 0.92380 +/- 0.56149\n",
            "The 2-sigma upper and lower limits of this ratio is then 2.04677 and -0.19917\n",
            "The expected ratio is within 2-sigma of the calculated ratio\n"
          ]
        }
      ]
    },
    {
      "cell_type": "code",
      "source": [
        "vratios(m31, m31Size/2, 3, err='err')"
      ],
      "metadata": {
        "colab": {
          "base_uri": "https://localhost:8080/"
        },
        "id": "3RftBDblpSZu",
        "outputId": "d7616026-d752-412e-c876-3568fa12bb69"
      },
      "execution_count": 21,
      "outputs": [
        {
          "output_type": "stream",
          "name": "stdout",
          "text": [
            "At N=3 and error = err:\n",
            "Our expected velocity ratio drop from N=1, computed by the radii, is: 0.57871\n",
            "The calculated ratio value from velocity data: 0.92380 +/- 0.10444\n",
            "The 2-sigma upper and lower limits of this ratio is then 1.13267 and 0.71493\n",
            "The expected ratio is NOT within 2-sigma of the calculated ratio\n"
          ]
        }
      ]
    },
    {
      "cell_type": "code",
      "source": [
        "vratios(m31, m31Size/2, 4, err='dv')"
      ],
      "metadata": {
        "colab": {
          "base_uri": "https://localhost:8080/"
        },
        "id": "qi8QdbQFpaKY",
        "outputId": "a523a87e-3450-48c5-ae49-35b0225fe60f"
      },
      "execution_count": 22,
      "outputs": [
        {
          "output_type": "stream",
          "name": "stdout",
          "text": [
            "At N=4 and error = dv:\n",
            "Our expected velocity ratio drop from N=1, computed by the radii, is: 0.48226\n",
            "The calculated ratio value from velocity data: 0.90060 +/- 0.56182\n",
            "The 2-sigma upper and lower limits of this ratio is then 2.02424 and -0.22304\n",
            "The expected ratio is within 2-sigma of the calculated ratio\n"
          ]
        }
      ]
    },
    {
      "cell_type": "code",
      "source": [
        "vratios(m31, m31Size/2, 4, err='err')"
      ],
      "metadata": {
        "colab": {
          "base_uri": "https://localhost:8080/"
        },
        "id": "pRJwOmx_pcb6",
        "outputId": "fb4a3e72-1165-4b15-aaa3-0eae510188ac"
      },
      "execution_count": 23,
      "outputs": [
        {
          "output_type": "stream",
          "name": "stdout",
          "text": [
            "At N=4 and error = err:\n",
            "Our expected velocity ratio drop from N=1, computed by the radii, is: 0.48226\n",
            "The calculated ratio value from velocity data: 0.90060 +/- 0.12412\n",
            "The 2-sigma upper and lower limits of this ratio is then 1.14884 and 0.65236\n",
            "The expected ratio is NOT within 2-sigma of the calculated ratio\n"
          ]
        }
      ]
    },
    {
      "cell_type": "markdown",
      "metadata": {
        "ExecuteTime": {
          "end_time": "2019-08-02T00:36:41.637045Z",
          "start_time": "2019-08-02T00:36:41.634825Z"
        },
        "run_control": {
          "frozen": false,
          "read_only": false
        },
        "id": "6me5k4c1OdDY"
      },
      "source": [
        "### Discuss!"
      ]
    },
    {
      "cell_type": "markdown",
      "source": [
        "At the M31 Galaxy, we (theoretically) calculate that the velocity ratio decreases as r increases by N=2,3,... . From N=1 to N=3, the 2-sigma upper limits of the measured ratio with the \"dv\" uncertainty increases (from 1.14 to 2.04), yet it slightly decreases at N=4 (with ratio 2.02). With the \"err\" uncertainty, the ratio increases to N=2 yet decreases at N=3 and increases again afterwards.\n",
        "Moreover, we have also computed that throughout N=1,2,3,4, the expected velocity ratio is within 2-sigma of the calculated ratio for uncertainty \"dv\", while that calculated for \"err\" strays from this range from N=2. A large factor for this could be that as measured in the histograms, the values for \"dv\" are generally much larger than for \"err\", hence it is more possible for the expected ratio to lie within the values computed with \"dv\".\n",
        "\n",
        "However, looking at the calculations made with \"err\", this further indicates  \"abnormalities\" of the actual velocity-radius relationship in the galaxy. The measured values and the uncertainties may not intersect with the expected value, and we have also seen a hint of this unexpected relationship in the rotational graph of Figure 2. Therefore, this leads us to infer the existence of \"dark matter\", which might be responsible for this behavior. The study by Sofue (2015) further relates this to the \"dark halo\"."
      ],
      "metadata": {
        "id": "QGkM7iGcet5O"
      }
    },
    {
      "cell_type": "markdown",
      "metadata": {
        "run_control": {
          "frozen": false,
          "read_only": false
        },
        "id": "QIHRn8UlOdDZ"
      },
      "source": [
        "## do the same for the Milky Way. If your functions were create properly you should be able to reuse them seamlessly"
      ]
    },
    {
      "cell_type": "code",
      "metadata": {
        "id": "NVp9cJzv-Dic",
        "colab": {
          "base_uri": "https://localhost:8080/"
        },
        "outputId": "c9c1930e-1c08-45ef-ed35-5746d0749a55"
      },
      "source": [
        "#from Wikipedia, I chose the size of MW to be 26.8 ± 1.1 kiloparsecs\n",
        "\n",
        "mwSize = 26.8 * u.kpc\n",
        "mwSizeError = 1.1 * u.kpc\n",
        "\n",
        "print(\"Size of the visible component of Milky Way: \" +\n",
        "      r\"{:.2f} +/- {:2.2f}\".format(mwSize, mwSizeError))#, m31SizeError"
      ],
      "execution_count": 24,
      "outputs": [
        {
          "output_type": "stream",
          "name": "stdout",
          "text": [
            "Size of the visible component of Milky Way: 26.80 kpc +/- 1.10 kpc\n"
          ]
        }
      ]
    },
    {
      "cell_type": "markdown",
      "metadata": {
        "run_control": {
          "frozen": false,
          "read_only": false
        },
        "id": "oxQofaCKOdDg"
      },
      "source": [
        "https://en.wikipedia.org/wiki/Milky_Way\n",
        "    "
      ]
    },
    {
      "cell_type": "code",
      "source": [
        "#reading in the data for mw\n",
        "mw = pd.read_csv('https://raw.githubusercontent.com/fedhere/DSPS_FBianco/main/HW4/mw.csv', delimiter=',', header=1, skipfooter=1)\n",
        "mw.rename({'R(kpc)': \"r\", \"V(km/s)\":\"v\", \"St.dev.\": \"dv\", \"St.error\":\"err\"}, axis=1, inplace = True)\n",
        "mw.head()\n"
      ],
      "metadata": {
        "colab": {
          "base_uri": "https://localhost:8080/",
          "height": 262
        },
        "id": "UvYMqyPe6W9X",
        "outputId": "7ff2db9c-d1b0-483a-9cd6-f3cbba9d435c"
      },
      "execution_count": 25,
      "outputs": [
        {
          "output_type": "stream",
          "name": "stderr",
          "text": [
            "<ipython-input-25-09ceacf57ca0>:2: ParserWarning: Falling back to the 'python' engine because the 'c' engine does not support skipfooter; you can avoid this warning by specifying engine='python'.\n",
            "  mw = pd.read_csv('https://raw.githubusercontent.com/fedhere/DSPS_FBianco/main/HW4/mw.csv', delimiter=',', header=1, skipfooter=1)\n"
          ]
        },
        {
          "output_type": "execute_result",
          "data": {
            "text/plain": [
              "       r        v      dv     err\n",
              "0  0.010  119.061  41.832  32.714\n",
              "1  0.012  115.268  35.199  17.100\n",
              "2  0.014  117.392  35.152  14.429\n",
              "3  0.017  118.475  35.252  14.870\n",
              "4  0.021  110.386  33.817  14.427"
            ],
            "text/html": [
              "\n",
              "  <div id=\"df-88544f2a-5814-4799-857e-50498ac0ecf5\" class=\"colab-df-container\">\n",
              "    <div>\n",
              "<style scoped>\n",
              "    .dataframe tbody tr th:only-of-type {\n",
              "        vertical-align: middle;\n",
              "    }\n",
              "\n",
              "    .dataframe tbody tr th {\n",
              "        vertical-align: top;\n",
              "    }\n",
              "\n",
              "    .dataframe thead th {\n",
              "        text-align: right;\n",
              "    }\n",
              "</style>\n",
              "<table border=\"1\" class=\"dataframe\">\n",
              "  <thead>\n",
              "    <tr style=\"text-align: right;\">\n",
              "      <th></th>\n",
              "      <th>r</th>\n",
              "      <th>v</th>\n",
              "      <th>dv</th>\n",
              "      <th>err</th>\n",
              "    </tr>\n",
              "  </thead>\n",
              "  <tbody>\n",
              "    <tr>\n",
              "      <th>0</th>\n",
              "      <td>0.010</td>\n",
              "      <td>119.061</td>\n",
              "      <td>41.832</td>\n",
              "      <td>32.714</td>\n",
              "    </tr>\n",
              "    <tr>\n",
              "      <th>1</th>\n",
              "      <td>0.012</td>\n",
              "      <td>115.268</td>\n",
              "      <td>35.199</td>\n",
              "      <td>17.100</td>\n",
              "    </tr>\n",
              "    <tr>\n",
              "      <th>2</th>\n",
              "      <td>0.014</td>\n",
              "      <td>117.392</td>\n",
              "      <td>35.152</td>\n",
              "      <td>14.429</td>\n",
              "    </tr>\n",
              "    <tr>\n",
              "      <th>3</th>\n",
              "      <td>0.017</td>\n",
              "      <td>118.475</td>\n",
              "      <td>35.252</td>\n",
              "      <td>14.870</td>\n",
              "    </tr>\n",
              "    <tr>\n",
              "      <th>4</th>\n",
              "      <td>0.021</td>\n",
              "      <td>110.386</td>\n",
              "      <td>33.817</td>\n",
              "      <td>14.427</td>\n",
              "    </tr>\n",
              "  </tbody>\n",
              "</table>\n",
              "</div>\n",
              "    <div class=\"colab-df-buttons\">\n",
              "\n",
              "  <div class=\"colab-df-container\">\n",
              "    <button class=\"colab-df-convert\" onclick=\"convertToInteractive('df-88544f2a-5814-4799-857e-50498ac0ecf5')\"\n",
              "            title=\"Convert this dataframe to an interactive table.\"\n",
              "            style=\"display:none;\">\n",
              "\n",
              "  <svg xmlns=\"http://www.w3.org/2000/svg\" height=\"24px\" viewBox=\"0 -960 960 960\">\n",
              "    <path d=\"M120-120v-720h720v720H120Zm60-500h600v-160H180v160Zm220 220h160v-160H400v160Zm0 220h160v-160H400v160ZM180-400h160v-160H180v160Zm440 0h160v-160H620v160ZM180-180h160v-160H180v160Zm440 0h160v-160H620v160Z\"/>\n",
              "  </svg>\n",
              "    </button>\n",
              "\n",
              "  <style>\n",
              "    .colab-df-container {\n",
              "      display:flex;\n",
              "      gap: 12px;\n",
              "    }\n",
              "\n",
              "    .colab-df-convert {\n",
              "      background-color: #E8F0FE;\n",
              "      border: none;\n",
              "      border-radius: 50%;\n",
              "      cursor: pointer;\n",
              "      display: none;\n",
              "      fill: #1967D2;\n",
              "      height: 32px;\n",
              "      padding: 0 0 0 0;\n",
              "      width: 32px;\n",
              "    }\n",
              "\n",
              "    .colab-df-convert:hover {\n",
              "      background-color: #E2EBFA;\n",
              "      box-shadow: 0px 1px 2px rgba(60, 64, 67, 0.3), 0px 1px 3px 1px rgba(60, 64, 67, 0.15);\n",
              "      fill: #174EA6;\n",
              "    }\n",
              "\n",
              "    .colab-df-buttons div {\n",
              "      margin-bottom: 4px;\n",
              "    }\n",
              "\n",
              "    [theme=dark] .colab-df-convert {\n",
              "      background-color: #3B4455;\n",
              "      fill: #D2E3FC;\n",
              "    }\n",
              "\n",
              "    [theme=dark] .colab-df-convert:hover {\n",
              "      background-color: #434B5C;\n",
              "      box-shadow: 0px 1px 3px 1px rgba(0, 0, 0, 0.15);\n",
              "      filter: drop-shadow(0px 1px 2px rgba(0, 0, 0, 0.3));\n",
              "      fill: #FFFFFF;\n",
              "    }\n",
              "  </style>\n",
              "\n",
              "    <script>\n",
              "      const buttonEl =\n",
              "        document.querySelector('#df-88544f2a-5814-4799-857e-50498ac0ecf5 button.colab-df-convert');\n",
              "      buttonEl.style.display =\n",
              "        google.colab.kernel.accessAllowed ? 'block' : 'none';\n",
              "\n",
              "      async function convertToInteractive(key) {\n",
              "        const element = document.querySelector('#df-88544f2a-5814-4799-857e-50498ac0ecf5');\n",
              "        const dataTable =\n",
              "          await google.colab.kernel.invokeFunction('convertToInteractive',\n",
              "                                                    [key], {});\n",
              "        if (!dataTable) return;\n",
              "\n",
              "        const docLinkHtml = 'Like what you see? Visit the ' +\n",
              "          '<a target=\"_blank\" href=https://colab.research.google.com/notebooks/data_table.ipynb>data table notebook</a>'\n",
              "          + ' to learn more about interactive tables.';\n",
              "        element.innerHTML = '';\n",
              "        dataTable['output_type'] = 'display_data';\n",
              "        await google.colab.output.renderOutput(dataTable, element);\n",
              "        const docLink = document.createElement('div');\n",
              "        docLink.innerHTML = docLinkHtml;\n",
              "        element.appendChild(docLink);\n",
              "      }\n",
              "    </script>\n",
              "  </div>\n",
              "\n",
              "\n",
              "<div id=\"df-23996493-05df-451f-8994-642c58def5ee\">\n",
              "  <button class=\"colab-df-quickchart\" onclick=\"quickchart('df-23996493-05df-451f-8994-642c58def5ee')\"\n",
              "            title=\"Suggest charts.\"\n",
              "            style=\"display:none;\">\n",
              "\n",
              "<svg xmlns=\"http://www.w3.org/2000/svg\" height=\"24px\"viewBox=\"0 0 24 24\"\n",
              "     width=\"24px\">\n",
              "    <g>\n",
              "        <path d=\"M19 3H5c-1.1 0-2 .9-2 2v14c0 1.1.9 2 2 2h14c1.1 0 2-.9 2-2V5c0-1.1-.9-2-2-2zM9 17H7v-7h2v7zm4 0h-2V7h2v10zm4 0h-2v-4h2v4z\"/>\n",
              "    </g>\n",
              "</svg>\n",
              "  </button>\n",
              "\n",
              "<style>\n",
              "  .colab-df-quickchart {\n",
              "      --bg-color: #E8F0FE;\n",
              "      --fill-color: #1967D2;\n",
              "      --hover-bg-color: #E2EBFA;\n",
              "      --hover-fill-color: #174EA6;\n",
              "      --disabled-fill-color: #AAA;\n",
              "      --disabled-bg-color: #DDD;\n",
              "  }\n",
              "\n",
              "  [theme=dark] .colab-df-quickchart {\n",
              "      --bg-color: #3B4455;\n",
              "      --fill-color: #D2E3FC;\n",
              "      --hover-bg-color: #434B5C;\n",
              "      --hover-fill-color: #FFFFFF;\n",
              "      --disabled-bg-color: #3B4455;\n",
              "      --disabled-fill-color: #666;\n",
              "  }\n",
              "\n",
              "  .colab-df-quickchart {\n",
              "    background-color: var(--bg-color);\n",
              "    border: none;\n",
              "    border-radius: 50%;\n",
              "    cursor: pointer;\n",
              "    display: none;\n",
              "    fill: var(--fill-color);\n",
              "    height: 32px;\n",
              "    padding: 0;\n",
              "    width: 32px;\n",
              "  }\n",
              "\n",
              "  .colab-df-quickchart:hover {\n",
              "    background-color: var(--hover-bg-color);\n",
              "    box-shadow: 0 1px 2px rgba(60, 64, 67, 0.3), 0 1px 3px 1px rgba(60, 64, 67, 0.15);\n",
              "    fill: var(--button-hover-fill-color);\n",
              "  }\n",
              "\n",
              "  .colab-df-quickchart-complete:disabled,\n",
              "  .colab-df-quickchart-complete:disabled:hover {\n",
              "    background-color: var(--disabled-bg-color);\n",
              "    fill: var(--disabled-fill-color);\n",
              "    box-shadow: none;\n",
              "  }\n",
              "\n",
              "  .colab-df-spinner {\n",
              "    border: 2px solid var(--fill-color);\n",
              "    border-color: transparent;\n",
              "    border-bottom-color: var(--fill-color);\n",
              "    animation:\n",
              "      spin 1s steps(1) infinite;\n",
              "  }\n",
              "\n",
              "  @keyframes spin {\n",
              "    0% {\n",
              "      border-color: transparent;\n",
              "      border-bottom-color: var(--fill-color);\n",
              "      border-left-color: var(--fill-color);\n",
              "    }\n",
              "    20% {\n",
              "      border-color: transparent;\n",
              "      border-left-color: var(--fill-color);\n",
              "      border-top-color: var(--fill-color);\n",
              "    }\n",
              "    30% {\n",
              "      border-color: transparent;\n",
              "      border-left-color: var(--fill-color);\n",
              "      border-top-color: var(--fill-color);\n",
              "      border-right-color: var(--fill-color);\n",
              "    }\n",
              "    40% {\n",
              "      border-color: transparent;\n",
              "      border-right-color: var(--fill-color);\n",
              "      border-top-color: var(--fill-color);\n",
              "    }\n",
              "    60% {\n",
              "      border-color: transparent;\n",
              "      border-right-color: var(--fill-color);\n",
              "    }\n",
              "    80% {\n",
              "      border-color: transparent;\n",
              "      border-right-color: var(--fill-color);\n",
              "      border-bottom-color: var(--fill-color);\n",
              "    }\n",
              "    90% {\n",
              "      border-color: transparent;\n",
              "      border-bottom-color: var(--fill-color);\n",
              "    }\n",
              "  }\n",
              "</style>\n",
              "\n",
              "  <script>\n",
              "    async function quickchart(key) {\n",
              "      const quickchartButtonEl =\n",
              "        document.querySelector('#' + key + ' button');\n",
              "      quickchartButtonEl.disabled = true;  // To prevent multiple clicks.\n",
              "      quickchartButtonEl.classList.add('colab-df-spinner');\n",
              "      try {\n",
              "        const charts = await google.colab.kernel.invokeFunction(\n",
              "            'suggestCharts', [key], {});\n",
              "      } catch (error) {\n",
              "        console.error('Error during call to suggestCharts:', error);\n",
              "      }\n",
              "      quickchartButtonEl.classList.remove('colab-df-spinner');\n",
              "      quickchartButtonEl.classList.add('colab-df-quickchart-complete');\n",
              "    }\n",
              "    (() => {\n",
              "      let quickchartButtonEl =\n",
              "        document.querySelector('#df-23996493-05df-451f-8994-642c58def5ee button');\n",
              "      quickchartButtonEl.style.display =\n",
              "        google.colab.kernel.accessAllowed ? 'block' : 'none';\n",
              "    })();\n",
              "  </script>\n",
              "</div>\n",
              "    </div>\n",
              "  </div>\n"
            ]
          },
          "metadata": {},
          "execution_count": 25
        }
      ]
    },
    {
      "cell_type": "code",
      "source": [
        "#exploratory data analysis for milky way\n",
        "\n",
        "#do subplots instead of doing 4 seperate graphs\n",
        "\n",
        "fig, ax = plt.subplots(2,2)\n",
        "fig.suptitle(\"histograms of measured MW values\")\n",
        "ax[0,0].hist(mw['r'], bins=30)\n",
        "ax[0,0].set_xlabel(\"radius (kpc)\")\n",
        "ax[0,0].set_ylabel(\"Frequency\")\n",
        "\n",
        "ax[0,1].hist(mw['v'], bins=30)\n",
        "ax[0,1].set_xlabel(\"velocity(km/s)\")\n",
        "\n",
        "ax[1,0].hist(mw['dv'], bins=30)\n",
        "ax[1,0].set_xlabel(\"dv\")\n",
        "ax[1,0].set_ylabel(\"Frequency\")\n",
        "\n",
        "ax[1,1].hist(mw['err'], bins=30)\n",
        "ax[1,1].set_xlabel(\"err\")\n",
        "\n",
        "\n",
        "\n",
        "fig.subplots_adjust(hspace=0.8)\n",
        "\n",
        "plt.show()\n",
        "\n",
        "\n",
        "#^^change to squares histogram."
      ],
      "metadata": {
        "colab": {
          "base_uri": "https://localhost:8080/",
          "height": 497
        },
        "id": "t2SaRLlT7RAk",
        "outputId": "84575dbd-712e-41a6-f07a-8c9a6aab9300"
      },
      "execution_count": 26,
      "outputs": [
        {
          "output_type": "display_data",
          "data": {
            "text/plain": [
              "<Figure size 640x480 with 4 Axes>"
            ],
            "image/png": "[encoded data removed]"
          },
          "metadata": {}
        }
      ]
    },
    {
      "cell_type": "markdown",
      "source": [
        "Figure 3: Histogram like in Figure 1 showing the radius, velocity and dv & err uncertainties, but for Milky Way. The radius measured also peaks around 0-50 kpc, and ranges to around 1400 kpc. The velocity, however, seems to be slightly more evenly distributed, yet increases in frequency as the velocity increases after 200 km/s. Though, the velocity range of this galaxy (around 100-250 km/s) is slightly different than that of Andromeda (around 120-340 km/s). Moreover, the range of the \"err\" uncertainties is larger than that of the Andromeda measurements."
      ],
      "metadata": {
        "id": "OqNTDKt9mxW2"
      }
    },
    {
      "cell_type": "code",
      "source": [
        "#now try the getradii\n",
        "\n",
        "print(getradii(mw, 1, mwSize/2)[0])"
      ],
      "metadata": {
        "colab": {
          "base_uri": "https://localhost:8080/"
        },
        "id": "_bJ4FVp8_Xkq",
        "outputId": "c1d844a1-c809-4d46-e2e3-7f9f818658dd"
      },
      "execution_count": 27,
      "outputs": [
        {
          "output_type": "stream",
          "name": "stdout",
          "text": [
            "14.698\n"
          ]
        }
      ]
    },
    {
      "cell_type": "code",
      "source": [
        "plotGal(mw, (mwSize/2))"
      ],
      "metadata": {
        "colab": {
          "base_uri": "https://localhost:8080/",
          "height": 449
        },
        "id": "LkIXVQSJ_gpW",
        "outputId": "79f0fb54-d5b4-40b0-fd5b-c0de7411da7b"
      },
      "execution_count": 28,
      "outputs": [
        {
          "output_type": "display_data",
          "data": {
            "text/plain": [
              "<Figure size 640x480 with 1 Axes>"
            ],
            "image/png": "[encoded data removed]"
          },
          "metadata": {}
        }
      ]
    },
    {
      "cell_type": "markdown",
      "source": [
        "Figure 4: The rotational graph of Milky Way, showing velocity vs. radius, and values corresponding to the smallest radii in the dataset at least N=1,2,3 times the radius of the visible galaxy described in the legend. These marked points occur much sooner in radii compared to Andromeda.\n",
        "\n",
        "Moreover, this plot shows a stronger general decrease in velocity vs. radius, which slightly aligns more to the expected relationship. In Sofue (2015), the rotational velocity is plotted through a larger radius range and it is shown that this general decreasing trend continues up to ~160 kpc. The velocity then suddenly increases at that point. The study describes this region to be the \"dark halo\"."
      ],
      "metadata": {
        "id": "7TOn36bZpf-T"
      }
    },
    {
      "cell_type": "markdown",
      "source": [
        "##Ratios for Milky Way"
      ],
      "metadata": {
        "id": "7isKtWEYAbcC"
      }
    },
    {
      "cell_type": "code",
      "source": [
        "vratios(mw, mwSize/2, 1, err='dv')\n",
        "print(\" \")\n",
        "vratios(mw, mwSize/2, 1, err='err')"
      ],
      "metadata": {
        "colab": {
          "base_uri": "https://localhost:8080/"
        },
        "id": "VXIutjCd_l23",
        "outputId": "8e3a3ea4-4bb6-4155-c391-79a3a6f19775"
      },
      "execution_count": 29,
      "outputs": [
        {
          "output_type": "stream",
          "name": "stdout",
          "text": [
            "At N=1 and error = dv:\n",
            "Our expected velocity ratio drop from N=1, computed by the radii, is: 1.00000\n",
            "The calculated ratio value from velocity data: 1.00000 +/- 0.37339\n",
            "The 2-sigma upper and lower limits of this ratio is then 1.74678 and 0.25322\n",
            "The expected ratio is within 2-sigma of the calculated ratio\n",
            " \n",
            "At N=1 and error = err:\n",
            "Our expected velocity ratio drop from N=1, computed by the radii, is: 1.00000\n",
            "The calculated ratio value from velocity data: 1.00000 +/- 0.08143\n",
            "The 2-sigma upper and lower limits of this ratio is then 1.16285 and 0.83715\n",
            "The expected ratio is within 2-sigma of the calculated ratio\n"
          ]
        }
      ]
    },
    {
      "cell_type": "code",
      "source": [
        "vratios(mw, mwSize/2, 2, err='dv')\n",
        "print(\" \")\n",
        "vratios(mw, mwSize/2, 2, err='err')"
      ],
      "metadata": {
        "colab": {
          "base_uri": "https://localhost:8080/"
        },
        "id": "59CMDzh0Ahni",
        "outputId": "24be8d35-0168-42c4-8914-4fcaa2c72613"
      },
      "execution_count": 30,
      "outputs": [
        {
          "output_type": "stream",
          "name": "stdout",
          "text": [
            "At N=2 and error = dv:\n",
            "Our expected velocity ratio drop from N=1, computed by the radii, is: 0.76073\n",
            "The calculated ratio value from velocity data: 0.77217 +/- 0.33892\n",
            "The 2-sigma upper and lower limits of this ratio is then 1.45002 and 0.09432\n",
            "The expected ratio is within 2-sigma of the calculated ratio\n",
            " \n",
            "At N=2 and error = err:\n",
            "Our expected velocity ratio drop from N=1, computed by the radii, is: 0.76073\n",
            "The calculated ratio value from velocity data: 0.77217 +/- 0.10591\n",
            "The 2-sigma upper and lower limits of this ratio is then 0.98399 and 0.56036\n",
            "The expected ratio is within 2-sigma of the calculated ratio\n"
          ]
        }
      ]
    },
    {
      "cell_type": "code",
      "source": [
        "vratios(mw, mwSize/2, 3, err='dv')\n",
        "print(\" \")\n",
        "vratios(mw, mwSize/2, 3, err='err')"
      ],
      "metadata": {
        "colab": {
          "base_uri": "https://localhost:8080/"
        },
        "id": "6Xht8XJdAkQw",
        "outputId": "d0d71439-d87a-4d52-f9c7-54e95e682e63"
      },
      "execution_count": 31,
      "outputs": [
        {
          "output_type": "stream",
          "name": "stdout",
          "text": [
            "At N=3 and error = dv:\n",
            "Our expected velocity ratio drop from N=1, computed by the radii, is: 0.57871\n",
            "The calculated ratio value from velocity data: 0.74278 +/- 0.27619\n",
            "The 2-sigma upper and lower limits of this ratio is then 1.29516 and 0.19040\n",
            "The expected ratio is within 2-sigma of the calculated ratio\n",
            " \n",
            "At N=3 and error = err:\n",
            "Our expected velocity ratio drop from N=1, computed by the radii, is: 0.57871\n",
            "The calculated ratio value from velocity data: 0.74278 +/- 0.07748\n",
            "The 2-sigma upper and lower limits of this ratio is then 0.89774 and 0.58782\n",
            "The expected ratio is NOT within 2-sigma of the calculated ratio\n"
          ]
        }
      ]
    },
    {
      "cell_type": "code",
      "source": [
        "vratios(mw, mwSize/2, 4, err='dv')\n",
        "print(\" \")\n",
        "vratios(mw, mwSize/2, 4, err='err')"
      ],
      "metadata": {
        "colab": {
          "base_uri": "https://localhost:8080/"
        },
        "id": "QFTL6rgaAnEn",
        "outputId": "a98e24f5-36c7-4352-88fd-329b65c282dc"
      },
      "execution_count": 32,
      "outputs": [
        {
          "output_type": "stream",
          "name": "stdout",
          "text": [
            "At N=4 and error = dv:\n",
            "Our expected velocity ratio drop from N=1, computed by the radii, is: 0.52828\n",
            "The calculated ratio value from velocity data: 0.71036 +/- 0.31047\n",
            "The 2-sigma upper and lower limits of this ratio is then 1.33129 and 0.08943\n",
            "The expected ratio is within 2-sigma of the calculated ratio\n",
            " \n",
            "At N=4 and error = err:\n",
            "Our expected velocity ratio drop from N=1, computed by the radii, is: 0.52828\n",
            "The calculated ratio value from velocity data: 0.71036 +/- 0.09221\n",
            "The 2-sigma upper and lower limits of this ratio is then 0.89479 and 0.52593\n",
            "The expected ratio is within 2-sigma of the calculated ratio\n"
          ]
        }
      ]
    },
    {
      "cell_type": "markdown",
      "source": [
        "Computing the expected ratio in comparison with the measured ratios, it is also shown here that using the uncertainty \"dv\", the expected ratio lies within 2-sigma of the observed velocity throughout N=1,2,3,4, yet for \"err\", the value strays from the respective range at N=3. Compared to Andromeda, the values seem to follow the v vs. r theoretical inverse relationship more closely, for the range of N, as also seen in Figure 3. Though, this does not mean that dark matter does not occur in this galaxy--as the expected ratio was shown not to be within 2-sigma of the calculated ratio with \"err\" in N=3. Therefore, we might need to compute this comparison for larger values of N, to see whether a stronger impact of dark matter occurs, which could be a direction of further study."
      ],
      "metadata": {
        "id": "TMd-HI_EsUi2"
      }
    }
  ]
}
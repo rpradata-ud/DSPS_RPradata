{
  "nbformat": 4,
  "nbformat_minor": 0,
  "metadata": {
    "colab": {
      "provenance": [],
      "authorship_tag": "ABX9TyM5u6wTBC5uUVLR6fApkwHo",
      "include_colab_link": true
    },
    "kernelspec": {
      "name": "python3",
      "display_name": "Python 3"
    },
    "language_info": {
      "name": "python"
    }
  },
  "cells": [
    {
      "cell_type": "markdown",
      "metadata": {
        "id": "view-in-github",
        "colab_type": "text"
      },
      "source": [
        "<a href=\"https://colab.research.google.com/github/rpradata-ud/DSPS_RPradata/blob/main/HW/HW4/Problem2HW4DSPS_RPradata.ipynb\" target=\"_parent\"><img src=\"https://colab.research.google.com/assets/colab-badge.svg\" alt=\"Open In Colab\"/></a>"
      ]
    },
    {
      "cell_type": "code",
      "execution_count": 23,
      "metadata": {
        "colab": {
          "base_uri": "https://localhost:8080/"
        },
        "id": "KbtvQVKQ9wn9",
        "outputId": "79bb8ef3-4a50-4c7a-e447-b04bd341d0a4"
      },
      "outputs": [
        {
          "output_type": "stream",
          "name": "stdout",
          "text": [
            "Populating the interactive namespace from numpy and matplotlib\n"
          ]
        },
        {
          "output_type": "stream",
          "name": "stderr",
          "text": [
            "/usr/local/lib/python3.10/dist-packages/IPython/core/magics/pylab.py:159: UserWarning: pylab import has clobbered these variables: ['isin', 'var', 'mean']\n",
            "`%matplotlib` prevents importing * from pylab and numpy\n",
            "  warn(\"pylab import has clobbered these variables: %s\"  % clobbered +\n"
          ]
        }
      ],
      "source": [
        "import numpy as np\n",
        "import pylab as pl\n",
        "#!pip install astropy\n",
        "import scipy as sc\n",
        "\n",
        "\n",
        "%pylab inline\n"
      ]
    },
    {
      "cell_type": "code",
      "source": [
        "#I first had f=likelihood * prior, but the RH side is actually convoluted. so we directly do f = desired function.\n",
        "#f is out desired \"set\" Gaussian distribution with mean=2, variance = 2\n",
        "#in this case, the desired function is the Gaussian with mean 2 and variance 2.\n",
        "\n",
        "#first generate the samples\n",
        "mean = 2\n",
        "var = 2\n",
        "\n",
        "# np.random.seed(320)\n",
        "\n",
        "# x = np.random.rand(10000)\n",
        "\n",
        "z = np.linspace(-2.5, 6)\n",
        "p = sc.stats.norm.pdf(z, loc=mean, scale=var)\n",
        "\n",
        "#note to self: instead of doing random.seed() and random.rand(),\n",
        "\n"
      ],
      "metadata": {
        "id": "7fmt2pT4a1-N"
      },
      "execution_count": 32,
      "outputs": []
    },
    {
      "cell_type": "code",
      "source": [
        "#make condition for the MH MCMC, as described in the problem\n",
        "\n",
        "def isin(x_init, N):\n",
        "\n",
        "  x = x_init\n",
        "  sample_list=np.array([x_init])\n",
        "\n",
        "  for n in range(N-1):\n",
        "\n",
        "\n",
        "    # x_prop = sc.stats.norm.pdf(x, loc = x, scale = 1) #this is defined for q(x'|x) #not true\n",
        "    x_prop = sc.stats.norm.rvs(loc = x, scale = 1) #this is defined for q(x'|x)\n",
        "\n",
        "    f_current = sc.stats.norm.pdf(x, loc = mean, scale = var)\n",
        "    f_prop = sc.stats.norm.pdf(x_prop, loc = mean, scale = var) #instead of previously convoluted f definition.\n",
        "\n",
        "\n",
        "    r = np.random.uniform()\n",
        "    cond = (f_prop) / (f_current)\n",
        "    if cond > r:\n",
        "      x = x_prop\n",
        "      sample_list = np.append(sample_list, x_prop)\n",
        " #otherwise, it is repeated.\n",
        "\n",
        "    else:\n",
        "    # x = x_init\n",
        "      sample_list = np.append(sample_list, x)\n",
        "\n",
        "  return sample_list\n",
        "\n",
        "\n",
        "#another note to self: instead of making the q(x'|x) distribution function as sc.stats.norm.pdf, it needs to be random variated.\n",
        "#so instead, we could use np.random.normal or sc.stats.norm.rvs\n",
        "\n",
        "\n"
      ],
      "metadata": {
        "id": "9i_1ihKEc3qC"
      },
      "execution_count": 25,
      "outputs": []
    },
    {
      "cell_type": "code",
      "source": [
        "samples = isin(0, 10000)\n",
        "\n",
        "samples"
      ],
      "metadata": {
        "colab": {
          "base_uri": "https://localhost:8080/"
        },
        "id": "XxeUr2Z-lyPK",
        "outputId": "13d937f9-1d4f-4f5e-f225-b7b762c5b034"
      },
      "execution_count": 26,
      "outputs": [
        {
          "output_type": "execute_result",
          "data": {
            "text/plain": [
              "array([ 0.        , -0.13023716,  0.03580766, ...,  0.83926782,\n",
              "       -0.03675513,  0.04074368])"
            ]
          },
          "metadata": {},
          "execution_count": 26
        }
      ]
    },
    {
      "cell_type": "code",
      "source": [
        "plt.plot(z, p, zorder=2, label='Fitted Gaussian')\n",
        "plt.hist(samples, bins = 100, density = True, label=\"Histogram of the MH-MCMC Gaussian Samples\")\n",
        "\n",
        "plt.xlabel(\"x\")\n",
        "plt.ylabel('p(x)')\n",
        "\n",
        "plt.legend()\n",
        "\n",
        "plt.show()\n",
        "\n"
      ],
      "metadata": {
        "colab": {
          "base_uri": "https://localhost:8080/",
          "height": 449
        },
        "id": "_qC6RugnnmIZ",
        "outputId": "3f252391-bcfe-49f4-9799-466aedf3e002"
      },
      "execution_count": 31,
      "outputs": [
        {
          "output_type": "display_data",
          "data": {
            "text/plain": [
              "<Figure size 640x480 with 1 Axes>"
            ],
            "image/png": "[encoded data removed]"
          },
          "metadata": {}
        }
      ]
    },
    {
      "cell_type": "markdown",
      "source": [
        "Figure 1: Histogram of the samples run by the MH-MCMC sampler; with mean x and variance 1, with the proposal distribution of a Gaussian. The \"Gaussian fit\" with mean = 2 and variance = 2 is plotted above it.\n",
        "\n",
        "The (histogram) results of the MH-MCMC sampler do clearly seem to approach  that of the Gaussian distribution defined as the sampler density function."
      ],
      "metadata": {
        "id": "lI6-oSBllU-0"
      }
    },
    {
      "cell_type": "code",
      "source": [
        "#^understanding this was hard\n",
        "\n",
        "#and it was also quite difficult to explain it (and physically make sense of it), because I'm still new to this technique\n",
        "#the hard part for me was generating the code\n",
        "\n",
        "#CODING NOTES FOR SELF-LEARNING:\n",
        "\n",
        "#initial working:\n",
        "\n",
        "# #sampler\n",
        "\n",
        "# #\"parameter\": the gaussian function pdf of x\n",
        "\n",
        "# #so sampler has a density function and a proposal distribution\n",
        "\n",
        "# np.random.seed(320)\n",
        "\n",
        "# x = np.random.rand(10000)\n",
        "\n",
        "# # p = sc.stats.norm.pdf(x, loc=2, scale=2)\n",
        "\n",
        "##\n",
        "# #about \"data\"...?\n",
        "\n",
        "# def isin(data, N, x_current, prop_var):\n",
        "#   #so will have likelihood * prior? q(x'|x)*p(x). based on Section 3 p.7, this is the f(x) function.\n",
        "#   sampler_list=[x_current]\n",
        "#   for n in range(N):\n",
        "\n",
        "#     # x_current\n",
        "#     # sampler_list=[x_current]\n",
        "\n",
        "#   # mu_prop = x_current\n",
        "\n",
        "#   #q(x'|x) is to suggest a new position\n",
        "#     x_prop = sc.stats.norm.rvs(loc=x_current, scale=prop_var)\n",
        "\n",
        "\n",
        "\n",
        "#     prior_current = sc.stats.norm.pdf(x_current, loc = 2, scale=2)\n",
        "#     prior_prop = sc.stats.norm.pdf(x_prop, loc=2, scale=2)\n",
        "\n",
        "#   #for priors, is p(x)\n",
        "#   #^this, we had to have to sample in single parameter x which has density function p(x)\n",
        "#     likelihood_current = sc.stats.norm.pdf(data, loc = 2, scale=2)\n",
        "#     likelihood_prop = sc.stats.norm.pdf(data, loc =2, scale = 2)\n",
        "\n",
        "\n",
        "#   #for likelihoods?\n",
        "\n",
        "#   #\n",
        "#     f_current = prior_current * likelihood_current\n",
        "#     f_proposal = prior_prop * likelihood_prop\n",
        "\n",
        "#     cond = (f_proposal/f_current).any()\n",
        "\n",
        "#     if cond > np.random.rand():\n",
        "#       x_current = x_prop\n",
        "\n",
        "#     sampler_list = np.append(sampler_list, x_prop)\n",
        "\n",
        "#   return sampler_list\n",
        "##^extra reading from https://twiecki.io/blog/2015/11/10/mcmc-sampling/\n",
        "\n",
        "# posterior = isin(x, 10000, 0, 1)\n",
        "\n",
        "# fig, ax = plt.subplots()\n",
        "# ax.plot(posterior)\n",
        "\n",
        "# plt.hist(posterior)\n",
        "# plt.show()\n",
        "\n",
        "#^wouldn't give the desired graph. histograms would look choppy.\n",
        "\n",
        "#turns out, part of the problem was that I was very convoluted on the idea of the function f.\n",
        "#the section was describing f = prior * posterior"
      ],
      "metadata": {
        "id": "UWOlMtgnpKcg"
      },
      "execution_count": 28,
      "outputs": []
    },
    {
      "cell_type": "code",
      "source": [
        "#then, trying another method (edited)\n",
        "\n",
        "# # mean = 2\n",
        "# # var = 2\n",
        "\n",
        "# # np.random.seed(320)\n",
        "\n",
        "# # z = np.random.rand(10000)\n",
        "\n",
        "# z = np.linspace(-2.5, 6)\n",
        "\n",
        "# #^won't give right graph for a x vs p(x) pdf graph. instead, use np.linspace.\n",
        "# #initially, was not giving the graph I wanted for a pdf\n",
        "# p = sc.stats.norm.pdf(z, loc=mean, scale=var)\n",
        "\n",
        "# #instead, use method like the one in class\n",
        "\n",
        "# def isin(f_current, f_prop):\n",
        "#   r = np.random.uniform()\n",
        "#   cond = (f_prop) / (f_current)\n",
        "#   if cond > r:\n",
        "#     return True\n",
        "#   return False\n",
        "\n",
        "##^ is alternative to what i did above\n",
        "\n",
        "# #now generate this for N times, to calculate x_prop\n",
        "\n",
        "# N = 10000\n",
        "# x_init = 0\n",
        "\n",
        "# x = x_init\n",
        "\n",
        "# sampled_x = []\n",
        "\n",
        "# for n in range(N):\n",
        "#   #define q function\n",
        "#   sampled_x.append(x)\n",
        "#   # x_prop = sc.stats.norm.pdf(x, loc = x, scale = 1)\n",
        "#   x_prop = np.random.normal(loc = x, scale = 1)\n",
        "#   f_current = sc.stats.norm.pdf(x, loc=2, scale=2)\n",
        "#   f_prop = sc.stats.norm.pdf(x_prop, loc=2, scale = 2)\n",
        "#   k = isin(f_current, f_prop)\n",
        "#   if k == True:\n",
        "#     x = x_prop\n",
        "#     # sampled_x = np.append(sampled_x, x_prop)\n",
        "#   else:\n",
        "#     # sampled_x = np.append(sampled_x, x)\n",
        "#     x = x\n",
        "\n",
        "\n",
        "# #^THE KEY WAS TO USE NP.RANDOM.NORM INSTEAD OF SC.STATS.NORM.PDF to generate q\n",
        "\n",
        "# print(sampled_x)\n",
        "\n",
        "# #ok good not the same all\n",
        "\n",
        "##plotting:\n",
        "# plt.plot(z, p, zorder=2, label='Fitted Gaussian')\n",
        "# plt.hist(sampled_x, bins = 100, density = True, label=\"Histogram of the MH-MCMC Gaussian Samples\")\n",
        "\n",
        "# plt.xlabel(\"x\")\n",
        "# plt.ylabel('p(x)')\n",
        "\n",
        "# plt.legend()\n",
        "\n",
        "# plt.show()\n",
        "\n",
        "# #explain Mean and Variance in figure caption\n"
      ],
      "metadata": {
        "id": "AGDLqs0fpQuD"
      },
      "execution_count": 29,
      "outputs": []
    }
  ]
}
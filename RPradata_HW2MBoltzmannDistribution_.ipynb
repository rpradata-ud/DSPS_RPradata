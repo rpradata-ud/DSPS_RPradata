{
  "nbformat": 4,
  "nbformat_minor": 0,
  "metadata": {
    "colab": {
      "provenance": [],
      "include_colab_link": true
    },
    "kernelspec": {
      "display_name": "Python 3",
      "language": "python",
      "name": "python3"
    },
    "language_info": {
      "codemirror_mode": {
        "name": "ipython",
        "version": 3
      },
      "file_extension": ".py",
      "mimetype": "text/x-python",
      "name": "python",
      "nbconvert_exporter": "python",
      "pygments_lexer": "ipython3",
      "version": "3.7.3"
    },
    "latex_envs": {
      "LaTeX_envs_menu_present": true,
      "autoclose": false,
      "autocomplete": true,
      "bibliofile": "biblio.bib",
      "cite_by": "apalike",
      "current_citInitial": 1,
      "eqLabelWithNumbers": true,
      "eqNumInitial": 1,
      "hotkeys": {
        "equation": "Ctrl-E",
        "itemize": "Ctrl-I"
      },
      "labels_anchors": false,
      "latex_user_defs": false,
      "report_style_numbering": false,
      "user_envs_cfg": false
    },
    "nbTranslate": {
      "displayLangs": [
        "*"
      ],
      "hotkey": "alt-t",
      "langInMainMenu": true,
      "sourceLang": "en",
      "targetLang": "fr",
      "useGoogleTranslate": true
    },
    "toc": {
      "base_numbering": 1,
      "nav_menu": {},
      "number_sections": true,
      "sideBar": true,
      "skip_h1_title": false,
      "title_cell": "Table of Contents",
      "title_sidebar": "Contents",
      "toc_cell": false,
      "toc_position": {},
      "toc_section_display": true,
      "toc_window_display": false
    }
  },
  "cells": [
    {
      "cell_type": "markdown",
      "metadata": {
        "id": "view-in-github",
        "colab_type": "text"
      },
      "source": [
        "<a href=\"https://colab.research.google.com/github/rpradata-ud/DSPS_RPradata/blob/main/RPradata_HW2MBoltzmannDistribution_.ipynb\" target=\"_parent\"><img src=\"https://colab.research.google.com/assets/colab-badge.svg\" alt=\"Open In Colab\"/></a>"
      ]
    },
    {
      "cell_type": "markdown",
      "metadata": {
        "ExecuteTime": {
          "end_time": "2019-09-04T04:50:01.872913Z",
          "start_time": "2019-09-04T04:50:01.869703Z"
        },
        "id": "dk3tkh__KvAc"
      },
      "source": [
        " Written by Federica B. Bianco @fedhere\n",
        "UDel DSPS"
      ]
    },
    {
      "cell_type": "code",
      "metadata": {
        "ExecuteTime": {
          "end_time": "2019-09-07T17:36:53.625807Z",
          "start_time": "2019-09-07T17:36:53.393906Z"
        },
        "colab": {
          "base_uri": "https://localhost:8080/"
        },
        "id": "iQaonMUBqtX2",
        "outputId": "a4e9b7b1-b6eb-4447-faef-0bb9f33f10af"
      },
      "source": [
        "from __future__ import print_function, division\n",
        "import numpy as np\n",
        "import scipy as sp\n",
        "from scipy import stats\n",
        "import pylab as pl\n",
        "%pylab inline\n"
      ],
      "execution_count": null,
      "outputs": [
        {
          "output_type": "stream",
          "name": "stdout",
          "text": [
            "Populating the interactive namespace from numpy and matplotlib\n"
          ]
        }
      ]
    },
    {
      "cell_type": "markdown",
      "metadata": {
        "id": "zu5QKDi5b7vW"
      },
      "source": [
        "# Homework 1: Maxwell Boltzmann distribution"
      ]
    },
    {
      "cell_type": "markdown",
      "metadata": {
        "id": "ueaB0mHCO_iM"
      },
      "source": [
        "In Physics, statistics can help us describe the macroscopic behavior of a system if we know its microscopic properties in a statistical sense. We cannot know the motion of each molecule in a gas, but we can know the distribution of their velocities and positions.   In the mid to late 1800s, James Clerk Maxwell and Ludwig Boltzmann modeled the *distribution of speed of molecules in a gas*. As you probably know, and can intuitive realize, the speed of the molecules depends on the temperature of the gas, which is a macroscopic property, the velocity of the molecules is different for different gas temperatures. **This distribution of velocities is called the Maxwell-Boltzmann distribution.**\n"
      ]
    },
    {
      "cell_type": "markdown",
      "metadata": {
        "id": "7LpR51uQSvN9"
      },
      "source": [
        "It turns out that the Maxwel-Boltzmann distribution is a special case of the [*Chi distribution*](https://en.wikipedia.org/wiki/Chi_distribution). The parameter that controls the shape of a Chi distribution is called \"degrees of freedom\" and the Maxwel-Boltzmann distribution is a Chi distribution _with 3 degrees of freedom_, and with a scale parameter _a_ corresponding to the temperature in some way.\n"
      ]
    },
    {
      "cell_type": "markdown",
      "metadata": {
        "id": "Pc25lN9SUxQL"
      },
      "source": [
        "Below I have created 3 distributions. Based on the description above\n",
        "\n",
        "\n",
        "# 1) label the axes in the plot"
      ]
    },
    {
      "cell_type": "code",
      "metadata": {
        "ExecuteTime": {
          "end_time": "2019-09-07T17:36:56.493299Z",
          "start_time": "2019-09-07T17:36:56.021862Z"
        },
        "colab": {
          "base_uri": "https://localhost:8080/",
          "height": 449
        },
        "id": "LZm2afzhUwuG",
        "outputId": "bc23124b-cc38-4eee-c7d4-9fdb4b135381"
      },
      "source": [
        "np.random.randn(123)\n",
        "fig, ax = pl.subplots()\n",
        "\n",
        "\n",
        "for a in [0.2, 0.6, 1.0]:\n",
        "    height1=np.array([])\n",
        "    height, bins, patch= ax.hist(sp.stats.chi.rvs(df=3, scale=a, size=1000), # could as well be sp.stats.maxwell.rvs(scale=a, size=1000)\n",
        "          bins=np.arange(0,5,0.1)-0.05, alpha=0.7,\n",
        "       label=\"a = %.1f\"%a, edgecolor='grey');\n",
        "\n",
        "\n",
        "\n",
        "# your code to add labels here\n",
        "\n",
        "#plot shows a histogram\n",
        "    ax.set_xlabel('Molecule Velocity')\n",
        "    ax.set_ylabel('Frequency')\n",
        "\n",
        "pl.legend();\n",
        "\n",
        "\n",
        "#this is probability density function\n",
        "\n"
      ],
      "execution_count": null,
      "outputs": [
        {
          "output_type": "display_data",
          "data": {
            "text/plain": [
              "<Figure size 640x480 with 1 Axes>"
            ],
            "image/png": "[encoded data removed]"
          },
          "metadata": {}
        }
      ]
    },
    {
      "cell_type": "markdown",
      "source": [
        "Fig. 1: Histogram showing the frequency distribution of velocities, based on the Mawell-Boltzmann distribution."
      ],
      "metadata": {
        "id": "8-zAc66DSXWF"
      }
    },
    {
      "cell_type": "markdown",
      "metadata": {
        "id": "MGdILsLAaopl"
      },
      "source": [
        "# 2) knowing that the *scale* parameter $a$  is a function of the temperature  *T*, and that the dependency is to a power 1/2, which is correct:\n",
        "   **$a \\propto \\sqrt{T}$**  or **$a \\propto \\sqrt{1/T}$**?\n",
        "\n",
        "   (in other words, is the dependency on the root of the temperature or on the inverse root of the temperature ?)\n"
      ]
    },
    {
      "cell_type": "markdown",
      "metadata": {
        "id": "vMGhorbvcrFM"
      },
      "source": [
        "Your answer here:...\n",
        "\n",
        "The dependency would be on the root of the temperature.\n",
        "\n"
      ]
    },
    {
      "cell_type": "markdown",
      "metadata": {
        "id": "hGeeXYttXLO1"
      },
      "source": [
        "\n",
        "# 3) What is the mean of all three distributions. How does it compare to the most probable molecular speed?\n",
        "From the wikipedia page of the Chi distribution find the formula of the mean of the Chi distribution. The distribution we are using has a scale parameter *a* in addition to the number of degrees of freedom. The mean scales linearly with this parameter:\n",
        "\n",
        "$\\mu_{\\mathrm{MB}, k, a} = a \\cdot \\mu_{\\mathrm{chi}, k}$\n",
        "\n",
        "Using the scipy function ```sp.special.gamma()``` to  calculate the gamma $\\Gamma$ function, and the definition of the mean from the [wikipwdia page of the Chi distribution](https://en.wikipedia.org/wiki/Chi_distribution)\n",
        "**calculate the mean of all three distributions. Compare it with the mean of the empirical distributions I generated in step 1. How does this mean compare to the most probable molecular speed.**\n",
        "(and does it look right based on the plots above?)"
      ]
    },
    {
      "cell_type": "code",
      "metadata": {
        "ExecuteTime": {
          "end_time": "2019-09-07T17:36:59.245480Z",
          "start_time": "2019-09-07T17:36:59.243338Z"
        },
        "id": "-8htAA4mRAVa",
        "colab": {
          "base_uri": "https://localhost:8080/"
        },
        "outputId": "0cff8eb8-336f-4615-aec5-1c4cfd0866ad"
      },
      "source": [
        "# your code here\n",
        "\n",
        "#a. calculate the mean of MB as defined, from calculating the gamma fn\n",
        "#and using the mean of chi as defined\n",
        "\n",
        "#b. and then compare directly to computing the mean of graphs in step 1?\n",
        "\n",
        "#c. compare with \"most probable\" molecular speed: the peaks?\n",
        "#-----\n",
        "#a.\n",
        "space=' '\n",
        "\n",
        "a=[0.2, 0.6, 1.0]\n",
        "\n",
        "df = 3\n",
        "\n",
        "gamma=sp.special.gamma(df)\n",
        "\n",
        "print(\"Gamma[%.1f]: %.1f\" % (df, gamma))\n",
        "print(space)\n",
        "\n",
        "chi_mean = ((2)**(1/2))*(sp.special.gamma((df+1)/2))/(sp.special.gamma(df/2))\n",
        "  #chi_mean is a function of the degree of freedom\n",
        "print(\"mean of chi:\",chi_mean)\n",
        "print(space)\n",
        "\n",
        "mb_mean_array=np.array([])\n",
        "\n",
        "for a in [0.2, 0.6, 1.0]:\n",
        "  mb_mean = a * chi_mean\n",
        "  print(\"MB mean at a=%.1f\" %a, \"is %s\"%(str(mb_mean)))\n",
        "  mb_mean_array=np.append(mb_mean_array, mb_mean)\n",
        "print(space)\n",
        "#b\n",
        "#computing mean of graphs in step 1\n",
        "\n",
        "#calculating according to the plot:\n",
        "print(\"Mean by plot:\")\n",
        "\n",
        "for a in [0.2, 0.6, 1.0]:\n",
        "    # ax.hist(sp.stats.chi.rvs(df=3, scale=a, size=1000), # could as well be sp.stats.maxwell.rvs(scale=a, size=1000)\n",
        "    #       bins=np.arange(0,5,0.1)-0.05, alpha=0.7,\n",
        "    #    label=\"a = %.1f\"%a);\n",
        "\n",
        "    plot_mb_mean=sp.stats.chi.mean(df=3, scale=a)\n",
        "    print(\"MB plot mean at a=%.1f: \"%a, \"%s\"%(str(plot_mb_mean)))\n",
        "\n",
        "print(space)\n",
        "\n",
        "\n",
        "#c\n",
        "#most probable: the tallest: appears most frequently in the histogram!\n",
        "\n",
        "#sp.stats.chi.rvs(df=3, scale=a, size=1000) counted np.mean is the mean in the sample\n",
        "#while calculating directly from the formula, we're counting mean of the WHOLE distribution\n",
        "\n",
        "\n",
        "\n"
      ],
      "execution_count": null,
      "outputs": [
        {
          "output_type": "stream",
          "name": "stdout",
          "text": [
            "Gamma[3.0]: 2.0\n",
            " \n",
            "mean of chi: 1.595769121605731\n",
            " \n",
            "MB mean at a=0.2 is 0.31915382432114625\n",
            "MB mean at a=0.6 is 0.9574614729634385\n",
            "MB mean at a=1.0 is 1.595769121605731\n",
            " \n",
            "Mean by plot:\n",
            "MB plot mean at a=0.2:  0.3191538243211462\n",
            "MB plot mean at a=0.6:  0.9574614729634384\n",
            "MB plot mean at a=1.0:  1.5957691216057308\n",
            " \n"
          ]
        }
      ]
    },
    {
      "cell_type": "markdown",
      "source": [
        "By the results above, we see that we get very similar results from calculating the mean from the formula (as a distribution) and that computed directly from the plot. These values are also close to the most probable velocities seen in the histogram plot, shown as the values that correspond to the highest peaks, at around 0.3, 0.8, 1.7 for a = 0.2, 0.6, and 1.0 respectively.\n",
        "\n",
        "\n",
        "--------------------------------------------------------------"
      ],
      "metadata": {
        "id": "SFLdB0gMgOw0"
      }
    },
    {
      "cell_type": "markdown",
      "metadata": {
        "id": "r7oes80EQER-"
      },
      "source": [
        "This really only holds for perfect gasses, which means under 4 assumptions:\n",
        "- the diameter of the molecules is much smaller than the distance between them\n",
        "- the collisions between molecules conserve energy\n",
        "- the molecules do not interact between collisions and are not subject to any other forces (move at constant speed in a straight line)\n",
        "- the initial position and velocity are random."
      ]
    },
    {
      "cell_type": "markdown",
      "metadata": {
        "id": "3PJ9hjLzQjyA"
      },
      "source": [
        "# Extra Credit:\n",
        "\n",
        "can you create a python (2D) simulation where the molecules behave as describe and calculate their speed evolution from an initial speed that is gaussian distributed? (rather hard!!)\n"
      ]
    },
    {
      "cell_type": "code",
      "metadata": {
        "ExecuteTime": {
          "end_time": "2019-09-07T17:37:01.623460Z",
          "start_time": "2019-09-07T17:37:01.621218Z"
        },
        "id": "6LJU9GPVRO7B"
      },
      "source": [
        "# your code here"
      ],
      "execution_count": null,
      "outputs": []
    }
  ]
}
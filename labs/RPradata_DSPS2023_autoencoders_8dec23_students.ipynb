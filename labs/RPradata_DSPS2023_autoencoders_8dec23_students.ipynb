{
  "nbformat": 4,
  "nbformat_minor": 0,
  "metadata": {
    "colab": {
      "provenance": [],
      "gpuType": "T4",
      "include_colab_link": true
    },
    "kernelspec": {
      "name": "python3",
      "display_name": "Python 3"
    },
    "language_info": {
      "name": "python"
    },
    "accelerator": "GPU"
  },
  "cells": [
    {
      "cell_type": "markdown",
      "metadata": {
        "id": "view-in-github",
        "colab_type": "text"
      },
      "source": [
        "<a href=\"https://colab.research.google.com/github/rpradata-ud/DSPS_RPradata/blob/main/labs/RPradata_DSPS2023_autoencoders_8dec23_students.ipynb\" target=\"_parent\"><img src=\"https://colab.research.google.com/assets/colab-badge.svg\" alt=\"Open In Colab\"/></a>"
      ]
    },
    {
      "cell_type": "code",
      "execution_count": null,
      "metadata": {
        "id": "RuoNYW1mOwbm",
        "colab": {
          "base_uri": "https://localhost:8080/"
        },
        "outputId": "4bcde62a-454a-4a62-b40c-873f856a08d9"
      },
      "outputs": [
        {
          "output_type": "stream",
          "name": "stdout",
          "text": [
            "Collecting icecream\n",
            "  Downloading icecream-2.1.3-py2.py3-none-any.whl (8.4 kB)\n",
            "Collecting colorama>=0.3.9 (from icecream)\n",
            "  Downloading colorama-0.4.6-py2.py3-none-any.whl (25 kB)\n",
            "Requirement already satisfied: pygments>=2.2.0 in /usr/local/lib/python3.10/dist-packages (from icecream) (2.16.1)\n",
            "Collecting executing>=0.3.1 (from icecream)\n",
            "  Downloading executing-2.0.1-py2.py3-none-any.whl (24 kB)\n",
            "Collecting asttokens>=2.0.1 (from icecream)\n",
            "  Downloading asttokens-2.4.1-py2.py3-none-any.whl (27 kB)\n",
            "Requirement already satisfied: six>=1.12.0 in /usr/local/lib/python3.10/dist-packages (from asttokens>=2.0.1->icecream) (1.16.0)\n",
            "Installing collected packages: executing, colorama, asttokens, icecream\n",
            "Successfully installed asttokens-2.4.1 colorama-0.4.6 executing-2.0.1 icecream-2.1.3\n"
          ]
        }
      ],
      "source": [
        "from copy import deepcopy\n",
        "\n",
        "import numpy as np\n",
        "import pandas as pd\n",
        "from matplotlib import pyplot as plt\n",
        "from scipy import stats\n",
        "from scipy.signal import convolve2d\n",
        "\n",
        "from tensorflow import keras\n",
        "from keras.datasets import mnist\n",
        "from keras import layers\n",
        "\n",
        "!pip install icecream\n",
        "from icecream import ic\n",
        "\n",
        "rng = np.random.RandomState(1415)"
      ]
    },
    {
      "cell_type": "markdown",
      "source": [
        "^Willow loves ice cream package"
      ],
      "metadata": {
        "id": "d2k-XQCtEwkp"
      }
    },
    {
      "cell_type": "markdown",
      "source": [
        "NN usage benfit for GPU compared to CPU"
      ],
      "metadata": {
        "id": "8FenKXrqEm2p"
      }
    },
    {
      "cell_type": "markdown",
      "source": [
        "# Load MNIST data"
      ],
      "metadata": {
        "id": "_oo3vtrPR_3c"
      }
    },
    {
      "cell_type": "code",
      "source": [
        "# Load the data and split it between train and test sets\n",
        "(Xtrn, Ytrn), (Xtst, Ytst) = mnist.load_data()"
      ],
      "metadata": {
        "id": "dpyQjiCNPqc_",
        "colab": {
          "base_uri": "https://localhost:8080/"
        },
        "outputId": "9f0f42e6-6ca9-4d9c-dd10-e4ad02724a43"
      },
      "execution_count": null,
      "outputs": [
        {
          "output_type": "stream",
          "name": "stdout",
          "text": [
            "Downloading data from https://storage.googleapis.com/tensorflow/tf-keras-datasets/mnist.npz\n",
            "11490434/11490434 [==============================] - 1s 0us/step\n"
          ]
        }
      ]
    },
    {
      "cell_type": "markdown",
      "source": [
        "^about mnist..."
      ],
      "metadata": {
        "id": "mmtdc-ZHGcym"
      }
    },
    {
      "cell_type": "markdown",
      "source": [
        "# Visualize dataset"
      ],
      "metadata": {
        "id": "fH-viokjSBY2"
      }
    },
    {
      "cell_type": "code",
      "source": [
        "Xtrn.shape, Xtst.shape, Ytrn.shape, Ytst.shape"
      ],
      "metadata": {
        "id": "80PJ4mgLQBC4",
        "colab": {
          "base_uri": "https://localhost:8080/"
        },
        "outputId": "f324d43a-92b2-4f0f-c332-23b6233afd9b"
      },
      "execution_count": null,
      "outputs": [
        {
          "output_type": "execute_result",
          "data": {
            "text/plain": [
              "((60000, 28, 28), (10000, 28, 28), (60000,), (10000,))"
            ]
          },
          "metadata": {},
          "execution_count": 7
        }
      ]
    },
    {
      "cell_type": "code",
      "source": [
        "np.unique(Ytrn)"
      ],
      "metadata": {
        "colab": {
          "base_uri": "https://localhost:8080/"
        },
        "id": "BG-OZvcFFQQy",
        "outputId": "ab9d6200-36bb-431d-fb4b-3398293ead80"
      },
      "execution_count": null,
      "outputs": [
        {
          "output_type": "execute_result",
          "data": {
            "text/plain": [
              "array([0, 1, 2, 3, 4, 5, 6, 7, 8, 9], dtype=uint8)"
            ]
          },
          "metadata": {},
          "execution_count": 8
        }
      ]
    },
    {
      "cell_type": "code",
      "source": [
        "#normalize dataset\n",
        "def plot_images(images, labels, nrows=5, ncols=5, vmin=0, vmax = 255):\n",
        "  fig, axes = plt.subplots(nrows, ncols, sharex = True, sharey=True, figsize = (8,8))\n",
        "\n",
        "  for i in range(nrows * ncols):\n",
        "    ax = axes.flatten()[i]\n",
        "    image = images[i]\n",
        "    label = labels[i]\n",
        "\n",
        "    ax.set_title(label)\n",
        "    ax.imshow(image, vmin=vmin, vmax=vmax, cmap = \"Greys\")\n",
        "    ax.set_aspect(\"equal\")\n",
        "    ax.axis('off')\n",
        "\n",
        "  fig.tight_layout()\n",
        "  fig.show()\n",
        "\n",
        "plot_images(Xtrn , Ytrn)"
      ],
      "metadata": {
        "colab": {
          "base_uri": "https://localhost:8080/",
          "height": 806
        },
        "id": "HUd-_TRjFVlh",
        "outputId": "9d9a9480-87e1-492c-dc04-6858b2a4c3bd"
      },
      "execution_count": null,
      "outputs": [
        {
          "output_type": "display_data",
          "data": {
            "text/plain": [
              "<Figure size 800x800 with 25 Axes>"
            ],
            "image/png": "[encoded data removed]"
          },
          "metadata": {}
        }
      ]
    },
    {
      "cell_type": "code",
      "source": [],
      "metadata": {
        "id": "amCzZDM2FYBh"
      },
      "execution_count": null,
      "outputs": []
    },
    {
      "cell_type": "markdown",
      "source": [
        "# Normalize the images"
      ],
      "metadata": {
        "id": "H_KmtM6oSFKv"
      }
    },
    {
      "cell_type": "code",
      "source": [
        "def normalize_255(array):\n",
        "  normed_array = array/255\n",
        "  return normed_array\n",
        "\n",
        "XtrnN = normalize_255(Xtrn)\n",
        "XtstN = normalize_255(Xtst)\n",
        "\n",
        "XtrnN.min(), XtrnN.max()"
      ],
      "metadata": {
        "id": "AgjOHLXyQZHX",
        "colab": {
          "base_uri": "https://localhost:8080/"
        },
        "outputId": "0847d554-283b-44fb-9600-63bc6f909c21"
      },
      "execution_count": null,
      "outputs": [
        {
          "output_type": "execute_result",
          "data": {
            "text/plain": [
              "(0.0, 1.0)"
            ]
          },
          "metadata": {},
          "execution_count": 11
        }
      ]
    },
    {
      "cell_type": "markdown",
      "source": [
        "# Reshape the arrays for Keras"
      ],
      "metadata": {
        "id": "QH1ZOFAcSIX2"
      }
    },
    {
      "cell_type": "code",
      "source": [
        "XtrnN.shape"
      ],
      "metadata": {
        "id": "kb2VmJ0TREBY",
        "colab": {
          "base_uri": "https://localhost:8080/"
        },
        "outputId": "c4891d7a-63f8-48a7-c252-38b21c1d90cc"
      },
      "execution_count": null,
      "outputs": [
        {
          "output_type": "execute_result",
          "data": {
            "text/plain": [
              "(60000, 28, 28)"
            ]
          },
          "metadata": {},
          "execution_count": 12
        }
      ]
    },
    {
      "cell_type": "code",
      "source": [
        "def reshape_for_keras(array):\n",
        "  reshaped_array = array[..., None]\n",
        "  return reshaped_array\n",
        "\n",
        "XtrnNR = reshape_for_keras(XtrnN)\n",
        "XtstNR = reshape_for_keras(XtstN)\n",
        "\n",
        "XtrnNR.shape"
      ],
      "metadata": {
        "colab": {
          "base_uri": "https://localhost:8080/"
        },
        "id": "tyF_7B-hHTlp",
        "outputId": "2212c564-fa06-48fa-8f42-1a27104dc439"
      },
      "execution_count": null,
      "outputs": [
        {
          "output_type": "execute_result",
          "data": {
            "text/plain": [
              "(60000, 28, 28, 1)"
            ]
          },
          "metadata": {},
          "execution_count": 13
        }
      ]
    },
    {
      "cell_type": "markdown",
      "source": [
        "# One-hot encode the image labels"
      ],
      "metadata": {
        "id": "EbKTdfYeSK72"
      }
    },
    {
      "cell_type": "code",
      "source": [
        "YtrnOH = keras.utils.to_categorical(Ytrn, 10)\n",
        "\n",
        "YtrnOH.shape"
      ],
      "metadata": {
        "id": "GtTQHFepRONH",
        "colab": {
          "base_uri": "https://localhost:8080/"
        },
        "outputId": "972fab62-3216-4849-9a13-f5b1be077523"
      },
      "execution_count": null,
      "outputs": [
        {
          "output_type": "execute_result",
          "data": {
            "text/plain": [
              "(60000, 10)"
            ]
          },
          "metadata": {},
          "execution_count": 14
        }
      ]
    },
    {
      "cell_type": "markdown",
      "source": [
        "# But wait we don't need the image labels...\n",
        "\n",
        "### The training set will be the images at half resolution, and the model will try to up-sample the images to the original resolution... `Xtrn` should be the same 60,000 images at half resolution, but `Ytrn` should be those same images at the original resolution. We will do the same operations for the testing set."
      ],
      "metadata": {
        "id": "_S-EMSNOSNLu"
      }
    },
    {
      "cell_type": "markdown",
      "source": [
        "# Construct dataset for superresolution, not image classification"
      ],
      "metadata": {
        "id": "SQL_p2chUiaj"
      }
    },
    {
      "cell_type": "code",
      "source": [
        "def build_superresolution_dataset_from_mnist(X):\n",
        "  Xnew = deepcopy(X)[:, ::2, ::2, :]\n",
        "  Ynew = deepcopy(X)\n",
        "\n",
        "  return Xnew, Ynew\n",
        "\n",
        "XtrnSR, YtrnSR = build_superresolution_dataset_from_mnist(XtrnNR)\n",
        "XtstSR, YtstSR = build_superresolution_dataset_from_mnist(XtstNR)\n",
        "\n",
        "XtrnSR.shape, YtrnSR.shape, XtstSR.shape, YtstSR.shape"
      ],
      "metadata": {
        "id": "rBk9ZWqPSSoz",
        "colab": {
          "base_uri": "https://localhost:8080/"
        },
        "outputId": "5e128ca9-7ae7-4954-90cf-7a4efd08f77e"
      },
      "execution_count": null,
      "outputs": [
        {
          "output_type": "execute_result",
          "data": {
            "text/plain": [
              "((60000, 14, 14, 1),\n",
              " (60000, 28, 28, 1),\n",
              " (10000, 14, 14, 1),\n",
              " (10000, 28, 28, 1))"
            ]
          },
          "metadata": {},
          "execution_count": 15
        }
      ]
    },
    {
      "cell_type": "markdown",
      "source": [
        "# Visualize the new dataset"
      ],
      "metadata": {
        "id": "OuAwvxvmUn3_"
      }
    },
    {
      "cell_type": "code",
      "source": [
        "plot_images(XtrnSR[:, :, :, 0], Ytrn, vmax=1)"
      ],
      "metadata": {
        "id": "XZYF2GJHTllR",
        "colab": {
          "base_uri": "https://localhost:8080/",
          "height": 806
        },
        "outputId": "3992d392-7f7d-4348-a489-0ddd4faf2a1c"
      },
      "execution_count": null,
      "outputs": [
        {
          "output_type": "display_data",
          "data": {
            "text/plain": [
              "<Figure size 800x800 with 25 Axes>"
            ],
            "image/png": "[encoded data removed]"
          },
          "metadata": {}
        }
      ]
    },
    {
      "cell_type": "markdown",
      "source": [
        "^this is the half resolution\n",
        "\n",
        "\n",
        "we don't need one hot encoding btw...\n",
        "\n",
        "\n",
        "Initially, it was not working / was not plotting the resolution numbers. Then, Willow changed it.\n",
        "\n",
        "\n",
        "\n",
        "we need ydata to be in original resolution;\n",
        "\n",
        "we want model that takes image and double the resolution"
      ],
      "metadata": {
        "id": "2tZqMyEoI89U"
      }
    },
    {
      "cell_type": "markdown",
      "source": [
        "# Build the CNN autoencoder"
      ],
      "metadata": {
        "id": "TfehgOBqdDRw"
      }
    },
    {
      "cell_type": "code",
      "source": [
        "#this is the meat\n",
        "\n",
        "\n",
        "def build_cnn_autoencoder(input_shape):\n",
        "  inputs = layers.Input(shape=input_shape)\n",
        "\n",
        "  #The encoder\n",
        "  x = layers.Conv2D(16, kernel_size=(3,3), padding = 'same', activation = 'relu')(inputs) #give previous layer\n",
        "  x = layers.Conv2D(8, kernel_size=(3,3), padding='same', activation = 'relu')(x)\n",
        "  x = layers.Conv2D(4, kernel_size=(3,3), padding='same', activation = 'relu')(x)\n",
        "  x= layers.MaxPooling2D(pool_size=(2,2))(x) #this layer flattened\n",
        "\n",
        "  shape = x.shape\n",
        "  num_neurons = shape[1] * shape[2] *shape[3]\n",
        "\n",
        "  #The Latent space\n",
        "  x = layers.Flatten()(x)\n",
        "  LS = layers.Dense(16, activation = \"relu\")(x)\n",
        "  x = layers.Dense(num_neurons, activation = 'relu')(LS)\n",
        "  x = layers.Reshape(shape[1:])(x)\n",
        "\n",
        "\n",
        "  #The decoder\n",
        "  x = layers.Conv2DTranspose(4, kernel_size=(3,3), padding = 'same', activation = 'relu')(x)\n",
        "  x = layers.Conv2DTranspose(8, kernel_size=(3,3), padding='same', activation='relu')(x)\n",
        "  x = layers.Conv2DTranspose(16, kernel_size=(3,3), padding = 'same', activation = 'relu')(x)\n",
        "\n",
        "  x = layers.UpSampling2D(size=(2,2))(x)\n",
        "\n",
        "  #more transposed Conv layers\n",
        "\n",
        "\n",
        "  x = layers.Conv2DTranspose(16, kernel_size=(3,3), padding='same', activation = 'relu')(x)\n",
        "  x = layers.Conv2DTranspose(16, kernel_size=(3,3), padding='same', activation = 'relu')(x)\n",
        "  x = layers.Conv2DTranspose(16, kernel_size=(3,3), padding='same', activation = 'relu')(x)\n",
        "  x = layers.UpSampling2D(size=(2,2))(x)\n",
        "  x = layers.Conv2DTranspose(16, kernel_size=(3,3), padding='same', activation = 'sigmoid')(x)\n",
        "  x = layers.Conv2DTranspose(16, kernel_size=(3,3), padding='same', activation = 'sigmoid')(x)\n",
        "  outputs = layers.Conv2DTranspose(1, kernel_size=(3,3), padding = 'same', activation='sigmoid')(x)\n",
        "\n",
        "\n",
        "  model = keras.Model(inputs, outputs)\n",
        "\n",
        "  encoder = keras.Model(inputs, LS)\n",
        "  decoder = keras.Model(LS, outputs)\n",
        "\n",
        "  return model, encoder, decoder\n",
        "\n",
        "\n",
        "input_shape = XtrnSR.shape[1:]\n",
        "model, encoder, decoder = build_cnn_autoencoder(input_shape)\n",
        "model.summary()\n",
        "\n",
        "\n",
        "\n"
      ],
      "metadata": {
        "id": "5eIGf4EVRZBJ",
        "colab": {
          "base_uri": "https://localhost:8080/"
        },
        "outputId": "6e998efb-0a9b-49f8-c642-0d7f3c6b90be"
      },
      "execution_count": null,
      "outputs": [
        {
          "output_type": "stream",
          "name": "stdout",
          "text": [
            "Model: \"model_6\"\n",
            "_________________________________________________________________\n",
            " Layer (type)                Output Shape              Param #   \n",
            "=================================================================\n",
            " input_6 (InputLayer)        [(None, 14, 14, 1)]       0         \n",
            "                                                                 \n",
            " conv2d_9 (Conv2D)           (None, 14, 14, 16)        160       \n",
            "                                                                 \n",
            " conv2d_10 (Conv2D)          (None, 14, 14, 8)         1160      \n",
            "                                                                 \n",
            " conv2d_11 (Conv2D)          (None, 14, 14, 4)         292       \n",
            "                                                                 \n",
            " max_pooling2d_2 (MaxPoolin  (None, 7, 7, 4)           0         \n",
            " g2D)                                                            \n",
            "                                                                 \n",
            " flatten_2 (Flatten)         (None, 196)               0         \n",
            "                                                                 \n",
            " dense_4 (Dense)             (None, 16)                3152      \n",
            "                                                                 \n",
            " dense_5 (Dense)             (None, 196)               3332      \n",
            "                                                                 \n",
            " reshape_2 (Reshape)         (None, 7, 7, 4)           0         \n",
            "                                                                 \n",
            " conv2d_transpose_18 (Conv2  (None, 7, 7, 4)           148       \n",
            " DTranspose)                                                     \n",
            "                                                                 \n",
            " conv2d_transpose_19 (Conv2  (None, 7, 7, 8)           296       \n",
            " DTranspose)                                                     \n",
            "                                                                 \n",
            " conv2d_transpose_20 (Conv2  (None, 7, 7, 16)          1168      \n",
            " DTranspose)                                                     \n",
            "                                                                 \n",
            " up_sampling2d_2 (UpSamplin  (None, 14, 14, 16)        0         \n",
            " g2D)                                                            \n",
            "                                                                 \n",
            " conv2d_transpose_21 (Conv2  (None, 14, 14, 16)        2320      \n",
            " DTranspose)                                                     \n",
            "                                                                 \n",
            " conv2d_transpose_22 (Conv2  (None, 14, 14, 16)        2320      \n",
            " DTranspose)                                                     \n",
            "                                                                 \n",
            " conv2d_transpose_23 (Conv2  (None, 14, 14, 16)        2320      \n",
            " DTranspose)                                                     \n",
            "                                                                 \n",
            " up_sampling2d_3 (UpSamplin  (None, 28, 28, 16)        0         \n",
            " g2D)                                                            \n",
            "                                                                 \n",
            " conv2d_transpose_24 (Conv2  (None, 28, 28, 16)        2320      \n",
            " DTranspose)                                                     \n",
            "                                                                 \n",
            " conv2d_transpose_25 (Conv2  (None, 28, 28, 16)        2320      \n",
            " DTranspose)                                                     \n",
            "                                                                 \n",
            " conv2d_transpose_26 (Conv2  (None, 28, 28, 1)         145       \n",
            " DTranspose)                                                     \n",
            "                                                                 \n",
            "=================================================================\n",
            "Total params: 21453 (83.80 KB)\n",
            "Trainable params: 21453 (83.80 KB)\n",
            "Non-trainable params: 0 (0.00 Byte)\n",
            "_________________________________________________________________\n"
          ]
        }
      ]
    },
    {
      "cell_type": "markdown",
      "source": [
        "# Train the model (use a GPU)"
      ],
      "metadata": {
        "id": "e9dOm3UVdFbF"
      }
    },
    {
      "cell_type": "markdown",
      "source": [
        "^go to runtime, then change runtime type. then select GPU"
      ],
      "metadata": {
        "id": "G1P6NazrN268"
      }
    },
    {
      "cell_type": "code",
      "source": [
        "model.compile(loss='mse', optimizer='adam')\n",
        "\n",
        "history = model.fit(XtrnSR, YtrnSR, batch_size = 256, epochs=15, validation_split=0.1)"
      ],
      "metadata": {
        "id": "NTgClN6JWu3G",
        "colab": {
          "base_uri": "https://localhost:8080/"
        },
        "outputId": "2860380f-1506-4b0f-9cbb-ebbf5e9731a6"
      },
      "execution_count": null,
      "outputs": [
        {
          "output_type": "stream",
          "name": "stdout",
          "text": [
            "Epoch 1/15\n",
            "211/211 [==============================] - 18s 18ms/step - loss: 0.0803 - val_loss: 0.0570\n",
            "Epoch 2/15\n",
            "211/211 [==============================] - 3s 14ms/step - loss: 0.0462 - val_loss: 0.0386\n",
            "Epoch 3/15\n",
            "211/211 [==============================] - 3s 15ms/step - loss: 0.0331 - val_loss: 0.0284\n",
            "Epoch 4/15\n",
            "211/211 [==============================] - 3s 13ms/step - loss: 0.0269 - val_loss: 0.0252\n",
            "Epoch 5/15\n",
            "211/211 [==============================] - 3s 13ms/step - loss: 0.0245 - val_loss: 0.0233\n",
            "Epoch 6/15\n",
            "211/211 [==============================] - 3s 13ms/step - loss: 0.0230 - val_loss: 0.0220\n",
            "Epoch 7/15\n",
            "211/211 [==============================] - 3s 14ms/step - loss: 0.0218 - val_loss: 0.0210\n",
            "Epoch 8/15\n",
            "211/211 [==============================] - 3s 15ms/step - loss: 0.0208 - val_loss: 0.0202\n",
            "Epoch 9/15\n",
            "211/211 [==============================] - 3s 13ms/step - loss: 0.0201 - val_loss: 0.0200\n",
            "Epoch 10/15\n",
            "211/211 [==============================] - 3s 13ms/step - loss: 0.0194 - val_loss: 0.0189\n",
            "Epoch 11/15\n",
            "211/211 [==============================] - 3s 13ms/step - loss: 0.0190 - val_loss: 0.0188\n",
            "Epoch 12/15\n",
            "211/211 [==============================] - 3s 15ms/step - loss: 0.0186 - val_loss: 0.0183\n",
            "Epoch 13/15\n",
            "211/211 [==============================] - 3s 14ms/step - loss: 0.0182 - val_loss: 0.0183\n",
            "Epoch 14/15\n",
            "211/211 [==============================] - 3s 13ms/step - loss: 0.0179 - val_loss: 0.0181\n",
            "Epoch 15/15\n",
            "211/211 [==============================] - 3s 13ms/step - loss: 0.0177 - val_loss: 0.0173\n"
          ]
        }
      ]
    },
    {
      "cell_type": "markdown",
      "source": [
        "# Visualize loss curve"
      ],
      "metadata": {
        "id": "jCtssCsCghLu"
      }
    },
    {
      "cell_type": "code",
      "source": [
        "#loss should be going down"
      ],
      "metadata": {
        "id": "y36uoQebmCpA"
      },
      "execution_count": null,
      "outputs": []
    },
    {
      "cell_type": "markdown",
      "source": [
        "# Visualize the predictions"
      ],
      "metadata": {
        "id": "1YvnvNBhdIMW"
      }
    },
    {
      "cell_type": "code",
      "source": [
        "PtstSR = model.predict(XtstSR)\n",
        "PtstSR.shape"
      ],
      "metadata": {
        "id": "zIEoOmPiZ_Sg",
        "colab": {
          "base_uri": "https://localhost:8080/"
        },
        "outputId": "36e0dd3f-e538-487d-a384-2532b43960be"
      },
      "execution_count": null,
      "outputs": [
        {
          "output_type": "stream",
          "name": "stdout",
          "text": [
            "313/313 [==============================] - 1s 3ms/step\n"
          ]
        },
        {
          "output_type": "execute_result",
          "data": {
            "text/plain": [
              "(10000, 28, 28, 1)"
            ]
          },
          "metadata": {},
          "execution_count": 26
        }
      ]
    },
    {
      "cell_type": "code",
      "source": [
        "plot_images(XtstSR[..., 0], Ytst, nrows=1, ncols = 8, vmax=1)"
      ],
      "metadata": {
        "id": "73a4iYicbVP0",
        "colab": {
          "base_uri": "https://localhost:8080/",
          "height": 142
        },
        "outputId": "0b562a14-855c-4b7b-c46e-a8857b308501"
      },
      "execution_count": null,
      "outputs": [
        {
          "output_type": "display_data",
          "data": {
            "text/plain": [
              "<Figure size 800x800 with 8 Axes>"
            ],
            "image/png": "[encoded data removed]"
          },
          "metadata": {}
        }
      ]
    },
    {
      "cell_type": "code",
      "source": [
        "plot_images(YtstSR[..., 0], Ytst, nrows = 1, ncols = 8, vmax = 1)"
      ],
      "metadata": {
        "id": "jjq6VYGeaoqN",
        "colab": {
          "base_uri": "https://localhost:8080/",
          "height": 142
        },
        "outputId": "5511b23b-9707-4aad-c0cf-daca98067daa"
      },
      "execution_count": null,
      "outputs": [
        {
          "output_type": "display_data",
          "data": {
            "text/plain": [
              "<Figure size 800x800 with 8 Axes>"
            ],
            "image/png": "[encoded data removed]"
          },
          "metadata": {}
        }
      ]
    },
    {
      "cell_type": "code",
      "source": [
        "plot_images(PtstSR[..., 0], Ytst, nrows = 1, ncols = 8, vmax = 1)"
      ],
      "metadata": {
        "id": "7sgzfBxPa3fV",
        "colab": {
          "base_uri": "https://localhost:8080/",
          "height": 142
        },
        "outputId": "63c0a8cb-5e71-4983-e21a-f9fad2f65490"
      },
      "execution_count": null,
      "outputs": [
        {
          "output_type": "display_data",
          "data": {
            "text/plain": [
              "<Figure size 800x800 with 8 Axes>"
            ],
            "image/png": "[encoded data removed]"
          },
          "metadata": {}
        }
      ]
    },
    {
      "cell_type": "markdown",
      "source": [
        "we've build super=resolution autoencoder"
      ],
      "metadata": {
        "id": "y_rir7qXPicr"
      }
    },
    {
      "cell_type": "markdown",
      "source": [
        "# Visualize the early layers"
      ],
      "metadata": {
        "id": "PWOoDXjOl4JM"
      }
    },
    {
      "cell_type": "code",
      "source": [
        "model.layers[1].get_weights()[0].shape"
      ],
      "metadata": {
        "id": "W8OSOKV4ogFz",
        "colab": {
          "base_uri": "https://localhost:8080/"
        },
        "outputId": "2b8d0825-29e4-4e10-bfcb-0c2794d1a6c1"
      },
      "execution_count": null,
      "outputs": [
        {
          "output_type": "execute_result",
          "data": {
            "text/plain": [
              "(3, 3, 1, 16)"
            ]
          },
          "metadata": {},
          "execution_count": 35
        }
      ]
    },
    {
      "cell_type": "markdown",
      "source": [
        "3 by 3 here\n",
        "\n",
        "we had 16 filters. that's the 16 here.\n"
      ],
      "metadata": {
        "id": "XFhv6ZBVQTJ8"
      }
    },
    {
      "cell_type": "markdown",
      "source": [
        "# Visualize the latent space with the encoder and decoder on their own"
      ],
      "metadata": {
        "id": "yBA74IWmdeXO"
      }
    },
    {
      "cell_type": "code",
      "source": [
        "#just the encoder and the decoder\n",
        "\n",
        "#Willow shows, check class recording\n",
        "\n",
        "\n",
        "#also input something to decode and see what happens"
      ],
      "metadata": {
        "id": "llfM7QbAbOns"
      },
      "execution_count": null,
      "outputs": []
    },
    {
      "cell_type": "code",
      "source": [],
      "metadata": {
        "id": "ltZGX-Jgd96g"
      },
      "execution_count": null,
      "outputs": []
    },
    {
      "cell_type": "code",
      "source": [],
      "metadata": {
        "id": "jlU5stuJeED1"
      },
      "execution_count": null,
      "outputs": []
    },
    {
      "cell_type": "markdown",
      "source": [
        "# Find the average latent space representation for each digit"
      ],
      "metadata": {
        "id": "7Th9g_8xsIRA"
      }
    },
    {
      "cell_type": "markdown",
      "source": [
        "# Decode latent space representations with the decoder"
      ],
      "metadata": {
        "id": "OyXR1YJ9sL0W"
      }
    },
    {
      "cell_type": "code",
      "source": [],
      "metadata": {
        "id": "m13lhu0SdxJ8"
      },
      "execution_count": null,
      "outputs": []
    },
    {
      "cell_type": "code",
      "source": [],
      "metadata": {
        "id": "_kFN0xDQfo9k"
      },
      "execution_count": null,
      "outputs": []
    },
    {
      "cell_type": "code",
      "source": [],
      "metadata": {
        "id": "zUyI6MJkftue"
      },
      "execution_count": null,
      "outputs": []
    },
    {
      "cell_type": "markdown",
      "source": [
        "# What if we input something in the latent space by hand and then decode it?"
      ],
      "metadata": {
        "id": "38mBopGng7PY"
      }
    },
    {
      "cell_type": "code",
      "source": [],
      "metadata": {
        "id": "MVp5P3UFinnT"
      },
      "execution_count": null,
      "outputs": []
    },
    {
      "cell_type": "code",
      "source": [],
      "metadata": {
        "id": "l5arjDQ0hlAE"
      },
      "execution_count": null,
      "outputs": []
    },
    {
      "cell_type": "code",
      "source": [],
      "metadata": {
        "id": "kEGBOQjKhzSs"
      },
      "execution_count": null,
      "outputs": []
    }
  ]
}